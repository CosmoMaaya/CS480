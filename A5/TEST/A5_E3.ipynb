{
  "nbformat": 4,
  "nbformat_minor": 0,
  "metadata": {
    "colab": {
      "name": "A5_E3.ipynb",
      "provenance": [],
      "collapsed_sections": []
    },
    "kernelspec": {
      "name": "python3",
      "display_name": "Python 3"
    },
    "language_info": {
      "name": "python"
    }
  },
  "cells": [
    {
      "cell_type": "code",
      "execution_count": 1,
      "metadata": {
        "id": "55g-xy3dV2oG"
      },
      "outputs": [],
      "source": [
        "import matplotlib.pyplot as plt\n",
        "import numpy as np"
      ]
    },
    {
      "cell_type": "markdown",
      "source": [
        "## Exercise 3"
      ],
      "metadata": {
        "id": "ZzXwOeUlWELd"
      }
    },
    {
      "cell_type": "markdown",
      "source": [
        "### part a"
      ],
      "metadata": {
        "id": "sGspjBiDJjZy"
      }
    },
    {
      "cell_type": "code",
      "source": [
        "def generate_data_A(n, d):\n",
        "    I = np.identity(d)\n",
        "    mean = np.zeros(d)\n",
        "    data = np.random.multivariate_normal(mean, I, n)\n",
        "    return data\n",
        "\n",
        "def empirical_mean(data, n):\n",
        "    emp_mean = np.sum(data, axis = 0) * (1/n)\n",
        "    return emp_mean"
      ],
      "metadata": {
        "id": "1yAoti7bh8y0"
      },
      "execution_count": 2,
      "outputs": []
    },
    {
      "cell_type": "code",
      "source": [
        "def t_opt(n, X, Y, emp_mean):\n",
        "    X_dot = np.dot(X, emp_mean)\n",
        "    Y_dot = np.dot(Y, emp_mean)\n",
        "    XY_dot = np.concatenate((X_dot,Y_dot),axis=0)\n",
        "    highest_acc = 0\n",
        "    for thre in XY_dot:\n",
        "        X_true = np.array([x for x in X_dot if x >= thre])\n",
        "        Y_true = np.array([x for x in Y_dot if x < thre])\n",
        "\n",
        "        acc = (X_true.shape[0] + Y_true.shape[0])/XY_dot.shape[0]\n",
        "        if acc > highest_acc:\n",
        "            highest_acc = acc\n",
        "            threshold = thre\n",
        "    # print(highest_acc)\n",
        "    return float(threshold), float(highest_acc)"
      ],
      "metadata": {
        "id": "AQAZ69rdt23D"
      },
      "execution_count": 3,
      "outputs": []
    },
    {
      "cell_type": "code",
      "source": [
        "def find_t_a(n):\n",
        "    dim = [i for i in range(10, 501)]\n",
        "    thresholds = []\n",
        "    accuracies = []\n",
        "    for d in dim:\n",
        "        X = generate_data_A(n, d)\n",
        "        Y = generate_data_A(n, d)\n",
        "        emp_mean = empirical_mean(X, n)\n",
        "        t, acc = t_opt(n, X, Y, emp_mean)\n",
        "        # print(\"At d = {}\\tThe threshold is {} and the accuracy is {}\".format(d, t, acc))\n",
        "        thresholds.append(t)\n",
        "        accuracies.append(acc)\n",
        "    return thresholds, accuracies"
      ],
      "metadata": {
        "id": "7MDZiD2-0h87"
      },
      "execution_count": 4,
      "outputs": []
    },
    {
      "cell_type": "code",
      "source": [
        "thresholds, accuracies = find_t_a(50)"
      ],
      "metadata": {
        "id": "uTCSm9rGIA-r"
      },
      "execution_count": 5,
      "outputs": []
    },
    {
      "cell_type": "code",
      "source": [
        "dim = [i for i in range(10, 501)]\n",
        "plt.plot(dim, accuracies)\n",
        "plt.title(\"Accuracy vs Dimension part A\")\n",
        "plt.xlabel(\"Dimension\")\n",
        "plt.ylabel(\"Accuracy\")\n",
        "# plt.xticks(accuracies,dim)\n",
        "plt.show()"
      ],
      "metadata": {
        "colab": {
          "base_uri": "https://localhost:8080/",
          "height": 295
        },
        "id": "NsWmvfocio_P",
        "outputId": "6289bc5b-66e3-4af3-9827-dc8318fd4412"
      },
      "execution_count": 6,
      "outputs": [
        {
          "output_type": "display_data",
          "data": {
            "text/plain": [
              "<Figure size 432x288 with 1 Axes>"
            ],
            "image/png": "[encoded data removed]"
          },
          "metadata": {
            "needs_background": "light"
          }
        }
      ]
    },
    {
      "cell_type": "code",
      "source": [
        "def acc_calc_A(X, Y, emp_mean, thre):\n",
        "    X_dot = np.dot(X, emp_mean)\n",
        "    Y_dot = np.dot(Y, emp_mean)\n",
        "    X_true = np.array([x for x in X_dot if x >= thre])\n",
        "    Y_true = np.array([x for x in Y_dot if x < thre])\n",
        "\n",
        "    acc = (X_true.shape[0] + Y_true.shape[0])/(X.shape[0] + Y.shape[0])\n",
        "    return acc"
      ],
      "metadata": {
        "id": "408OqDRbXrd2"
      },
      "execution_count": 7,
      "outputs": []
    },
    {
      "cell_type": "code",
      "source": [
        "def generalization_A(n, thresholds):\n",
        "    accuracies = []\n",
        "    # np.random.seed(2)\n",
        "    dim = [i for i in range(10, 501)]\n",
        "    for i in range(len(dim)):\n",
        "        X = generate_data_A(n, dim[i])\n",
        "        Y = generate_data_A(n, dim[i])\n",
        "        emp_mean = empirical_mean(X, n)\n",
        "        acc = acc_calc_A(X, Y, emp_mean, thresholds[i])\n",
        "        accuracies.append(acc)\n",
        "    \n",
        "    return accuracies"
      ],
      "metadata": {
        "id": "TtIMS6ZnXEb2"
      },
      "execution_count": 8,
      "outputs": []
    },
    {
      "cell_type": "code",
      "source": [
        "generalized_accuracies = generalization_A(50, thresholds)"
      ],
      "metadata": {
        "id": "cf1kjmkFdh1m"
      },
      "execution_count": 9,
      "outputs": []
    },
    {
      "cell_type": "code",
      "source": [
        "dim = [i for i in range(10, 501)]\n",
        "# plt.plot(dim, accuracies)\n",
        "plt.plot(dim, generalized_accuracies)\n",
        "plt.title(\"Generalized Accuracy vs Dimension part A\")\n",
        "plt.xlabel(\"Dimension\")\n",
        "plt.ylabel(\"Generalized Accuracy\")\n",
        "# plt.xlim([10, 500])\n",
        "plt.show()"
      ],
      "metadata": {
        "colab": {
          "base_uri": "https://localhost:8080/",
          "height": 295
        },
        "id": "55ZLulGOdrhY",
        "outputId": "280ebec6-68c4-41ad-8630-f6e9a5b35197"
      },
      "execution_count": 10,
      "outputs": [
        {
          "output_type": "display_data",
          "data": {
            "text/plain": [
              "<Figure size 432x288 with 1 Axes>"
            ],
            "image/png": "[encoded data removed]"
          },
          "metadata": {
            "needs_background": "light"
          }
        }
      ]
    },
    {
      "cell_type": "code",
      "source": [
        "def acc_calc_mia(X, Y, mu_t):\n",
        "    X_dot = np.dot(X, mu_t)\n",
        "    Y_dot = np.dot(Y, mu_t)\n",
        "    XY_dot = np.concatenate((X_dot,Y_dot),axis=0)\n",
        "    for thre in XY_dot:\n",
        "        X_true = np.array([x for x in X_dot if x >= thre])\n",
        "        Y_true = np.array([x for x in Y_dot if x < thre])\n",
        "        acc = (X_true.shape[0] + Y_true.shape[0])/XY_dot.shape[0]\n",
        "        L2_mu = float(np.linalg.norm(mu_t, ord=2))\n",
        "    return acc, L2_mu"
      ],
      "metadata": {
        "id": "cAkDfRGcoXyl"
      },
      "execution_count": 11,
      "outputs": []
    },
    {
      "cell_type": "code",
      "source": [
        "def protect_mia(n):\n",
        "    # initial\n",
        "    sigmas2 = [0.1,0.2,0.3,0.4,0.5,0.6,0.7,0.8,0.9,1]\n",
        "    d = 50\n",
        "    mean = np.zeros(d)\n",
        "    I = np.identity(d)\n",
        "\n",
        "    # dictionary store the highest accuracy and the corresponding threshold\n",
        "    ave_acc = dict()\n",
        "    L2_mean = dict()\n",
        "    # for each sigmas^2 initial accuracy and threshold as 0\n",
        "    for s in sigmas2:\n",
        "        ave_acc[s] = 0\n",
        "        L2_mean[s] = 0\n",
        "        for count in range(1000):\n",
        "            X = generate_data_A(n, d)\n",
        "            Y = generate_data_A(n, d)\n",
        "            emp_mean = empirical_mean(X, n)\n",
        "            # calc mu tilta\n",
        "            mu_dp = emp_mean + np.random.multivariate_normal(mean, I * s, 1).reshape((d,))\n",
        "            acc, L2_mu = acc_calc_mia(X, Y, mu_dp)\n",
        "            ave_acc[s] += acc\n",
        "            # thresholds[s] = thre_count\n",
        "            L2_mean[s] += L2_mu\n",
        "        ave_acc[s] /= 1000\n",
        "        L2_mean[s] /= 1000\n",
        "    \n",
        "    print(ave_acc, L2_mean)\n",
        "            \n",
        "    return ave_acc, L2_mean"
      ],
      "metadata": {
        "id": "FdMNpIkfSR0X"
      },
      "execution_count": 12,
      "outputs": []
    },
    {
      "cell_type": "code",
      "source": [
        "ave_acc, L2_mean = protect_mia(50)"
      ],
      "metadata": {
        "colab": {
          "base_uri": "https://localhost:8080/"
        },
        "id": "Xdnq3uDinh9k",
        "outputId": "dd9b9811-3ade-4b6f-a60e-589790b19cca"
      },
      "execution_count": 13,
      "outputs": [
        {
          "output_type": "stream",
          "name": "stdout",
          "text": [
            "{0.1: 0.5519699999999991, 0.2: 0.5343799999999985, 0.3: 0.5296899999999988, 0.4: 0.5275399999999991, 0.5: 0.5252299999999999, 0.6: 0.5195199999999991, 0.7: 0.518339999999999, 0.8: 0.5173499999999992, 0.9: 0.5156799999999994, 1: 0.51388} {0.1: 2.4307881116159695, 0.2: 3.2875148839334716, 0.3: 3.9636245661629057, 0.4: 4.552550990422171, 0.5: 5.061834364906931, 0.6: 5.536126583002459, 0.7: 5.988489180775398, 0.8: 6.349643986901724, 0.9: 6.734323433577196, 1: 7.098591578169375}\n"
          ]
        }
      ]
    },
    {
      "cell_type": "code",
      "source": [
        "sigmas2 = list(L2_mean.keys())\n",
        "mean = list(L2_mean.values())\n",
        "plt.plot(sigmas2, mean)\n",
        "plt.title(\"L2 norm of means vs sigmas square\")\n",
        "plt.xlabel(\"sigmas square\")\n",
        "plt.ylabel(\"L2 norm of means\")\n",
        "plt.show()"
      ],
      "metadata": {
        "colab": {
          "base_uri": "https://localhost:8080/",
          "height": 295
        },
        "id": "QZWQLOj7rjwy",
        "outputId": "acc6b70f-16f7-4df2-d5ca-0014c2c4eea7"
      },
      "execution_count": 14,
      "outputs": [
        {
          "output_type": "display_data",
          "data": {
            "text/plain": [
              "<Figure size 432x288 with 1 Axes>"
            ],
            "image/png": "[encoded data removed]"
          },
          "metadata": {
            "needs_background": "light"
          }
        }
      ]
    },
    {
      "cell_type": "code",
      "source": [
        "sigmas2 = list(L2_mean.keys())\n",
        "accuracy = list(ave_acc.values())\n",
        "plt.plot(sigmas2, accuracy)\n",
        "plt.title(\"accuracy vs sigmas square\")\n",
        "plt.xlabel(\"sigmas square\")\n",
        "plt.ylabel(\"accuracy\")\n",
        "plt.show()"
      ],
      "metadata": {
        "colab": {
          "base_uri": "https://localhost:8080/",
          "height": 295
        },
        "id": "64fsBMLpIU_-",
        "outputId": "e705687d-94f8-4895-f14b-cab10bc75239"
      },
      "execution_count": 15,
      "outputs": [
        {
          "output_type": "display_data",
          "data": {
            "text/plain": [
              "<Figure size 432x288 with 1 Axes>"
            ],
            "image/png": "[encoded data removed]"
          },
          "metadata": {
            "needs_background": "light"
          }
        }
      ]
    },
    {
      "cell_type": "markdown",
      "source": [
        "### part b"
      ],
      "metadata": {
        "id": "IuFYMxQXJmwX"
      }
    },
    {
      "cell_type": "code",
      "source": [
        "from sklearn.linear_model import LogisticRegression\n",
        "from keras.datasets import fashion_mnist"
      ],
      "metadata": {
        "id": "7VTzbyzWJe6a"
      },
      "execution_count": 16,
      "outputs": []
    },
    {
      "cell_type": "code",
      "source": [
        "(X_train, y_train), (X_test, y_test) = fashion_mnist.load_data()"
      ],
      "metadata": {
        "colab": {
          "base_uri": "https://localhost:8080/"
        },
        "id": "UeGd7GWaKAhS",
        "outputId": "e62ea3c1-3b80-4af9-dc75-311d3023e588"
      },
      "execution_count": 17,
      "outputs": [
        {
          "output_type": "stream",
          "name": "stdout",
          "text": [
            "Downloading data from https://storage.googleapis.com/tensorflow/tf-keras-datasets/train-labels-idx1-ubyte.gz\n",
            "32768/29515 [=================================] - 0s 0us/step\n",
            "40960/29515 [=========================================] - 0s 0us/step\n",
            "Downloading data from https://storage.googleapis.com/tensorflow/tf-keras-datasets/train-images-idx3-ubyte.gz\n",
            "26427392/26421880 [==============================] - 0s 0us/step\n",
            "26435584/26421880 [==============================] - 0s 0us/step\n",
            "Downloading data from https://storage.googleapis.com/tensorflow/tf-keras-datasets/t10k-labels-idx1-ubyte.gz\n",
            "16384/5148 [===============================================================================================] - 0s 0us/step\n",
            "Downloading data from https://storage.googleapis.com/tensorflow/tf-keras-datasets/t10k-images-idx3-ubyte.gz\n",
            "4423680/4422102 [==============================] - 0s 0us/step\n",
            "4431872/4422102 [==============================] - 0s 0us/step\n"
          ]
        }
      ]
    },
    {
      "cell_type": "code",
      "source": [
        "X_train, X_test = X_train / 255.0, X_test / 255.0\n",
        "num_pixels = X_train.shape[1] * X_train.shape[2]\n",
        "X_train = X_train.reshape(X_train.shape[0], num_pixels)\n",
        "X_test = X_test.reshape(X_test.shape[0], num_pixels)"
      ],
      "metadata": {
        "id": "zTfZONn4P4yP"
      },
      "execution_count": 18,
      "outputs": []
    },
    {
      "cell_type": "code",
      "source": [
        "N = [100, 200, 400, 800, 1600, 2500, 5000, 10000]"
      ],
      "metadata": {
        "id": "Pp4Diu_0KJ3S"
      },
      "execution_count": 19,
      "outputs": []
    },
    {
      "cell_type": "code",
      "source": [
        "def train_logistic_regression(X, y, reg, c):\n",
        "    clf = LogisticRegression(penalty=reg, C=c, max_iter = 100, tol = 0.1).fit(X, y)\n",
        "    return clf"
      ],
      "metadata": {
        "id": "2EnOEiJpLgep"
      },
      "execution_count": 20,
      "outputs": []
    },
    {
      "cell_type": "code",
      "source": [
        "def run(X_train, y_train, X_test, y_test, N, reg, c):\n",
        "    train_acc = []\n",
        "    test_acc = []\n",
        "    model = []\n",
        "    for n in N:\n",
        "        print(\"current n: \", n)\n",
        "        train_X, test_X = X_train[:n,:], X_test[:n,:]\n",
        "        train_y, test_y = y_train[:n], y_test[:n]\n",
        "        clf = train_logistic_regression(train_X, train_y, reg, c)\n",
        "        train_acc.append(clf.score(train_X, train_y))\n",
        "        test_acc.append(clf.score(test_X, test_y))\n",
        "        model.append(clf)\n",
        "    return train_acc, test_acc, model"
      ],
      "metadata": {
        "id": "NibVl0cQMfHE"
      },
      "execution_count": 21,
      "outputs": []
    },
    {
      "cell_type": "code",
      "source": [
        "train_acc_noreg, test_acc_noreg, model_noreg = run(X_train, y_train, X_test, y_test, N, 'none', 1.0)"
      ],
      "metadata": {
        "colab": {
          "base_uri": "https://localhost:8080/"
        },
        "id": "yzDR9oIYZhf4",
        "outputId": "d18b91f6-9153-44f6-f18f-a39bad248b03"
      },
      "execution_count": 22,
      "outputs": [
        {
          "output_type": "stream",
          "name": "stdout",
          "text": [
            "current n:  100\n",
            "current n:  200\n",
            "current n:  400\n",
            "current n:  800\n",
            "current n:  1600\n"
          ]
        },
        {
          "output_type": "stream",
          "name": "stderr",
          "text": [
            "/usr/local/lib/python3.7/dist-packages/sklearn/linear_model/_logistic.py:818: ConvergenceWarning: lbfgs failed to converge (status=1):\n",
            "STOP: TOTAL NO. of ITERATIONS REACHED LIMIT.\n",
            "\n",
            "Increase the number of iterations (max_iter) or scale the data as shown in:\n",
            "    https://scikit-learn.org/stable/modules/preprocessing.html\n",
            "Please also refer to the documentation for alternative solver options:\n",
            "    https://scikit-learn.org/stable/modules/linear_model.html#logistic-regression\n",
            "  extra_warning_msg=_LOGISTIC_SOLVER_CONVERGENCE_MSG,\n"
          ]
        },
        {
          "output_type": "stream",
          "name": "stdout",
          "text": [
            "current n:  2500\n"
          ]
        },
        {
          "output_type": "stream",
          "name": "stderr",
          "text": [
            "/usr/local/lib/python3.7/dist-packages/sklearn/linear_model/_logistic.py:818: ConvergenceWarning: lbfgs failed to converge (status=1):\n",
            "STOP: TOTAL NO. of ITERATIONS REACHED LIMIT.\n",
            "\n",
            "Increase the number of iterations (max_iter) or scale the data as shown in:\n",
            "    https://scikit-learn.org/stable/modules/preprocessing.html\n",
            "Please also refer to the documentation for alternative solver options:\n",
            "    https://scikit-learn.org/stable/modules/linear_model.html#logistic-regression\n",
            "  extra_warning_msg=_LOGISTIC_SOLVER_CONVERGENCE_MSG,\n"
          ]
        },
        {
          "output_type": "stream",
          "name": "stdout",
          "text": [
            "current n:  5000\n"
          ]
        },
        {
          "output_type": "stream",
          "name": "stderr",
          "text": [
            "/usr/local/lib/python3.7/dist-packages/sklearn/linear_model/_logistic.py:818: ConvergenceWarning: lbfgs failed to converge (status=1):\n",
            "STOP: TOTAL NO. of ITERATIONS REACHED LIMIT.\n",
            "\n",
            "Increase the number of iterations (max_iter) or scale the data as shown in:\n",
            "    https://scikit-learn.org/stable/modules/preprocessing.html\n",
            "Please also refer to the documentation for alternative solver options:\n",
            "    https://scikit-learn.org/stable/modules/linear_model.html#logistic-regression\n",
            "  extra_warning_msg=_LOGISTIC_SOLVER_CONVERGENCE_MSG,\n"
          ]
        },
        {
          "output_type": "stream",
          "name": "stdout",
          "text": [
            "current n:  10000\n"
          ]
        },
        {
          "output_type": "stream",
          "name": "stderr",
          "text": [
            "/usr/local/lib/python3.7/dist-packages/sklearn/linear_model/_logistic.py:818: ConvergenceWarning: lbfgs failed to converge (status=1):\n",
            "STOP: TOTAL NO. of ITERATIONS REACHED LIMIT.\n",
            "\n",
            "Increase the number of iterations (max_iter) or scale the data as shown in:\n",
            "    https://scikit-learn.org/stable/modules/preprocessing.html\n",
            "Please also refer to the documentation for alternative solver options:\n",
            "    https://scikit-learn.org/stable/modules/linear_model.html#logistic-regression\n",
            "  extra_warning_msg=_LOGISTIC_SOLVER_CONVERGENCE_MSG,\n"
          ]
        }
      ]
    },
    {
      "cell_type": "code",
      "source": [
        "plt.plot(N, train_acc_noreg, label = \"training\")\n",
        "plt.plot(N, test_acc_noreg, label = \"test\")\n",
        "plt.title(\"logistic regression accuracies no regularization\")\n",
        "plt.xlabel(\"n\")\n",
        "plt.ylabel(\"accuracy\")\n",
        "plt.legend()\n",
        "plt.show()"
      ],
      "metadata": {
        "colab": {
          "base_uri": "https://localhost:8080/",
          "height": 295
        },
        "id": "6399N0HXbtT8",
        "outputId": "e77abd5a-6a6f-4a46-8962-f672c56b2410"
      },
      "execution_count": 23,
      "outputs": [
        {
          "output_type": "display_data",
          "data": {
            "text/plain": [
              "<Figure size 432x288 with 1 Axes>"
            ],
            "image/png": "[encoded data removed]"
          },
          "metadata": {
            "needs_background": "light"
          }
        }
      ]
    },
    {
      "cell_type": "code",
      "source": [
        "train_acc_reg, test_acc_reg, model_reg = run(X_train, y_train, X_test, y_test, N, 'l2', 0.01)"
      ],
      "metadata": {
        "colab": {
          "base_uri": "https://localhost:8080/"
        },
        "id": "KgO_mqLla076",
        "outputId": "fe1e18b7-6a13-4bde-a261-6c03b91048eb"
      },
      "execution_count": 24,
      "outputs": [
        {
          "output_type": "stream",
          "name": "stdout",
          "text": [
            "current n:  100\n",
            "current n:  200\n",
            "current n:  400\n",
            "current n:  800\n",
            "current n:  1600\n"
          ]
        },
        {
          "output_type": "stream",
          "name": "stderr",
          "text": [
            "/usr/local/lib/python3.7/dist-packages/sklearn/linear_model/_logistic.py:818: ConvergenceWarning: lbfgs failed to converge (status=1):\n",
            "STOP: TOTAL NO. of ITERATIONS REACHED LIMIT.\n",
            "\n",
            "Increase the number of iterations (max_iter) or scale the data as shown in:\n",
            "    https://scikit-learn.org/stable/modules/preprocessing.html\n",
            "Please also refer to the documentation for alternative solver options:\n",
            "    https://scikit-learn.org/stable/modules/linear_model.html#logistic-regression\n",
            "  extra_warning_msg=_LOGISTIC_SOLVER_CONVERGENCE_MSG,\n"
          ]
        },
        {
          "output_type": "stream",
          "name": "stdout",
          "text": [
            "current n:  2500\n"
          ]
        },
        {
          "output_type": "stream",
          "name": "stderr",
          "text": [
            "/usr/local/lib/python3.7/dist-packages/sklearn/linear_model/_logistic.py:818: ConvergenceWarning: lbfgs failed to converge (status=1):\n",
            "STOP: TOTAL NO. of ITERATIONS REACHED LIMIT.\n",
            "\n",
            "Increase the number of iterations (max_iter) or scale the data as shown in:\n",
            "    https://scikit-learn.org/stable/modules/preprocessing.html\n",
            "Please also refer to the documentation for alternative solver options:\n",
            "    https://scikit-learn.org/stable/modules/linear_model.html#logistic-regression\n",
            "  extra_warning_msg=_LOGISTIC_SOLVER_CONVERGENCE_MSG,\n"
          ]
        },
        {
          "output_type": "stream",
          "name": "stdout",
          "text": [
            "current n:  5000\n"
          ]
        },
        {
          "output_type": "stream",
          "name": "stderr",
          "text": [
            "/usr/local/lib/python3.7/dist-packages/sklearn/linear_model/_logistic.py:818: ConvergenceWarning: lbfgs failed to converge (status=1):\n",
            "STOP: TOTAL NO. of ITERATIONS REACHED LIMIT.\n",
            "\n",
            "Increase the number of iterations (max_iter) or scale the data as shown in:\n",
            "    https://scikit-learn.org/stable/modules/preprocessing.html\n",
            "Please also refer to the documentation for alternative solver options:\n",
            "    https://scikit-learn.org/stable/modules/linear_model.html#logistic-regression\n",
            "  extra_warning_msg=_LOGISTIC_SOLVER_CONVERGENCE_MSG,\n"
          ]
        },
        {
          "output_type": "stream",
          "name": "stdout",
          "text": [
            "current n:  10000\n"
          ]
        },
        {
          "output_type": "stream",
          "name": "stderr",
          "text": [
            "/usr/local/lib/python3.7/dist-packages/sklearn/linear_model/_logistic.py:818: ConvergenceWarning: lbfgs failed to converge (status=1):\n",
            "STOP: TOTAL NO. of ITERATIONS REACHED LIMIT.\n",
            "\n",
            "Increase the number of iterations (max_iter) or scale the data as shown in:\n",
            "    https://scikit-learn.org/stable/modules/preprocessing.html\n",
            "Please also refer to the documentation for alternative solver options:\n",
            "    https://scikit-learn.org/stable/modules/linear_model.html#logistic-regression\n",
            "  extra_warning_msg=_LOGISTIC_SOLVER_CONVERGENCE_MSG,\n"
          ]
        }
      ]
    },
    {
      "cell_type": "code",
      "source": [
        "plt.plot(N, train_acc_reg, label = \"training\")\n",
        "plt.plot(N, test_acc_reg, label = \"test\")\n",
        "plt.title(\"logistic regression accuracies regularization\")\n",
        "plt.xlabel(\"n\")\n",
        "plt.ylabel(\"accuracy\")\n",
        "plt.legend()\n",
        "plt.show()"
      ],
      "metadata": {
        "colab": {
          "base_uri": "https://localhost:8080/",
          "height": 295
        },
        "id": "nihgLCfQcFhx",
        "outputId": "0846f1c5-6c90-47da-9e43-4c3a6bd51441"
      },
      "execution_count": 25,
      "outputs": [
        {
          "output_type": "display_data",
          "data": {
            "text/plain": [
              "<Figure size 432x288 with 1 Axes>"
            ],
            "image/png": "[encoded data removed]"
          },
          "metadata": {
            "needs_background": "light"
          }
        }
      ]
    },
    {
      "cell_type": "code",
      "source": [
        "def split_dataset(n, X_train, X_test, y_train, y_test):\n",
        "    train_X, test_X = X_train[:n,:], X_test[:n,:]\n",
        "    train_y, test_y = y_train[:n], y_test[:n]\n",
        "    return train_X, test_X, train_y, test_y"
      ],
      "metadata": {
        "id": "TZIwmGUVgFXo"
      },
      "execution_count": 26,
      "outputs": []
    },
    {
      "cell_type": "code",
      "source": [
        "def clf_attack(N, X_train, X_test, y_train, y_test, model, reg, c):\n",
        "    accuracies = []\n",
        "    for i in range(len(N)):\n",
        "        IN = []\n",
        "        # IN_y = []\n",
        "        OUT = []\n",
        "        # OUT_y = []\n",
        "        train_X, test_X, train_y, test_y = split_dataset(N[i], X_train, X_test, y_train, y_test)\n",
        "\n",
        "        data = np.concatenate((train_X,test_X),axis=0)\n",
        "        labels = np.concatenate((train_y,test_y),axis=0)\n",
        "        pred_data = model[i].predict(data)\n",
        "\n",
        "        for j in range(len(pred_data)):\n",
        "            if pred_data[j] == labels[j]:\n",
        "                IN.append(j)\n",
        "                # IN.append(data[j])\n",
        "                # IN_y.append(labels[j])\n",
        "            else:\n",
        "                OUT.append(j)\n",
        "                # OUT.append(data[j])\n",
        "                # OUT_y.append(labels[j])\n",
        "        \n",
        "        # IN = np.array(IN)\n",
        "        # IN_y = np.array(IN_y)\n",
        "        # OUT = np.array(OUT)\n",
        "        # OUT_y = np.array(OUT_y)\n",
        "        # print(IN.shape)\n",
        "        # print(OUT.shape)\n",
        "        # print(model[1])\n",
        "\n",
        "        # clf_IN = train_logistic_regression(IN, IN_y, reg, c)\n",
        "        # acc = clf_IN.score(OUT, OUT_y)\n",
        "        # accuracies.append(acc)\n",
        "\n",
        "        \n",
        "        true_IN = np.array([x for x in IN if x <= N[i]-1])\n",
        "        true_OUT = np.array([x for x in OUT if x > N[i]-1])\n",
        "\n",
        "\n",
        "        acc = (true_IN.shape[0] + true_OUT.shape[0])/len(data)\n",
        "        accuracies.append(acc)\n",
        "        print(\"N = {}, the accuracy is: {}\".format(N[i], acc))\n",
        "    return accuracies"
      ],
      "metadata": {
        "id": "8mYonkyxcSzT"
      },
      "execution_count": 27,
      "outputs": []
    },
    {
      "cell_type": "code",
      "source": [
        "clf_noreg_attacc = clf_attack(N, X_train, X_test, y_train, y_test, model_noreg, 'none', 1)"
      ],
      "metadata": {
        "colab": {
          "base_uri": "https://localhost:8080/"
        },
        "id": "u4VH0RR_fQHX",
        "outputId": "0bc62137-13a8-4512-bd5e-f2e73d646d05"
      },
      "execution_count": 39,
      "outputs": [
        {
          "output_type": "stream",
          "name": "stdout",
          "text": [
            "N = 100, the accuracy is: 0.685\n",
            "N = 200, the accuracy is: 0.65\n",
            "N = 400, the accuracy is: 0.6125\n",
            "N = 800, the accuracy is: 0.6225\n",
            "N = 1600, the accuracy is: 0.5996875\n",
            "N = 2500, the accuracy is: 0.589\n",
            "N = 5000, the accuracy is: 0.5692\n",
            "N = 10000, the accuracy is: 0.5323\n"
          ]
        }
      ]
    },
    {
      "cell_type": "code",
      "source": [
        "plt.plot(N, clf_noreg_attacc)\n",
        "plt.title(\"attack accuracies nonregularization\")\n",
        "plt.xlabel(\"n\")\n",
        "plt.ylabel(\"accuracy\")\n",
        "plt.show()"
      ],
      "metadata": {
        "colab": {
          "base_uri": "https://localhost:8080/",
          "height": 295
        },
        "id": "Wtglbgp4Q_DY",
        "outputId": "524de9f5-9659-42b4-ea05-9a1211fa8561"
      },
      "execution_count": 29,
      "outputs": [
        {
          "output_type": "display_data",
          "data": {
            "text/plain": [
              "<Figure size 432x288 with 1 Axes>"
            ],
            "image/png": "[encoded data removed]"
          },
          "metadata": {
            "needs_background": "light"
          }
        }
      ]
    },
    {
      "cell_type": "code",
      "source": [
        "clf_reg_attacc = clf_attack(N, X_train, X_test, y_train, y_test, model_reg, 'l2', 0.01)"
      ],
      "metadata": {
        "colab": {
          "base_uri": "https://localhost:8080/"
        },
        "id": "Q_IfitA99icI",
        "outputId": "5b6778b7-f980-4be0-a868-523c46400fa9"
      },
      "execution_count": 38,
      "outputs": [
        {
          "output_type": "stream",
          "name": "stdout",
          "text": [
            "N = 100, the accuracy is: 0.62\n",
            "N = 200, the accuracy is: 0.57\n",
            "N = 400, the accuracy is: 0.53625\n",
            "N = 800, the accuracy is: 0.53625\n",
            "N = 1600, the accuracy is: 0.52125\n",
            "N = 2500, the accuracy is: 0.5176\n",
            "N = 5000, the accuracy is: 0.5199\n",
            "N = 10000, the accuracy is: 0.51285\n"
          ]
        }
      ]
    },
    {
      "cell_type": "code",
      "source": [
        "plt.plot(N, clf_reg_attacc)\n",
        "plt.title(\"attack accuracies regularization\")\n",
        "plt.xlabel(\"n\")\n",
        "plt.ylabel(\"accuracy\")\n",
        "plt.show()"
      ],
      "metadata": {
        "colab": {
          "base_uri": "https://localhost:8080/",
          "height": 295
        },
        "id": "o3V5gZELBdHD",
        "outputId": "e0bb436c-bdba-488f-8679-a2a40da48f40"
      },
      "execution_count": 31,
      "outputs": [
        {
          "output_type": "display_data",
          "data": {
            "text/plain": [
              "<Figure size 432x288 with 1 Axes>"
            ],
            "image/png": "[encoded data removed]"
          },
          "metadata": {
            "needs_background": "light"
          }
        }
      ]
    },
    {
      "cell_type": "code",
      "source": [
        "n = 400\n",
        "train_X, test_X, train_y, test_y = split_dataset(n, X_train, X_test, y_train, y_test)\n",
        "clf1 = train_logistic_regression(train_X, train_y, \"none\", 1)\n",
        "clf2 = train_logistic_regression(train_X, train_y, \"l2\", 0.1)"
      ],
      "metadata": {
        "colab": {
          "base_uri": "https://localhost:8080/"
        },
        "id": "ltXfdvamRKf8",
        "outputId": "a90f314b-314b-41af-b12a-4609c387d485"
      },
      "execution_count": 32,
      "outputs": [
        {
          "output_type": "stream",
          "name": "stderr",
          "text": [
            "/usr/local/lib/python3.7/dist-packages/sklearn/linear_model/_logistic.py:818: ConvergenceWarning: lbfgs failed to converge (status=1):\n",
            "STOP: TOTAL NO. of ITERATIONS REACHED LIMIT.\n",
            "\n",
            "Increase the number of iterations (max_iter) or scale the data as shown in:\n",
            "    https://scikit-learn.org/stable/modules/preprocessing.html\n",
            "Please also refer to the documentation for alternative solver options:\n",
            "    https://scikit-learn.org/stable/modules/linear_model.html#logistic-regression\n",
            "  extra_warning_msg=_LOGISTIC_SOLVER_CONVERGENCE_MSG,\n"
          ]
        }
      ]
    },
    {
      "cell_type": "code",
      "source": [
        "def noise_acc(n, train_X, test_X, train_y, test_y, clf):\n",
        "    sigmas2 = [0.1,0.2,0.3,0.4,0.5,1,1.5,2,2.5,3,3.5,4,4.5,5]\n",
        "\n",
        "    ave_acc = dict()\n",
        "    for s in sigmas2:\n",
        "        ave_acc[s] = 0\n",
        "        for count in range(1000):\n",
        "            IN = []\n",
        "            OUT = []\n",
        "            # add noise to weights\n",
        "            noise = np.random.normal(0, s, [clf.coef_.shape[0], clf.coef_.shape[1]])\n",
        "            clf.coef_ = clf.coef_ + noise\n",
        "\n",
        "            # build and predict data\n",
        "            data = np.concatenate((train_X,test_X),axis=0)\n",
        "            labels = np.concatenate((train_y,test_y),axis=0)\n",
        "            pred_data = clf.predict(data)\n",
        "\n",
        "            for j in range(len(pred_data)):\n",
        "                if pred_data[j] == labels[j]:\n",
        "                    IN.append(j)\n",
        "                else:\n",
        "                    OUT.append(j)\n",
        "\n",
        "            true_IN = np.array([x for x in IN if x <= n-1])\n",
        "            true_OUT = np.array([x for x in OUT if x > n-1])\n",
        "\n",
        "        \n",
        "            acc = (true_IN.shape[0] + true_OUT.shape[0])/len(data)\n",
        "\n",
        "            ave_acc[s] += acc\n",
        "        ave_acc[s] /= 1000\n",
        "        print(\"sigma square = {}, the accuracy is: {}\".format(s, ave_acc[s]))\n",
        "    return ave_acc\n"
      ],
      "metadata": {
        "id": "Ncqf2tTNRrzP"
      },
      "execution_count": 41,
      "outputs": []
    },
    {
      "cell_type": "code",
      "source": [
        "highest_acc_clf_nonreg = noise_acc(n, train_X, test_X, train_y, test_y, clf1)"
      ],
      "metadata": {
        "colab": {
          "base_uri": "https://localhost:8080/"
        },
        "id": "AfjBhk-bb4B8",
        "outputId": "d9b0e4e5-6a05-4041-a0c9-44488ce7e27a"
      },
      "execution_count": 42,
      "outputs": [
        {
          "output_type": "stream",
          "name": "stdout",
          "text": [
            "sigma square = 0.1, the accuracy is: 0.49898874999999365\n",
            "sigma square = 0.2, the accuracy is: 0.4994324999999966\n",
            "sigma square = 0.3, the accuracy is: 0.5027150000000034\n",
            "sigma square = 0.4, the accuracy is: 0.5012525000000051\n",
            "sigma square = 0.5, the accuracy is: 0.498976249999999\n",
            "sigma square = 1, the accuracy is: 0.4998175000000004\n",
            "sigma square = 1.5, the accuracy is: 0.5013425000000019\n",
            "sigma square = 2, the accuracy is: 0.5001262500000005\n",
            "sigma square = 2.5, the accuracy is: 0.49763874999999874\n",
            "sigma square = 3, the accuracy is: 0.4926137499999989\n",
            "sigma square = 3.5, the accuracy is: 0.4943599999999979\n",
            "sigma square = 4, the accuracy is: 0.4979774999999978\n",
            "sigma square = 4.5, the accuracy is: 0.49343999999999805\n",
            "sigma square = 5, the accuracy is: 0.48565749999999785\n"
          ]
        }
      ]
    },
    {
      "cell_type": "code",
      "source": [
        "highest_acc_clf_reg = noise_acc(n, train_X, test_X, train_y, test_y, clf2)"
      ],
      "metadata": {
        "colab": {
          "base_uri": "https://localhost:8080/"
        },
        "id": "bzQuVtyMb-Ap",
        "outputId": "4ce261bd-fe1c-4a9b-9f3f-3e1270de7565"
      },
      "execution_count": 43,
      "outputs": [
        {
          "output_type": "stream",
          "name": "stdout",
          "text": [
            "sigma square = 0.1, the accuracy is: 0.4988449999999893\n",
            "sigma square = 0.2, the accuracy is: 0.498949999999989\n",
            "sigma square = 0.3, the accuracy is: 0.49891249999998727\n",
            "sigma square = 0.4, the accuracy is: 0.4986812499999889\n",
            "sigma square = 0.5, the accuracy is: 0.49624374999999826\n",
            "sigma square = 1, the accuracy is: 0.4956450000000003\n",
            "sigma square = 1.5, the accuracy is: 0.49488374999999785\n",
            "sigma square = 2, the accuracy is: 0.49524624999999695\n",
            "sigma square = 2.5, the accuracy is: 0.49467249999999646\n",
            "sigma square = 3, the accuracy is: 0.49578374999999775\n",
            "sigma square = 3.5, the accuracy is: 0.5014637500000042\n",
            "sigma square = 4, the accuracy is: 0.499692500000001\n",
            "sigma square = 4.5, the accuracy is: 0.4998687500000046\n",
            "sigma square = 5, the accuracy is: 0.49738499999999647\n"
          ]
        }
      ]
    },
    {
      "cell_type": "code",
      "source": [
        "sigmas2 = list(highest_acc_clf_reg.keys())\n",
        "accuracy1 = list(highest_acc_clf_nonreg.values())\n",
        "accuracy2 = list(highest_acc_clf_reg.values())\n",
        "plt.plot(sigmas2, accuracy1, label='no regularization')\n",
        "plt.plot(sigmas2, accuracy2, label='regularization')\n",
        "plt.title(\"fashion MNIST accuracy vs sigmas square\")\n",
        "plt.xlabel(\"sigmas square\")\n",
        "plt.ylabel(\"accuracy\")\n",
        "plt.legend()\n",
        "plt.show()"
      ],
      "metadata": {
        "colab": {
          "base_uri": "https://localhost:8080/",
          "height": 295
        },
        "id": "vAUwYwD2cXRY",
        "outputId": "e03a7c97-f722-4d9f-a13e-6b9d19ac1419"
      },
      "execution_count": 44,
      "outputs": [
        {
          "output_type": "display_data",
          "data": {
            "text/plain": [
              "<Figure size 432x288 with 1 Axes>"
            ],
            "image/png": "[encoded data removed]"
          },
          "metadata": {
            "needs_background": "light"
          }
        }
      ]
    },
    {
      "cell_type": "code",
      "source": [
        ""
      ],
      "metadata": {
        "id": "2-DJlYCmdIfa"
      },
      "execution_count": 37,
      "outputs": []
    }
  ]
}