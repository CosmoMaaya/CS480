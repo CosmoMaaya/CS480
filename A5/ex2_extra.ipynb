{
 "cells": [
  {
   "cell_type": "code",
   "execution_count": null,
   "metadata": {},
   "outputs": [],
   "source": [
    "def fgsm_attack(image, epsilon, data_grad):\n",
    "    sign_data_grad = data_grad.sign()\n",
    "    perturbed_image = image + epsilon * sign_data_grad\n",
    "    perturbed_image = torch.clamp(perturbed_image, 0, 1)\n",
    "    return perturbed_image\n",
    "\n",
    "def adversarial_test(model, test_dataloader_, epsilon):\n",
    "    loss_func = nn.CrossEntropyLoss()\n",
    "    model.eval()\n",
    "    adv_acc = 0\n",
    "    adv_examples = []\n",
    "    for idx, data in tqdm(enumerate(test_dataloader_), total=len(test_dataloader_)):\n",
    "        image, label = data\n",
    "        image = image.to(device)\n",
    "        label = label.to(device)\n",
    "\n",
    "        image.requires_grad = True\n",
    "        output = model(image)\n",
    "        init_pred = output.max(1, keepdim=True)[1]\n",
    "        loss = loss_func(output, label)\n",
    "        model.zero_grad()\n",
    "        loss.backward()\n",
    "        data_grad = image.grad.data\n",
    "        # perturb the image with the calculated gradient\n",
    "        perturbed_image = fgsm_attack(image, epsilon, data_grad)\n",
    "\n",
    "        # calculate the model output on the perturbed image\n",
    "        output = model(perturbed_image)\n",
    "        final_pred = output.max(1, keepdim=True)[1]\n",
    "        adv_acc += (final_pred == label).sum().item()\n",
    "        if final_pred.item() == label.item():\n",
    "            adv_acc += 1\n",
    "        else:\n",
    "            adv_ex = perturbed_image.squeeze().detach().cpu().numpy()\n",
    "            adv_examples.append( (init_pred.item(), final_pred.item(), adv_ex) )\n",
    "\n",
    "    adv_acc = adv_acc / len(test_dataloader_.dataset)\n",
    "    return adv_acc, adv_examples\n",
    "\n",
    "test_dataset = torchvision.datasets.MNIST(root='./data', train=False, download=download_data, transform=transform)\n",
    "test_dataloader = torch.utils.data.DataLoader(test_dataset,  batch_size=1, shuffle=False)\n",
    "epsilons = [0.1, 0.2, 0.5]\n",
    "accuracies = []\n",
    "examples = []\n",
    "\n",
    "# Run test for each epsilon\n",
    "for eps in epsilons:\n",
    "    acc, ex = adversarial_test(model, test_dataloader, eps)\n",
    "    accuracies.append(acc)\n",
    "    examples.append(ex)\n",
    "print(accuracies)"
   ]
  }
 ],
 "metadata": {
  "kernelspec": {
   "display_name": "Python 3.10.4 64-bit",
   "language": "python",
   "name": "python3"
  },
  "language_info": {
   "name": "python",
   "version": "3.10.4"
  },
  "orig_nbformat": 4,
  "vscode": {
   "interpreter": {
    "hash": "1f8e04c1004ae0e48c4c128aee02bb34a41f967cffe60616a1dbeccdbed98bf0"
   }
  }
 },
 "nbformat": 4,
 "nbformat_minor": 2
}
