{
 "cells": [
  {
   "cell_type": "code",
   "execution_count": 309,
   "metadata": {},
   "outputs": [],
   "source": [
    "import torch\n",
    "from torch import nn\n",
    "import math\n",
    "\n",
    "import torchvision\n",
    "import torchvision.transforms as transforms\n",
    "import matplotlib.pyplot as plt\n",
    "import matplotlib\n",
    "import torch.optim as optim\n",
    "import torch.nn.functional as F\n",
    "from tqdm import tqdm\n",
    "import numpy as np "
   ]
  },
  {
   "cell_type": "markdown",
   "metadata": {},
   "source": [
    "### A) Using Net and Train"
   ]
  },
  {
   "cell_type": "code",
   "execution_count": 310,
   "metadata": {},
   "outputs": [],
   "source": [
    "class Net(nn.Module):\n",
    "    def __init__(self):\n",
    "        super(Net, self).__init__()\n",
    "        # convolutional layers\n",
    "        self.conv_layers = nn.Sequential(\n",
    "            nn.Conv2d(1, 64, 3, 1, 1),\n",
    "            nn.BatchNorm2d(64),\n",
    "            nn.ReLU(),\n",
    "            nn.MaxPool2d(2, 2),\n",
    "\n",
    "            nn.Conv2d(64, 128, 3, 1, 1),\n",
    "            nn.BatchNorm2d(128),\n",
    "            nn.ReLU(),\n",
    "            nn.MaxPool2d(2, 2),\n",
    "\n",
    "            nn.Conv2d(128, 256, 3, 1, 1),\n",
    "            nn.BatchNorm2d(256),\n",
    "            nn.ReLU(),\n",
    "\n",
    "            nn.Conv2d(256, 256, 3, 1, 1),\n",
    "            nn.BatchNorm2d(256),\n",
    "            nn.ReLU(),\n",
    "            nn.MaxPool2d(2, 2),\n",
    "\n",
    "            nn.Conv2d(256, 512, 3, 1, 1),\n",
    "            nn.BatchNorm2d(512),\n",
    "            nn.ReLU(),\n",
    "\n",
    "            nn.Conv2d(512, 512, 3, 1, 1),\n",
    "            nn.BatchNorm2d(512),\n",
    "            nn.ReLU(),\n",
    "            nn.MaxPool2d(2, 2),\n",
    "\n",
    "            nn.Conv2d(512, 512, 3, 1, 1),\n",
    "            nn.BatchNorm2d(512),\n",
    "            nn.ReLU(),\n",
    "\n",
    "            nn.Conv2d(512, 512, 3, 1, 1),\n",
    "            nn.BatchNorm2d(512),\n",
    "            nn.ReLU(),\n",
    "            nn.MaxPool2d(2, 2),\n",
    "        )\n",
    "\n",
    "        self.linear_layers = nn.Sequential(\n",
    "            nn.Linear(512, 4096),\n",
    "            nn.ReLU(),\n",
    "            nn.Dropout(0.5),\n",
    "            nn.Linear(4096, 4096),\n",
    "            nn.ReLU(),\n",
    "            nn.Dropout(0.5),\n",
    "            nn.Linear(4096, 10)\n",
    "        )\n",
    "    def forward(self, x):\n",
    "        x = self.conv_layers(x)\n",
    "        # flatten for FC\n",
    "        x = x.view(x.size(0), -1)\n",
    "        x = self.linear_layers(x)\n",
    "        return x"
   ]
  },
  {
   "cell_type": "code",
   "execution_count": 311,
   "metadata": {},
   "outputs": [],
   "source": [
    "def train(model, trainloader, optimizer):\n",
    "    loss_func = nn.CrossEntropyLoss()\n",
    "    model.train()\n",
    "    train_running_loss = 0.0\n",
    "    train_running_correct = 0\n",
    "    # For every batch\n",
    "    for i, data in tqdm(enumerate(trainloader), total=len(trainloader)):\n",
    "        image, labels = data\n",
    "        image = image.to(device)\n",
    "        labels = labels.to(device)\n",
    "\n",
    "        optimizer.zero_grad()\n",
    "        outputs = model(image)\n",
    "        loss = loss_func(outputs, labels)\n",
    "        train_running_loss += loss.item()\n",
    "        _, preds = torch.max(outputs.data, 1)\n",
    "        train_running_correct += (preds == labels).sum().item()\n",
    "        loss.backward()\n",
    "        optimizer.step()\n",
    "    \n",
    "    epoch_loss = train_running_loss / len(trainloader)\n",
    "    epoch_acc = (train_running_correct / len(trainloader.dataset))\n",
    "    return epoch_loss, epoch_acc"
   ]
  },
  {
   "cell_type": "code",
   "execution_count": 312,
   "metadata": {},
   "outputs": [],
   "source": [
    "def test(model, testloader):\n",
    "    loss_func = nn.CrossEntropyLoss()\n",
    "    model.eval()\n",
    "\n",
    "    test_running_loss = 0.0\n",
    "    test_running_correct = 0\n",
    "    with torch.no_grad():\n",
    "        for i, data in tqdm(enumerate(testloader), total=len(testloader)):\n",
    "            image, labels = data\n",
    "            image = image.to(device)\n",
    "            labels = labels.to(device)\n",
    "\n",
    "            outputs = model(image)\n",
    "            loss = loss_func(outputs, labels)\n",
    "            test_running_loss += loss.item()\n",
    "            _, preds = torch.max(outputs.data, 1)\n",
    "            test_running_correct += (preds == labels).sum().item()\n",
    "\n",
    "    epoch_loss = test_running_loss / len(testloader)\n",
    "    epoch_acc = (test_running_correct / len(testloader.dataset))\n",
    "    return epoch_loss, epoch_acc"
   ]
  },
  {
   "cell_type": "code",
   "execution_count": 313,
   "metadata": {},
   "outputs": [],
   "source": [
    "matplotlib.style.use('ggplot')\n",
    "device = torch.device('cuda' if torch.cuda.is_available() else 'cpu')\n",
    "download_data = True\n",
    "# device = torch.device('cpu')\n",
    "epochs = 5\n",
    "batch_size = 64\n",
    "\n",
    "transform = transforms.Compose(\n",
    "    [transforms.Resize((32, 32)),\n",
    "     transforms.ToTensor()])\n",
    "                                             "
   ]
  },
  {
   "cell_type": "code",
   "execution_count": 314,
   "metadata": {},
   "outputs": [],
   "source": [
    "def epoch_train(train_dataloader_, test_dataloader_):\n",
    "    model = Net().to(device)\n",
    "    optimizer = optim.SGD(model.parameters(), lr=0.01, momentum = 0.9, weight_decay=0.0005)\n",
    "    train_loss, test_loss = [], []\n",
    "    train_acc, test_acc = [], []\n",
    "    for epoch in range(epochs):\n",
    "        print(f\"[INFO]: Epoch {epoch+1} of {epochs}\")\n",
    "        train_epoch_loss, train_epoch_acc = train(model, train_dataloader_, optimizer)\n",
    "        test_epoch_loss, test_epoch_acc = test(model, test_dataloader_)\n",
    "        train_loss.append(train_epoch_loss)\n",
    "        test_loss.append(test_epoch_loss)\n",
    "        train_acc.append(train_epoch_acc)\n",
    "        test_acc.append(test_epoch_acc)\n",
    "        print('\\n')\n",
    "        print(f\"Training loss: {train_epoch_loss:.3f}, training acc: {train_epoch_acc:.3f}\")\n",
    "        print(f\"Test loss: {test_epoch_loss:.3f}, test acc: {test_epoch_acc:.3f}\")\n",
    "        print('-'*50)\n",
    "    return model, train_loss, test_loss, train_acc, test_acc"
   ]
  },
  {
   "cell_type": "code",
   "execution_count": 315,
   "metadata": {},
   "outputs": [
    {
     "name": "stdout",
     "output_type": "stream",
     "text": [
      "[INFO]: Epoch 1 of 5\n"
     ]
    },
    {
     "name": "stderr",
     "output_type": "stream",
     "text": [
      "100%|██████████| 938/938 [00:11<00:00, 84.33it/s]\n",
      "100%|██████████| 157/157 [00:01<00:00, 132.12it/s]\n"
     ]
    },
    {
     "name": "stdout",
     "output_type": "stream",
     "text": [
      "\n",
      "\n",
      "Training loss: 0.132, training acc: 0.959\n",
      "Test loss: 0.053, test acc: 0.983\n",
      "--------------------------------------------------\n",
      "[INFO]: Epoch 2 of 5\n"
     ]
    },
    {
     "name": "stderr",
     "output_type": "stream",
     "text": [
      "100%|██████████| 938/938 [00:10<00:00, 90.14it/s]\n",
      "100%|██████████| 157/157 [00:01<00:00, 131.40it/s]\n"
     ]
    },
    {
     "name": "stdout",
     "output_type": "stream",
     "text": [
      "\n",
      "\n",
      "Training loss: 0.037, training acc: 0.990\n",
      "Test loss: 0.033, test acc: 0.991\n",
      "--------------------------------------------------\n",
      "[INFO]: Epoch 3 of 5\n"
     ]
    },
    {
     "name": "stderr",
     "output_type": "stream",
     "text": [
      "100%|██████████| 938/938 [00:10<00:00, 90.21it/s]\n",
      "100%|██████████| 157/157 [00:01<00:00, 132.80it/s]\n"
     ]
    },
    {
     "name": "stdout",
     "output_type": "stream",
     "text": [
      "\n",
      "\n",
      "Training loss: 0.028, training acc: 0.992\n",
      "Test loss: 0.024, test acc: 0.993\n",
      "--------------------------------------------------\n",
      "[INFO]: Epoch 4 of 5\n"
     ]
    },
    {
     "name": "stderr",
     "output_type": "stream",
     "text": [
      "100%|██████████| 938/938 [00:10<00:00, 90.27it/s]\n",
      "100%|██████████| 157/157 [00:01<00:00, 133.02it/s]\n"
     ]
    },
    {
     "name": "stdout",
     "output_type": "stream",
     "text": [
      "\n",
      "\n",
      "Training loss: 0.022, training acc: 0.994\n",
      "Test loss: 0.027, test acc: 0.993\n",
      "--------------------------------------------------\n",
      "[INFO]: Epoch 5 of 5\n"
     ]
    },
    {
     "name": "stderr",
     "output_type": "stream",
     "text": [
      "100%|██████████| 938/938 [00:10<00:00, 90.38it/s]\n",
      "100%|██████████| 157/157 [00:01<00:00, 131.24it/s]"
     ]
    },
    {
     "name": "stdout",
     "output_type": "stream",
     "text": [
      "\n",
      "\n",
      "Training loss: 0.017, training acc: 0.995\n",
      "Test loss: 0.020, test acc: 0.995\n",
      "--------------------------------------------------\n"
     ]
    },
    {
     "name": "stderr",
     "output_type": "stream",
     "text": [
      "\n"
     ]
    }
   ],
   "source": [
    "# dataset and data loader\n",
    "train_dataset = torchvision.datasets.MNIST(root='./data', train=True, download=download_data, transform=transform)\n",
    "train_dataloader = torch.utils.data.DataLoader(train_dataset, batch_size=batch_size, shuffle=True)\n",
    "\n",
    "test_dataset = torchvision.datasets.MNIST(root='./data', train=False, download=download_data, transform=transform)\n",
    "test_dataloader = torch.utils.data.DataLoader(test_dataset,  batch_size=batch_size, shuffle=False)\n",
    "model, train_loss, test_loss, train_acc, test_acc = epoch_train(train_dataloader, test_dataloader)"
   ]
  },
  {
   "cell_type": "markdown",
   "metadata": {},
   "source": [
    "### B) Using FGSM to generate adversarial examples and test"
   ]
  },
  {
   "cell_type": "code",
   "execution_count": 316,
   "metadata": {},
   "outputs": [],
   "source": [
    "def fgsm_attack(model, image, label, loss_func, epsilon):\n",
    "    image.requires_grad = True\n",
    "    output = model(image)\n",
    "    loss = loss_func(output, label)\n",
    "    model.zero_grad()\n",
    "    loss.backward()\n",
    "    data_grad = image.grad.data\n",
    "\n",
    "    sign_data_grad = data_grad.sign()\n",
    "    perturbed_image = image + epsilon * sign_data_grad\n",
    "    perturbed_image = torch.clamp(perturbed_image, 0, 1)\n",
    "    return perturbed_image\n",
    "\n",
    "def adversarial_test(model, test_dataloader_, epsilon, attacker):\n",
    "    loss_func = nn.CrossEntropyLoss()\n",
    "    model.eval()\n",
    "    adv_acc = 0\n",
    "    adv_examples = []\n",
    "    for idx, data in tqdm(enumerate(test_dataloader_), total=len(test_dataloader_)):\n",
    "        image, label = data\n",
    "        image = image.to(device)\n",
    "        label = label.to(device)\n",
    "\n",
    "        # perturb the image with the calculated gradient\n",
    "        perturbed_image = attacker(model, image, label, loss_func, epsilon)\n",
    "\n",
    "        # calculate the model output on the perturbed image\n",
    "        output = model(perturbed_image)\n",
    "        _, final_pred = torch.max(output.data, 1)\n",
    "        adv_acc += (final_pred == label).sum().item()\n",
    "        # if final_pred.item() == label.item():\n",
    "            # adv_acc += 1\n",
    "        # else:\n",
    "        for i in range(batch_size):\n",
    "            if len(adv_examples) >= 5:\n",
    "                break\n",
    "            if final_pred[i].item() != label[i].item():\n",
    "                adv_ex = perturbed_image[i].squeeze().detach().cpu().numpy()\n",
    "                adv_examples.append( (final_pred[i].item(), label[i].item(), adv_ex) )\n",
    "\n",
    "    adv_acc = adv_acc / len(test_dataloader_.dataset)\n",
    "    return adv_acc, adv_examples"
   ]
  },
  {
   "cell_type": "code",
   "execution_count": 317,
   "metadata": {},
   "outputs": [],
   "source": [
    "def test_with_eps(model, test_dataloader_, epsilons, attacker):\n",
    "    accuracies = []\n",
    "    examples = []\n",
    "\n",
    "    # Run test for each epsilon\n",
    "    for eps in epsilons:\n",
    "        acc, ex = adversarial_test(model, test_dataloader, eps, fgsm_attack)\n",
    "        accuracies.append(acc)\n",
    "        examples.append(ex)\n",
    "    print(accuracies)\n",
    "    return accuracies, examples"
   ]
  },
  {
   "cell_type": "code",
   "execution_count": 318,
   "metadata": {},
   "outputs": [
    {
     "name": "stderr",
     "output_type": "stream",
     "text": [
      "100%|██████████| 157/157 [00:02<00:00, 67.95it/s]\n",
      "100%|██████████| 157/157 [00:02<00:00, 66.68it/s]\n",
      "100%|██████████| 157/157 [00:02<00:00, 68.13it/s]"
     ]
    },
    {
     "name": "stdout",
     "output_type": "stream",
     "text": [
      "[0.8326, 0.2692, 0.1006]\n"
     ]
    },
    {
     "name": "stderr",
     "output_type": "stream",
     "text": [
      "\n"
     ]
    }
   ],
   "source": [
    "epsilons = [0.1, 0.2, 0.5]\n",
    "origin_acc, fgsm_examples = test_with_eps(model, test_dataloader, epsilons, fgsm_attack)"
   ]
  },
  {
   "cell_type": "code",
   "execution_count": 319,
   "metadata": {},
   "outputs": [
    {
     "name": "stdout",
     "output_type": "stream",
     "text": [
      "[0.7456, 0.1217, 0.0972]\n"
     ]
    }
   ],
   "source": [
    "print(accuracies)"
   ]
  },
  {
   "cell_type": "code",
   "execution_count": 320,
   "metadata": {},
   "outputs": [
    {
     "data": {
      "image/png": "[encoded data removed]",
      "text/plain": [
       "<Figure size 432x288 with 1 Axes>"
      ]
     },
     "metadata": {},
     "output_type": "display_data"
    },
    {
     "data": {
      "image/png": "[encoded data removed]",
      "text/plain": [
       "<Figure size 432x288 with 1 Axes>"
      ]
     },
     "metadata": {},
     "output_type": "display_data"
    },
    {
     "data": {
      "image/png": "[encoded data removed]",
      "text/plain": [
       "<Figure size 432x288 with 1 Axes>"
      ]
     },
     "metadata": {},
     "output_type": "display_data"
    },
    {
     "data": {
      "image/png": "[encoded data removed]",
      "text/plain": [
       "<Figure size 432x288 with 1 Axes>"
      ]
     },
     "metadata": {},
     "output_type": "display_data"
    },
    {
     "data": {
      "image/png": "[encoded data removed]",
      "text/plain": [
       "<Figure size 432x288 with 1 Axes>"
      ]
     },
     "metadata": {},
     "output_type": "display_data"
    },
    {
     "data": {
      "image/png": "[encoded data removed]",
      "text/plain": [
       "<Figure size 432x288 with 1 Axes>"
      ]
     },
     "metadata": {},
     "output_type": "display_data"
    },
    {
     "data": {
      "image/png": "[encoded data removed]",
      "text/plain": [
       "<Figure size 432x288 with 1 Axes>"
      ]
     },
     "metadata": {},
     "output_type": "display_data"
    },
    {
     "data": {
      "image/png": "[encoded data removed]",
      "text/plain": [
       "<Figure size 432x288 with 1 Axes>"
      ]
     },
     "metadata": {},
     "output_type": "display_data"
    },
    {
     "data": {
      "image/png": "[encoded data removed]",
      "text/plain": [
       "<Figure size 432x288 with 1 Axes>"
      ]
     },
     "metadata": {},
     "output_type": "display_data"
    },
    {
     "data": {
      "image/png": "[encoded data removed]",
      "text/plain": [
       "<Figure size 432x288 with 1 Axes>"
      ]
     },
     "metadata": {},
     "output_type": "display_data"
    },
    {
     "data": {
      "image/png": "[encoded data removed]",
      "text/plain": [
       "<Figure size 432x288 with 1 Axes>"
      ]
     },
     "metadata": {},
     "output_type": "display_data"
    },
    {
     "data": {
      "image/png": "[encoded data removed]",
      "text/plain": [
       "<Figure size 432x288 with 1 Axes>"
      ]
     },
     "metadata": {},
     "output_type": "display_data"
    },
    {
     "data": {
      "image/png": "[encoded data removed]",
      "text/plain": [
       "<Figure size 432x288 with 1 Axes>"
      ]
     },
     "metadata": {},
     "output_type": "display_data"
    },
    {
     "data": {
      "image/png": "[encoded data removed]",
      "text/plain": [
       "<Figure size 432x288 with 1 Axes>"
      ]
     },
     "metadata": {},
     "output_type": "display_data"
    },
    {
     "data": {
      "image/png": "[encoded data removed]",
      "text/plain": [
       "<Figure size 432x288 with 1 Axes>"
      ]
     },
     "metadata": {},
     "output_type": "display_data"
    }
   ],
   "source": [
    "for i, eps in enumerate(epsilons):\n",
    "    for ex in fgsm_examples[i]:\n",
    "        # print(ex)\n",
    "        plt.imshow(ex[2], cmap='gray')\n",
    "        plt.title(\"Eps: {} \\n Pred: {}\\nTrue: {}\".format(i, ex[0], ex[1]))\n",
    "        plt.show()\n",
    "        plt.close()"
   ]
  },
  {
   "cell_type": "markdown",
   "metadata": {},
   "source": [
    "### C) Adversarial training"
   ]
  },
  {
   "cell_type": "code",
   "execution_count": 321,
   "metadata": {},
   "outputs": [],
   "source": [
    "TRAINING_EPS = 0.2"
   ]
  },
  {
   "cell_type": "code",
   "execution_count": 322,
   "metadata": {},
   "outputs": [],
   "source": [
    "def adversarial_train(model, trainloader, optimizer, epsilon, attacker):\n",
    "    loss_func = nn.CrossEntropyLoss()\n",
    "    model.train()\n",
    "    train_running_loss = 0.0\n",
    "    train_running_correct = 0\n",
    "    # For every batch\n",
    "    for i, data in tqdm(enumerate(trainloader), total=len(trainloader)):\n",
    "        image, labels = data\n",
    "        image = image.to(device)\n",
    "        labels = labels.to(device)\n",
    "        perturbed_image = attacker(model, image, labels, loss_func, epsilon)\n",
    "\n",
    "        # Train the model output on the perturbed image\n",
    "        optimizer.zero_grad()\n",
    "        outputs = model(perturbed_image)\n",
    "        loss = loss_func(outputs, labels)\n",
    "        train_running_loss += loss.item()\n",
    "        _, preds = torch.max(outputs.data, 1)\n",
    "        train_running_correct += (preds == labels).sum().item()\n",
    "        loss.backward()\n",
    "        optimizer.step()\n",
    "    \n",
    "    epoch_loss = train_running_loss / len(trainloader)\n",
    "    epoch_acc = (train_running_correct / len(trainloader.dataset))\n",
    "    return epoch_loss, epoch_acc\n",
    "\n",
    "def adversarial_epoch_train(train_dataloader_, train_eps, attacker):\n",
    "    model = Net().to(device)\n",
    "    optimizer = optim.SGD(model.parameters(), lr=0.01, momentum = 0.9, weight_decay=0.0005)\n",
    "    train_loss, test_loss = [], []\n",
    "    train_acc, test_acc = [], []\n",
    "    for epoch in range(epochs):\n",
    "        print(f\"[INFO]: Epoch {epoch+1} of {epochs}\")\n",
    "        train_epoch_loss, train_epoch_acc = adversarial_train(model, train_dataloader_, optimizer, train_eps, attacker)\n",
    "        train_loss.append(train_epoch_loss)\n",
    "        train_acc.append(train_epoch_acc)\n",
    "        print('\\n')\n",
    "        print(f\"Training loss: {train_epoch_loss:.3f}, training acc: {train_epoch_acc:.3f}\")\n",
    "        print('-'*50)\n",
    "    return model, train_loss, train_acc"
   ]
  },
  {
   "cell_type": "code",
   "execution_count": 323,
   "metadata": {},
   "outputs": [
    {
     "name": "stdout",
     "output_type": "stream",
     "text": [
      "[INFO]: Epoch 1 of 5\n"
     ]
    },
    {
     "name": "stderr",
     "output_type": "stream",
     "text": [
      "100%|██████████| 938/938 [00:17<00:00, 53.35it/s]\n"
     ]
    },
    {
     "name": "stdout",
     "output_type": "stream",
     "text": [
      "\n",
      "\n",
      "Training loss: 0.403, training acc: 0.865\n",
      "--------------------------------------------------\n",
      "[INFO]: Epoch 2 of 5\n"
     ]
    },
    {
     "name": "stderr",
     "output_type": "stream",
     "text": [
      "100%|██████████| 938/938 [00:17<00:00, 53.68it/s]\n"
     ]
    },
    {
     "name": "stdout",
     "output_type": "stream",
     "text": [
      "\n",
      "\n",
      "Training loss: 0.054, training acc: 0.984\n",
      "--------------------------------------------------\n",
      "[INFO]: Epoch 3 of 5\n"
     ]
    },
    {
     "name": "stderr",
     "output_type": "stream",
     "text": [
      "100%|██████████| 938/938 [00:18<00:00, 49.67it/s]\n"
     ]
    },
    {
     "name": "stdout",
     "output_type": "stream",
     "text": [
      "\n",
      "\n",
      "Training loss: 0.028, training acc: 0.992\n",
      "--------------------------------------------------\n",
      "[INFO]: Epoch 4 of 5\n"
     ]
    },
    {
     "name": "stderr",
     "output_type": "stream",
     "text": [
      "100%|██████████| 938/938 [00:18<00:00, 51.23it/s]\n"
     ]
    },
    {
     "name": "stdout",
     "output_type": "stream",
     "text": [
      "\n",
      "\n",
      "Training loss: 0.020, training acc: 0.994\n",
      "--------------------------------------------------\n",
      "[INFO]: Epoch 5 of 5\n"
     ]
    },
    {
     "name": "stderr",
     "output_type": "stream",
     "text": [
      "100%|██████████| 938/938 [00:17<00:00, 53.41it/s]"
     ]
    },
    {
     "name": "stdout",
     "output_type": "stream",
     "text": [
      "\n",
      "\n",
      "Training loss: 0.018, training acc: 0.995\n",
      "--------------------------------------------------\n"
     ]
    },
    {
     "name": "stderr",
     "output_type": "stream",
     "text": [
      "\n"
     ]
    }
   ],
   "source": [
    "# dataset and data loader\n",
    "train_dataset = torchvision.datasets.MNIST(root='./data', train=True, download=download_data, transform=transform)\n",
    "train_dataloader = torch.utils.data.DataLoader(train_dataset, batch_size=batch_size, shuffle=True)\n",
    "\n",
    "test_dataset = torchvision.datasets.MNIST(root='./data', train=False, download=download_data, transform=transform)\n",
    "test_dataloader = torch.utils.data.DataLoader(test_dataset,  batch_size=batch_size, shuffle=False)\n",
    "adv_model, train_loss, train_acc = adversarial_epoch_train(train_dataloader, TRAINING_EPS, fgsm_attack)"
   ]
  },
  {
   "cell_type": "code",
   "execution_count": 324,
   "metadata": {},
   "outputs": [
    {
     "name": "stderr",
     "output_type": "stream",
     "text": [
      "100%|██████████| 157/157 [00:02<00:00, 64.30it/s]\n",
      "100%|██████████| 157/157 [00:02<00:00, 67.73it/s]\n",
      "100%|██████████| 157/157 [00:02<00:00, 66.49it/s]"
     ]
    },
    {
     "name": "stdout",
     "output_type": "stream",
     "text": [
      "[0.9946, 0.9609, 0.3009]\n"
     ]
    },
    {
     "name": "stderr",
     "output_type": "stream",
     "text": [
      "\n"
     ]
    }
   ],
   "source": [
    "epsilons = [0.1, 0.2, 0.5]\n",
    "fgsm_training_acc, fgsm_training_examples = test_with_eps(adv_model, test_dataloader, epsilons, fgsm_attack)"
   ]
  },
  {
   "cell_type": "markdown",
   "metadata": {},
   "source": [
    "### D) PGD"
   ]
  },
  {
   "cell_type": "code",
   "execution_count": 351,
   "metadata": {},
   "outputs": [],
   "source": [
    "ETA = 0.01\n",
    "NUM_ITER = 10\n",
    "def pgd_attack(model, image, label, loss_func, epsilon, step=ETA, num_iter=NUM_ITER):\n",
    "    delta = torch.zeros_like(image, requires_grad=True).to(device)\n",
    "    for t in range(num_iter):\n",
    "        loss = loss_func(model(delta + image), label)\n",
    "        loss.backward()\n",
    "        delta.data = (delta + step * delta.grad.data.sign()).clamp(-epsilon, epsilon)\n",
    "        delta.grad.zero_()\n",
    "    \n",
    "    perturbed_image = image + delta.data\n",
    "    perturbed_image = torch.clamp(perturbed_image, 0, 1)\n",
    "    return perturbed_image\n"
   ]
  },
  {
   "cell_type": "code",
   "execution_count": 352,
   "metadata": {},
   "outputs": [
    {
     "name": "stdout",
     "output_type": "stream",
     "text": [
      "[INFO]: Epoch 1 of 5\n"
     ]
    },
    {
     "name": "stderr",
     "output_type": "stream",
     "text": [
      "100%|██████████| 938/938 [01:19<00:00, 11.84it/s]\n"
     ]
    },
    {
     "name": "stdout",
     "output_type": "stream",
     "text": [
      "\n",
      "\n",
      "Training loss: 0.366, training acc: 0.880\n",
      "--------------------------------------------------\n",
      "[INFO]: Epoch 2 of 5\n"
     ]
    },
    {
     "name": "stderr",
     "output_type": "stream",
     "text": [
      "100%|██████████| 938/938 [01:16<00:00, 12.25it/s]\n"
     ]
    },
    {
     "name": "stdout",
     "output_type": "stream",
     "text": [
      "\n",
      "\n",
      "Training loss: 0.164, training acc: 0.949\n",
      "--------------------------------------------------\n",
      "[INFO]: Epoch 3 of 5\n"
     ]
    },
    {
     "name": "stderr",
     "output_type": "stream",
     "text": [
      "100%|██████████| 938/938 [01:16<00:00, 12.23it/s]\n"
     ]
    },
    {
     "name": "stdout",
     "output_type": "stream",
     "text": [
      "\n",
      "\n",
      "Training loss: 0.129, training acc: 0.959\n",
      "--------------------------------------------------\n",
      "[INFO]: Epoch 4 of 5\n"
     ]
    },
    {
     "name": "stderr",
     "output_type": "stream",
     "text": [
      "100%|██████████| 938/938 [01:15<00:00, 12.41it/s]\n"
     ]
    },
    {
     "name": "stdout",
     "output_type": "stream",
     "text": [
      "\n",
      "\n",
      "Training loss: 0.112, training acc: 0.965\n",
      "--------------------------------------------------\n",
      "[INFO]: Epoch 5 of 5\n"
     ]
    },
    {
     "name": "stderr",
     "output_type": "stream",
     "text": [
      "100%|██████████| 938/938 [01:17<00:00, 12.06it/s]"
     ]
    },
    {
     "name": "stdout",
     "output_type": "stream",
     "text": [
      "\n",
      "\n",
      "Training loss: 0.097, training acc: 0.969\n",
      "--------------------------------------------------\n"
     ]
    },
    {
     "name": "stderr",
     "output_type": "stream",
     "text": [
      "\n"
     ]
    }
   ],
   "source": [
    "# dataset and data loader\n",
    "train_dataset = torchvision.datasets.MNIST(root='./data', train=True, download=download_data, transform=transform)\n",
    "train_dataloader = torch.utils.data.DataLoader(train_dataset, batch_size=batch_size, shuffle=True)\n",
    "\n",
    "test_dataset = torchvision.datasets.MNIST(root='./data', train=False, download=download_data, transform=transform)\n",
    "test_dataloader = torch.utils.data.DataLoader(test_dataset,  batch_size=batch_size, shuffle=False)\n",
    "pgd_model, train_loss, train_acc = adversarial_epoch_train(train_dataloader, TRAINING_EPS, pgd_attack)"
   ]
  },
  {
   "cell_type": "code",
   "execution_count": 353,
   "metadata": {},
   "outputs": [
    {
     "name": "stderr",
     "output_type": "stream",
     "text": [
      "100%|██████████| 157/157 [00:02<00:00, 64.22it/s]\n",
      "100%|██████████| 157/157 [00:02<00:00, 66.18it/s]\n",
      "100%|██████████| 157/157 [00:02<00:00, 65.35it/s]"
     ]
    },
    {
     "name": "stdout",
     "output_type": "stream",
     "text": [
      "[0.9637, 0.8515, 0.1055]\n"
     ]
    },
    {
     "name": "stderr",
     "output_type": "stream",
     "text": [
      "\n"
     ]
    }
   ],
   "source": [
    "epsilons = [0.1, 0.2, 0.5]\n",
    "pgd_training_acc, pgd_training_examples = test_with_eps(pgd_model, test_dataloader, epsilons, fgsm_attack)"
   ]
  },
  {
   "cell_type": "code",
   "execution_count": 354,
   "metadata": {},
   "outputs": [
    {
     "name": "stderr",
     "output_type": "stream",
     "text": [
      "100%|██████████| 157/157 [00:01<00:00, 135.20it/s]\n",
      "100%|██████████| 157/157 [00:01<00:00, 126.28it/s]\n",
      "100%|██████████| 157/157 [00:01<00:00, 118.54it/s]\n",
      "100%|██████████| 157/157 [00:02<00:00, 64.83it/s]\n",
      "100%|██████████| 157/157 [00:02<00:00, 66.31it/s]\n",
      "100%|██████████| 157/157 [00:02<00:00, 65.32it/s]\n"
     ]
    },
    {
     "name": "stdout",
     "output_type": "stream",
     "text": [
      "[0.8326, 0.2692, 0.1006]\n"
     ]
    },
    {
     "name": "stderr",
     "output_type": "stream",
     "text": [
      "100%|██████████| 157/157 [00:02<00:00, 65.68it/s]\n",
      "100%|██████████| 157/157 [00:02<00:00, 65.21it/s]\n",
      "100%|██████████| 157/157 [00:02<00:00, 66.09it/s]\n"
     ]
    },
    {
     "name": "stdout",
     "output_type": "stream",
     "text": [
      "[0.9946, 0.9609, 0.3009]\n"
     ]
    },
    {
     "name": "stderr",
     "output_type": "stream",
     "text": [
      "100%|██████████| 157/157 [00:02<00:00, 65.98it/s]\n",
      "100%|██████████| 157/157 [00:02<00:00, 65.27it/s]\n",
      "100%|██████████| 157/157 [00:02<00:00, 66.54it/s]\n"
     ]
    },
    {
     "name": "stdout",
     "output_type": "stream",
     "text": [
      "[0.9637, 0.8515, 0.1055]\n"
     ]
    },
    {
     "name": "stderr",
     "output_type": "stream",
     "text": [
      "100%|██████████| 157/157 [00:02<00:00, 65.27it/s]\n",
      "100%|██████████| 157/157 [00:02<00:00, 66.23it/s]\n",
      "100%|██████████| 157/157 [00:02<00:00, 66.09it/s]\n"
     ]
    },
    {
     "name": "stdout",
     "output_type": "stream",
     "text": [
      "[0.8326, 0.2692, 0.1006]\n"
     ]
    },
    {
     "name": "stderr",
     "output_type": "stream",
     "text": [
      "100%|██████████| 157/157 [00:02<00:00, 64.25it/s]\n",
      "100%|██████████| 157/157 [00:02<00:00, 66.43it/s]\n",
      "100%|██████████| 157/157 [00:02<00:00, 65.29it/s]\n"
     ]
    },
    {
     "name": "stdout",
     "output_type": "stream",
     "text": [
      "[0.9946, 0.9609, 0.3009]\n"
     ]
    },
    {
     "name": "stderr",
     "output_type": "stream",
     "text": [
      "100%|██████████| 157/157 [00:02<00:00, 66.09it/s]\n",
      "100%|██████████| 157/157 [00:02<00:00, 66.12it/s]\n",
      "100%|██████████| 157/157 [00:02<00:00, 65.43it/s]"
     ]
    },
    {
     "name": "stdout",
     "output_type": "stream",
     "text": [
      "[0.9637, 0.8515, 0.1055]\n"
     ]
    },
    {
     "name": "stderr",
     "output_type": "stream",
     "text": [
      "\n"
     ]
    }
   ],
   "source": [
    "models = [model, adv_model, pgd_model]\n",
    "\n",
    "origin_accs = [ test(m, test_dataloader)[1] for m in models ]\n",
    "fgsm_accs = np.array([ test_with_eps(m, test_dataloader, epsilons, fgsm_attack)[0] for m in models ])\n",
    "pgd_accs = np.array([ test_with_eps(m, test_dataloader, epsilons, pgd_attack)[0] for m in models ])"
   ]
  },
  {
   "cell_type": "code",
   "execution_count": 355,
   "metadata": {},
   "outputs": [
    {
     "name": "stdout",
     "output_type": "stream",
     "text": [
      "Epsilon: 0.1\n",
      "Attackers \t Standard Training \t FGSM Training \t PGD Training\n",
      "---------------------------------------------------------------\n",
      "Original  \t 0.9947                \t 0.9871            \t 0.9917\n",
      "FGSM      \t 0.8326                \t 0.9946            \t 0.9637\n",
      "PGD       \t 0.8326                \t 0.9946            \t 0.9637\n",
      "\n",
      "Epsilon: 0.2\n",
      "Attackers \t Standard Training \t FGSM Training \t PGD Training\n",
      "---------------------------------------------------------------\n",
      "Original  \t 0.9947                \t 0.9871            \t 0.9917\n",
      "FGSM      \t 0.2692                \t 0.9609            \t 0.8515\n",
      "PGD       \t 0.2692                \t 0.9609            \t 0.8515\n",
      "\n",
      "Epsilon: 0.5\n",
      "Attackers \t Standard Training \t FGSM Training \t PGD Training\n",
      "---------------------------------------------------------------\n",
      "Original  \t 0.9947                \t 0.9871            \t 0.9917\n",
      "FGSM      \t 0.1006                \t 0.3009            \t 0.1055\n",
      "PGD       \t 0.1006                \t 0.3009            \t 0.1055\n",
      "\n"
     ]
    }
   ],
   "source": [
    "for i, eps in enumerate(epsilons):\n",
    "    print(f\"Epsilon: {eps}\")\n",
    "    print(\"Attackers \\t Standard Training \\t FGSM Training \\t PGD Training\")\n",
    "    print(\"---------------------------------------------------------------\")\n",
    "    print(\"Original  \\t {}                \\t {}            \\t {}\".format(*origin_accs))\n",
    "    print(\"FGSM      \\t {}                \\t {}            \\t {}\".format(fgsm_accs[0,i], fgsm_accs[1,i], fgsm_accs[2,i]))\n",
    "    print(\"PGD       \\t {}                \\t {}            \\t {}\".format(pgd_accs[0,i], pgd_accs[1,i], pgd_accs[2,i]))\n",
    "    print()"
   ]
  },
  {
   "cell_type": "code",
   "execution_count": null,
   "metadata": {},
   "outputs": [],
   "source": []
  }
 ],
 "metadata": {
  "kernelspec": {
   "display_name": "Python 3.10.4 64-bit",
   "language": "python",
   "name": "python3"
  },
  "language_info": {
   "codemirror_mode": {
    "name": "ipython",
    "version": 3
   },
   "file_extension": ".py",
   "mimetype": "text/x-python",
   "name": "python",
   "nbconvert_exporter": "python",
   "pygments_lexer": "ipython3",
   "version": "3.10.4"
  },
  "orig_nbformat": 4,
  "vscode": {
   "interpreter": {
    "hash": "1f8e04c1004ae0e48c4c128aee02bb34a41f967cffe60616a1dbeccdbed98bf0"
   }
  }
 },
 "nbformat": 4,
 "nbformat_minor": 2
}
