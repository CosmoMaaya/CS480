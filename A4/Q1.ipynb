{
 "cells": [
  {
   "cell_type": "code",
   "execution_count": 62,
   "metadata": {},
   "outputs": [],
   "source": [
    "\n",
    "import torchvision\n",
    "import torch\n",
    "from torchvision import datasets, transforms\n",
    "import numpy as np\n",
    "import matplotlib.pyplot as plt\n",
    "from scipy.special import logsumexp, softmax\n",
    "from sklearn.decomposition import PCA \n",
    "import math\n",
    "from tqdm import tqdm\n",
    "\n",
    "MAX_ITER = 100\n",
    "EPSILON = 1e-10\n",
    "TOLERANCE = 1e-5\n",
    "\n",
    "class GMM:\n",
    "    def __init__(self, K, d):\n",
    "        self.K_RANGE = K\n",
    "        self.pi = softmax(np.random.normal(scale = 0.1, size=(K,)))\n",
    "        self.mu = np.random.normal(scale = 0.1, size =(K, d))\n",
    "        self.S = np.random.lognormal(sigma=0.1, size=(K, d)) # All positive\n",
    "\n",
    "    def EM_STEP(self, X):\n",
    "        N, d = X.shape\n",
    "        log_r = np.zeros((N, self.K_RANGE))\n",
    "        loss = []\n",
    "\n",
    "        for iter in range(MAX_ITER):\n",
    "            for k in range(self.K_RANGE):\n",
    "                log_r[:,k] = np.log(self.pi[k] + EPSILON) - 0.5 * np.sum(np.log(self.S[k] + EPSILON)) - 0.5 * np.dot((X-self.mu[k]) ** 2, 1/(self.S[k] + EPSILON))\n",
    "            \n",
    "            log_r_i = logsumexp(log_r, axis = 1)\n",
    "            log_r = log_r - log_r_i[:,None]\n",
    "            loss.append(-np.sum(log_r_i))\n",
    "\n",
    "            if iter > 1 and abs(loss[iter] - loss[iter-1]) <= TOLERANCE * abs(loss[iter]):\n",
    "                break\n",
    "\n",
    "            r = np.exp(log_r)\n",
    "            r_dot_k = np.sum(r, axis = 0)\n",
    "            self.pi = r_dot_k / N\n",
    "            self.mu = np.matmul(r.T, X) / (r_dot_k[:,None] + EPSILON)\n",
    "            self.S = np.matmul(r.T, X**2) / (r_dot_k[:,None] + EPSILON) - self.mu ** 2\n",
    "\n",
    "        return loss\n",
    "    \n",
    "    def sort_models(self):\n",
    "        indices = np.argsort(self.pi)\n",
    "        self.pi, self.mu, self.S = self.pi[indices], self.mu[indices], self.S[indices]\n",
    "\n",
    "    def p_theta(self, X):\n",
    "        p = 0\n",
    "        for k in range(self.K_RANGE):\n",
    "            exp_power = -0.5 * np.dot((X-self.mu[k]) ** 2, 1/(self.S[k] + EPSILON))\n",
    "            p += self.pi[k] * np.power(np.product(self.S[k]) * 2 * math.pi + EPSILON, -0.5) * np.exp(exp_power)\n",
    "        return p\n",
    "    \n",
    "    def __str__(self):\n",
    "        ret = \"GMM Model with K = {}\\n\".format(self.K_RANGE)\n",
    "\n",
    "        for k in range(self.K_RANGE):\n",
    "            ret += \"========Parameters for model {}=========\\n\".format(k)\n",
    "            ret += \"---Weights = {}\\n\".format(self.pi[k])\n",
    "            ret += \"---Means = {}\\n\".format(self.mu[k])\n",
    "            ret += \"---Variance = {}\\n\".format(self.S[k])\n",
    "        return ret\n",
    "transform = transforms.Compose([transforms.ToTensor()])\n"
   ]
  },
  {
   "cell_type": "code",
   "execution_count": 72,
   "metadata": {},
   "outputs": [
    {
     "name": "stdout",
     "output_type": "stream",
     "text": [
      "training GMM with k = 0\n",
      "training GMM with k = 1\n",
      "training GMM with k = 2\n",
      "training GMM with k = 3\n",
      "training GMM with k = 4\n",
      "training GMM with k = 5\n",
      "training GMM with k = 6\n",
      "training GMM with k = 7\n",
      "training GMM with k = 8\n",
      "training GMM with k = 9\n"
     ]
    },
    {
     "data": {
      "image/png": "[encoded data removed]",
      "text/plain": [
       "<Figure size 432x288 with 1 Axes>"
      ]
     },
     "metadata": {
      "needs_background": "light"
     },
     "output_type": "display_data"
    }
   ],
   "source": [
    "X = np.loadtxt(open(\"gmm_dataset.csv\", \"rb\"), delimiter=\",\")\n",
    "n, d = X.shape\n",
    "MAX_K = 10\n",
    "models, losses = [None] * MAX_K, [None] * MAX_K\n",
    "for k in range(10):\n",
    "    print(f\"training GMM with k = {k}\")\n",
    "    model = GMM(k+1, d)\n",
    "    loss = model.EM_STEP(X)\n",
    "    models[k] = model\n",
    "    losses[k] = loss[-1]\n",
    "\n",
    "plt.plot(losses)\n",
    "plt.xlabel(\"K number\")\n",
    "plt.ylabel(\"Negative Log Likelihood\")\n",
    "plt.savefig(\"gmm_loss.png\", transparent=False)\n",
    "plt.show()"
   ]
  },
  {
   "cell_type": "code",
   "execution_count": 78,
   "metadata": {},
   "outputs": [
    {
     "name": "stdout",
     "output_type": "stream",
     "text": [
      "Choose k to be 5\n",
      "GMM Model with K = 5\n",
      "========Parameters for model 0=========\n",
      "---Weights = 0.012149022366402182\n",
      "---Means = [-0.71118778 -0.51652233 -0.694506   -1.73751139  0.10280086 -0.65190711\n",
      " -2.0643607   0.24881163 -0.8323711   0.22952811  1.17827208 -0.14248053\n",
      "  1.22096289 -0.89979927  1.05089612 -0.4901747   0.05149158 -0.87880974\n",
      "  0.08197796  0.03603793]\n",
      "---Variance = [0.64627987 2.35182502 1.00524562 0.13439717 2.46732699 0.85261726\n",
      " 1.12499833 2.27824505 1.0313166  0.44311031 0.86006935 0.5709815\n",
      " 0.91348845 0.43266023 1.12378261 0.80544136 0.94170524 0.53833318\n",
      " 0.53379455 0.0370334 ]\n",
      "========Parameters for model 1=========\n",
      "---Weights = 0.19966381575964276\n",
      "---Means = [-0.44267848  0.50391154  0.950766    0.81728867  2.09622268 -1.20176037\n",
      "  0.47390156 -0.18721435  0.71796721  0.90632485  0.08468847  0.90059829\n",
      " -0.05950644 -0.93576893  0.05206341  0.25547972  1.34236937  0.50456567\n",
      " -0.07727331 -0.58232248]\n",
      "---Variance = [5.55600904 1.14899773 0.84355382 3.45094378 0.97609881 1.14948736\n",
      " 0.56444693 1.23614187 1.93669948 1.28180856 1.20297403 0.96079463\n",
      " 1.33795462 2.08707011 0.60242178 0.77659495 0.79565871 0.67950758\n",
      " 0.6038577  1.04178272]\n",
      "========Parameters for model 2=========\n",
      "---Weights = 0.2000568641754918\n",
      "---Means = [-1.04245507 -1.3932431  -1.70825617  1.91688398 -0.5408255  -0.44208073\n",
      " -1.27445681  0.76625967 -1.57571943 -0.22032739 -0.89487853  0.38816372\n",
      " -0.5371024  -1.16517172 -0.04043416  0.44105374  0.04694923  0.30218401\n",
      " -0.65274396 -0.34949195]\n",
      "---Variance = [1.60218958 0.45551774 0.16937255 0.613258   2.49069457 0.88631499\n",
      " 0.87429067 1.15515943 1.38452757 0.466079   0.06871052 1.75239497\n",
      " 0.75036747 0.79986686 0.10019445 0.67225357 1.12720575 1.03094454\n",
      " 1.13974006 0.43648473]\n",
      "========Parameters for model 3=========\n",
      "---Weights = 0.28790691759115294\n",
      "---Means = [-0.66237454 -0.39338161 -0.84402568 -1.71676513  0.19299571 -0.35905465\n",
      " -1.62649126  0.48927106 -0.9496469   0.02513854  0.73050435  0.10147877\n",
      "  1.14519113 -1.22377676  0.41055964 -0.71143272 -0.93308894 -0.55724564\n",
      " -0.33668757  0.05624604]\n",
      "---Variance = [0.49224444 1.86735304 0.98852854 0.08013825 1.16299244 0.81724326\n",
      " 0.9688641  1.51314211 1.11781767 0.30994037 0.86592261 0.3311817\n",
      " 0.83167828 0.68635855 1.05053095 0.66681669 0.71357832 0.68711859\n",
      " 0.43528422 0.01683952]\n",
      "========Parameters for model 4=========\n",
      "---Weights = 0.3002233801073085\n",
      "---Means = [-1.14978779  0.93516206  0.46951253 -1.54739486  1.50788616  1.92709509\n",
      "  1.20168114 -0.18015472 -1.0567946   1.08925075 -0.33255357  1.2268286\n",
      "  0.21180603  0.97292598  0.3526964   0.7222799   0.0106627   1.8061595\n",
      "  0.09292342  0.39997164]\n",
      "---Variance = [0.35429502 1.3040312  0.66527067 2.26419042 0.627489   1.58079312\n",
      " 1.12668034 0.04878143 0.75463334 1.64247456 1.2876397  0.28287609\n",
      " 0.04109251 1.1009087  0.5115924  0.16765842 0.78528318 0.77080565\n",
      " 2.1333621  1.35676591]\n",
      "\n"
     ]
    }
   ],
   "source": [
    "choose_of_k = 5\n",
    "\n",
    "print(f\"Choose k to be {choose_of_k}\")\n",
    "\n",
    "chosen_model = models[choose_of_k-1]\n",
    "chosen_model.sort_models()\n",
    "print(chosen_model)\n",
    "\n"
   ]
  },
  {
   "cell_type": "markdown",
   "metadata": {},
   "source": [
    "# QUESTION2 MNIST"
   ]
  },
  {
   "cell_type": "code",
   "execution_count": 74,
   "metadata": {},
   "outputs": [],
   "source": [
    "root = './data'\n",
    "train_data = datasets.MNIST(root = root, train= True, transform=None, download=True)\n",
    "test_data = datasets.MNIST(root = root, train= False, transform=None, download=True)\n",
    "\n",
    "train_N, d1, d2 = train_data.data.shape\n",
    "train_X = np.reshape(train_data.data, (train_N, d1 * d2))\n",
    "train_Y = train_data.targets.numpy()\n",
    "\n",
    "test_N, d1, d2 = test_data.data.shape\n",
    "test_X = np.reshape(test_data.data, (test_N, d1 * d2))\n",
    "test_Y = test_data.targets.numpy()\n",
    "\n",
    "d = 40\n",
    "\n",
    "reducer = PCA(n_components=d)\n",
    "reducer.fit(train_X)\n",
    "\n",
    "train_data_reduced = reducer.transform(train_X)\n",
    "test_data_reduced = reducer.transform(test_X)\n",
    "train_X = reducer.transform(train_X)\n",
    "test_X = reducer.transform(test_X)"
   ]
  },
  {
   "cell_type": "code",
   "execution_count": 75,
   "metadata": {},
   "outputs": [],
   "source": [
    "K_RANGE = 10\n",
    "\n",
    "def train(X, y):\n",
    "    x_splits = [None] * 10 # 10 splits of train_X\n",
    "    for identify_class in range(10):\n",
    "        indices = y == identify_class\n",
    "        x_splits[identify_class] = X[indices]\n",
    "    \n",
    "    total = len(X)\n",
    "    P_y_c = [len(x_c) / total for x_c in x_splits]\n",
    "    \n",
    "    models_k = [None] * K_RANGE\n",
    "    for k in range(K_RANGE):\n",
    "        print(f\"========training GMMs with k = {k}========\")\n",
    "        models = [None] * 10\n",
    "        for identify_class in tqdm(range(10)):\n",
    "            model = GMM(k+1, d)\n",
    "            model.EM_STEP(x_splits[identify_class])\n",
    "            models[identify_class] = model\n",
    "\n",
    "        models_k[k] = models\n",
    "    return models_k, P_y_c\n",
    "\n",
    "def test(X, y, models_k, P_y_c):\n",
    "    y_total = len(y)\n",
    "    errors = [None] * K_RANGE\n",
    "    for k in range(K_RANGE):\n",
    "        print(f\"========testing GMMs with k = {k}========\")\n",
    "        models = models_k[k]\n",
    "        error_count = 0\n",
    "        for i in tqdm(range(y_total)):\n",
    "            test_x, test_y = X[i], y[i]\n",
    "            probs = [model.p_theta(test_x) * P_y_c[c] for c, model in enumerate(models)]\n",
    "            y_hat = np.argmax(probs)\n",
    "            if y_hat != test_y:\n",
    "                error_count += 1\n",
    "        errors[k] = error_count / y_total\n",
    "        print(f\"When K = {k}, Error rate: {errors[k]}\")\n",
    "    return errors"
   ]
  },
  {
   "cell_type": "code",
   "execution_count": 76,
   "metadata": {},
   "outputs": [
    {
     "name": "stdout",
     "output_type": "stream",
     "text": [
      "========training GMMs with k = 0========\n"
     ]
    },
    {
     "name": "stderr",
     "output_type": "stream",
     "text": [
      "100%|██████████| 10/10 [00:00<00:00, 277.71it/s]\n"
     ]
    },
    {
     "name": "stdout",
     "output_type": "stream",
     "text": [
      "========training GMMs with k = 1========\n"
     ]
    },
    {
     "name": "stderr",
     "output_type": "stream",
     "text": [
      "100%|██████████| 10/10 [00:00<00:00, 19.38it/s]\n"
     ]
    },
    {
     "name": "stdout",
     "output_type": "stream",
     "text": [
      "========training GMMs with k = 2========\n"
     ]
    },
    {
     "name": "stderr",
     "output_type": "stream",
     "text": [
      "100%|██████████| 10/10 [00:00<00:00, 13.06it/s]\n"
     ]
    },
    {
     "name": "stdout",
     "output_type": "stream",
     "text": [
      "========training GMMs with k = 3========\n"
     ]
    },
    {
     "name": "stderr",
     "output_type": "stream",
     "text": [
      "100%|██████████| 10/10 [00:00<00:00, 10.58it/s]\n"
     ]
    },
    {
     "name": "stdout",
     "output_type": "stream",
     "text": [
      "========training GMMs with k = 4========\n"
     ]
    },
    {
     "name": "stderr",
     "output_type": "stream",
     "text": [
      "100%|██████████| 10/10 [00:01<00:00,  6.53it/s]\n"
     ]
    },
    {
     "name": "stdout",
     "output_type": "stream",
     "text": [
      "========training GMMs with k = 5========\n"
     ]
    },
    {
     "name": "stderr",
     "output_type": "stream",
     "text": [
      "100%|██████████| 10/10 [00:01<00:00,  6.82it/s]\n"
     ]
    },
    {
     "name": "stdout",
     "output_type": "stream",
     "text": [
      "========training GMMs with k = 6========\n"
     ]
    },
    {
     "name": "stderr",
     "output_type": "stream",
     "text": [
      "100%|██████████| 10/10 [00:01<00:00,  5.02it/s]\n"
     ]
    },
    {
     "name": "stdout",
     "output_type": "stream",
     "text": [
      "========training GMMs with k = 7========\n"
     ]
    },
    {
     "name": "stderr",
     "output_type": "stream",
     "text": [
      "100%|██████████| 10/10 [00:02<00:00,  4.01it/s]\n"
     ]
    },
    {
     "name": "stdout",
     "output_type": "stream",
     "text": [
      "========training GMMs with k = 8========\n"
     ]
    },
    {
     "name": "stderr",
     "output_type": "stream",
     "text": [
      "100%|██████████| 10/10 [00:02<00:00,  4.12it/s]\n"
     ]
    },
    {
     "name": "stdout",
     "output_type": "stream",
     "text": [
      "========training GMMs with k = 9========\n"
     ]
    },
    {
     "name": "stderr",
     "output_type": "stream",
     "text": [
      "100%|██████████| 10/10 [00:03<00:00,  3.06it/s]\n"
     ]
    }
   ],
   "source": [
    "models_k, pyc = train(train_data_reduced, train_Y)"
   ]
  },
  {
   "cell_type": "code",
   "execution_count": 77,
   "metadata": {},
   "outputs": [
    {
     "name": "stdout",
     "output_type": "stream",
     "text": [
      "========testing GMMs with k = 0========\n"
     ]
    },
    {
     "name": "stderr",
     "output_type": "stream",
     "text": [
      "100%|██████████| 10000/10000 [00:01<00:00, 8494.26it/s]\n"
     ]
    },
    {
     "name": "stdout",
     "output_type": "stream",
     "text": [
      "When K = 0, Error rate: 0.1255\n",
      "========testing GMMs with k = 1========\n"
     ]
    },
    {
     "name": "stderr",
     "output_type": "stream",
     "text": [
      "100%|██████████| 10000/10000 [00:02<00:00, 4477.27it/s]\n"
     ]
    },
    {
     "name": "stdout",
     "output_type": "stream",
     "text": [
      "When K = 1, Error rate: 0.1126\n",
      "========testing GMMs with k = 2========\n"
     ]
    },
    {
     "name": "stderr",
     "output_type": "stream",
     "text": [
      "100%|██████████| 10000/10000 [00:03<00:00, 3038.83it/s]\n"
     ]
    },
    {
     "name": "stdout",
     "output_type": "stream",
     "text": [
      "When K = 2, Error rate: 0.0987\n",
      "========testing GMMs with k = 3========\n"
     ]
    },
    {
     "name": "stderr",
     "output_type": "stream",
     "text": [
      "100%|██████████| 10000/10000 [00:04<00:00, 2290.96it/s]\n"
     ]
    },
    {
     "name": "stdout",
     "output_type": "stream",
     "text": [
      "When K = 3, Error rate: 0.0895\n",
      "========testing GMMs with k = 4========\n"
     ]
    },
    {
     "name": "stderr",
     "output_type": "stream",
     "text": [
      "100%|██████████| 10000/10000 [00:05<00:00, 1855.56it/s]\n"
     ]
    },
    {
     "name": "stdout",
     "output_type": "stream",
     "text": [
      "When K = 4, Error rate: 0.0847\n",
      "========testing GMMs with k = 5========\n"
     ]
    },
    {
     "name": "stderr",
     "output_type": "stream",
     "text": [
      "100%|██████████| 10000/10000 [00:06<00:00, 1549.52it/s]\n"
     ]
    },
    {
     "name": "stdout",
     "output_type": "stream",
     "text": [
      "When K = 5, Error rate: 0.0763\n",
      "========testing GMMs with k = 6========\n"
     ]
    },
    {
     "name": "stderr",
     "output_type": "stream",
     "text": [
      "100%|██████████| 10000/10000 [00:07<00:00, 1334.10it/s]\n"
     ]
    },
    {
     "name": "stdout",
     "output_type": "stream",
     "text": [
      "When K = 6, Error rate: 0.0717\n",
      "========testing GMMs with k = 7========\n"
     ]
    },
    {
     "name": "stderr",
     "output_type": "stream",
     "text": [
      "100%|██████████| 10000/10000 [00:08<00:00, 1169.46it/s]\n"
     ]
    },
    {
     "name": "stdout",
     "output_type": "stream",
     "text": [
      "When K = 7, Error rate: 0.0779\n",
      "========testing GMMs with k = 8========\n"
     ]
    },
    {
     "name": "stderr",
     "output_type": "stream",
     "text": [
      "100%|██████████| 10000/10000 [00:09<00:00, 1034.21it/s]\n"
     ]
    },
    {
     "name": "stdout",
     "output_type": "stream",
     "text": [
      "When K = 8, Error rate: 0.072\n",
      "========testing GMMs with k = 9========\n"
     ]
    },
    {
     "name": "stderr",
     "output_type": "stream",
     "text": [
      "100%|██████████| 10000/10000 [00:10<00:00, 923.53it/s]"
     ]
    },
    {
     "name": "stdout",
     "output_type": "stream",
     "text": [
      "When K = 9, Error rate: 0.0698\n"
     ]
    },
    {
     "name": "stderr",
     "output_type": "stream",
     "text": [
      "\n"
     ]
    }
   ],
   "source": [
    "errors = test(test_data_reduced, test_Y, models_k, pyc)"
   ]
  },
  {
   "cell_type": "code",
   "execution_count": 82,
   "metadata": {},
   "outputs": [
    {
     "data": {
      "image/png": "[encoded data removed]",
      "text/plain": [
       "<Figure size 432x288 with 1 Axes>"
      ]
     },
     "metadata": {
      "needs_background": "light"
     },
     "output_type": "display_data"
    }
   ],
   "source": [
    "plt.plot(errors)\n",
    "plt.xlabel(\"K number\")\n",
    "plt.ylabel(\"Error rate\")\n",
    "plt.savefig(\"gmm_loss.png\", transparent=False)\n",
    "plt.show()"
   ]
  },
  {
   "cell_type": "markdown",
   "metadata": {},
   "source": []
  }
 ],
 "metadata": {
  "kernelspec": {
   "display_name": "Python 3.10.4 64-bit",
   "language": "python",
   "name": "python3"
  },
  "language_info": {
   "codemirror_mode": {
    "name": "ipython",
    "version": 3
   },
   "file_extension": ".py",
   "mimetype": "text/x-python",
   "name": "python",
   "nbconvert_exporter": "python",
   "pygments_lexer": "ipython3",
   "version": "3.10.4"
  },
  "orig_nbformat": 4,
  "vscode": {
   "interpreter": {
    "hash": "1f8e04c1004ae0e48c4c128aee02bb34a41f967cffe60616a1dbeccdbed98bf0"
   }
  }
 },
 "nbformat": 4,
 "nbformat_minor": 2
}
