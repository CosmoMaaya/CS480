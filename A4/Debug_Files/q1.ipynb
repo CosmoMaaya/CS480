{
 "cells": [
  {
   "cell_type": "code",
   "execution_count": 3,
   "metadata": {},
   "outputs": [
    {
     "name": "stderr",
     "output_type": "stream",
     "text": [
      "c:\\Users\\KandaMaya\\AppData\\Local\\Programs\\Python\\Python310\\lib\\site-packages\\tqdm\\auto.py:22: TqdmWarning: IProgress not found. Please update jupyter and ipywidgets. See https://ipywidgets.readthedocs.io/en/stable/user_install.html\n",
      "  from .autonotebook import tqdm as notebook_tqdm\n"
     ]
    }
   ],
   "source": [
    "import torchvision\n",
    "import torch\n",
    "from torchvision import datasets, transforms\n",
    "import numpy as np\n",
    "# from tqdm import tqdm\n",
    "from scipy.special import logsumexp\n",
    "from multiprocessing import Pool\n",
    "\n",
    "MAX_ITER = 10\n",
    "EPSILON = 1e-7\n",
    "TOLERANCE = 1e-5\n",
    "transform = transforms.Compose([transforms.ToTensor()])"
   ]
  },
  {
   "cell_type": "code",
   "execution_count": 4,
   "metadata": {},
   "outputs": [],
   "source": [
    "def initializeModel(K, d):\n",
    "    np.random.seed(0)\n",
    "    pi = np.random.rand(K)\n",
    "    pi = pi / np.sum(pi)\n",
    "\n",
    "    np.random.seed(0)\n",
    "    mu = np.random.normal(0, 3, size=(K, d))\n",
    "\n",
    "    np.random.seed(0)\n",
    "    S = np.random.rand(K, d) + 0.5 + EPSILON\n",
    "\n",
    "    return pi, mu, S\n",
    "\n"
   ]
  },
  {
   "cell_type": "code",
   "execution_count": 5,
   "metadata": {},
   "outputs": [
    {
     "name": "stdout",
     "output_type": "stream",
     "text": [
      "(array([0.2275677 , 0.29655611, 0.24993822, 0.22593797]), array([[ 5.29215704,  1.20047163,  2.93621395],\n",
      "       [ 6.7226796 ,  5.60267397, -2.93183364],\n",
      "       [ 2.85026525, -0.45407162, -0.30965656],\n",
      "       [ 1.23179551,  0.43213071,  4.36282052]]), array([[1.0488136 , 1.21518947, 1.10276348],\n",
      "       [1.04488328, 0.9236549 , 1.14589421],\n",
      "       [0.93758731, 1.3917731 , 1.46366286],\n",
      "       [0.88344162, 1.29172514, 1.02889502]]))\n"
     ]
    }
   ],
   "source": [
    "print(initializeModel(4, 3))\n",
    "a, b, c = initializeModel(4,3)"
   ]
  },
  {
   "cell_type": "code",
   "execution_count": 6,
   "metadata": {},
   "outputs": [],
   "source": [
    "def GMM(X, K_RANGE):\n",
    "    N, d = X.shape\n",
    "    pi, mu, S = initializeModel(K_RANGE, d)\n",
    "    log_r = np.zeros((N, K_RANGE))\n",
    "    loss = [0.0] * MAX_ITER\n",
    "\n",
    "    for iter in range(MAX_ITER):\n",
    "        print(pi)\n",
    "        for k in range(K_RANGE):\n",
    "            log_r[:,k] = np.log(pi[k] + EPSILON) - 0.5 * np.sum(np.log(S[k] + EPSILON)) - 0.5 * np.sum((X-mu[k]) ** 2 / (S[k] + EPSILON), axis = 1)\n",
    "        \n",
    "        log_r_i = logsumexp(log_r, axis = 1)\n",
    "        log_r = log_r - log_r_i[:,None]\n",
    "        loss[iter] = -np.sum(log_r_i)\n",
    "\n",
    "        if iter > 1 and abs(loss[iter] - loss[iter-1]) <= TOLERANCE * abs(loss[iter]):\n",
    "            break\n",
    "\n",
    "        r = np.exp(log_r)\n",
    "        r_dot_k = np.sum(r, axis = 0)\n",
    "        pi = r_dot_k / N\n",
    "        mu = np.matmul(r.T, X) / (r_dot_k[:,None] + EPSILON)\n",
    "        S = np.matmul(r.T, X**2) / (r_dot_k[:,None] + EPSILON) - mu ** 2\n",
    "\n",
    "    return pi, mu, S, loss"
   ]
  },
  {
   "cell_type": "code",
   "execution_count": 7,
   "metadata": {},
   "outputs": [
    {
     "name": "stdout",
     "output_type": "stream",
     "text": [
      "train for class 0\n",
      "[0.19356424 0.25224431 0.21259213 0.19217803 0.14942128]\n",
      "[0.021273   0.13709269 0.53503292 0.13337836 0.17322303]\n"
     ]
    },
    {
     "name": "stderr",
     "output_type": "stream",
     "text": [
      "C:\\Users\\KandaMaya\\AppData\\Local\\Temp\\ipykernel_8736\\485548835.py:10: RuntimeWarning: invalid value encountered in log\n",
      "  log_r[:,k] = np.log(pi[k] + EPSILON) - 0.5 * np.sum(np.log(S[k] + EPSILON)) - 0.5 * np.sum((X-mu[k]) ** 2 / (S[k] + EPSILON), axis = 1)\n"
     ]
    },
    {
     "name": "stdout",
     "output_type": "stream",
     "text": [
      "[nan nan nan nan nan]\n",
      "[nan nan nan nan nan]\n",
      "[nan nan nan nan nan]\n",
      "[nan nan nan nan nan]\n",
      "[nan nan nan nan nan]\n",
      "[nan nan nan nan nan]\n",
      "[nan nan nan nan nan]\n",
      "[nan nan nan nan nan]\n"
     ]
    },
    {
     "ename": "NameError",
     "evalue": "name 'pis' is not defined",
     "output_type": "error",
     "traceback": [
      "\u001b[1;31m---------------------------------------------------------------------------\u001b[0m",
      "\u001b[1;31mNameError\u001b[0m                                 Traceback (most recent call last)",
      "\u001b[1;32mc:\\Users\\KandaMaya\\Documents\\University\\4A\\CS480\\A4\\Debug_Files\\q1.ipynb Cell 5\u001b[0m in \u001b[0;36m<cell line: 11>\u001b[1;34m()\u001b[0m\n\u001b[0;32m      <a href='vscode-notebook-cell:/c%3A/Users/KandaMaya/Documents/University/4A/CS480/A4/Debug_Files/q1.ipynb#ch0000004?line=8'>9</a>\u001b[0m X \u001b[39m=\u001b[39m np_X\u001b[39m.\u001b[39mreshape(N, d1\u001b[39m*\u001b[39md2)\n\u001b[0;32m     <a href='vscode-notebook-cell:/c%3A/Users/KandaMaya/Documents/University/4A/CS480/A4/Debug_Files/q1.ipynb#ch0000004?line=9'>10</a>\u001b[0m pi, mu, S, loss \u001b[39m=\u001b[39m GMM(X, \u001b[39m5\u001b[39m)\n\u001b[1;32m---> <a href='vscode-notebook-cell:/c%3A/Users/KandaMaya/Documents/University/4A/CS480/A4/Debug_Files/q1.ipynb#ch0000004?line=10'>11</a>\u001b[0m pis[k] \u001b[39m=\u001b[39m pi\n\u001b[0;32m     <a href='vscode-notebook-cell:/c%3A/Users/KandaMaya/Documents/University/4A/CS480/A4/Debug_Files/q1.ipynb#ch0000004?line=11'>12</a>\u001b[0m mus[k] \u001b[39m=\u001b[39m mu\n\u001b[0;32m     <a href='vscode-notebook-cell:/c%3A/Users/KandaMaya/Documents/University/4A/CS480/A4/Debug_Files/q1.ipynb#ch0000004?line=12'>13</a>\u001b[0m Ss[k] \u001b[39m=\u001b[39m S\n",
      "\u001b[1;31mNameError\u001b[0m: name 'pis' is not defined"
     ]
    }
   ],
   "source": [
    "print(\"train for class {}\".format(0))\n",
    "data_train = datasets.MNIST(root = \"./data/\",\n",
    "                        transform=transform,\n",
    "                        train = True,\n",
    "                        download = True)\n",
    "idx = data_train.targets == 0\n",
    "np_X = data_train.data[idx].numpy()\n",
    "N, d1, d2 = np_X.shape\n",
    "X = np_X.reshape(N, d1*d2)\n",
    "pi, mu, S, loss = GMM(X, 5)\n",
    "pis[k] = pi\n",
    "mus[k] = mu\n",
    "Ss[k] = S\n",
    "losses[k] = [ val for val in loss if val > 0.0]"
   ]
  },
  {
   "cell_type": "code",
   "execution_count": 29,
   "metadata": {},
   "outputs": [
    {
     "name": "stdout",
     "output_type": "stream",
     "text": [
      "[9.00017103e-182 5.91626728e+003 1.49690782e-085 6.73272205e+000\n",
      " 1.02583219e-240]\n",
      "[1.00000000e+00 5.66800001e+03 1.00000000e+00 2.51999987e+02\n",
      " 1.00000000e+00]\n",
      "[1.00000000e+00 5.45607429e+03 1.00000000e+00 4.63925708e+02\n",
      " 1.00000000e+00]\n",
      "[1.000e+00 5.295e+03 1.000e+00 6.250e+02 1.000e+00]\n",
      "[1.00000000e+00 5.11178031e+03 1.00000000e+00 8.08219686e+02\n",
      " 1.00000000e+00]\n",
      "[1.00000000e+00 5.00900001e+03 1.00000000e+00 9.10999995e+02\n",
      " 1.00000000e+00]\n",
      "[1.00000000e+00 4.85310371e+03 1.00000000e+00 1.06689629e+03\n",
      " 1.00000000e+00]\n",
      "[1.00000000e+00 4.73038144e+03 1.00000000e+00 1.18961856e+03\n",
      " 1.00000000e+00]\n",
      "[1.0000000e+00 4.6420225e+03 1.0000000e+00 1.2779775e+03 1.0000000e+00]\n",
      "[1.00000000e+00 4.51710492e+03 1.00000000e+00 1.40289508e+03\n",
      " 1.00000000e+00]\n",
      "[1.68833361e-04 7.62638007e-01 1.68833361e-04 2.36855493e-01\n",
      " 1.68833361e-04]\n",
      "[[0. 0. 0. ... 0. 0. 0.]\n",
      " [0. 0. 0. ... 0. 0. 0.]\n",
      " [0. 0. 0. ... 0. 0. 0.]\n",
      " [0. 0. 0. ... 0. 0. 0.]\n",
      " [0. 0. 0. ... 0. 0. 0.]]\n",
      "[[0. 0. 0. ... 0. 0. 0.]\n",
      " [0. 0. 0. ... 0. 0. 0.]\n",
      " [0. 0. 0. ... 0. 0. 0.]\n",
      " [0. 0. 0. ... 0. 0. 0.]\n",
      " [0. 0. 0. ... 0. 0. 0.]]\n",
      "[20698618.517426223, -15999343.752176845, -16275470.656740772, -16448878.374977026, -16632443.01111938, -16752725.286582347, -16884144.03926635, -17013780.21011441, -17081618.64854868, -17177305.09002184]\n"
     ]
    }
   ],
   "source": [
    "data_train = datasets.MNIST(root = \"./data/\",\n",
    "                        transform=transform,\n",
    "                        train = True,\n",
    "                        download = True)\n",
    "idx = data_train.targets == 0\n",
    "np_X = data_train.data[idx].numpy()\n",
    "N, d1, d2 = np_X.shape\n",
    "X = np_X.reshape(N, d1*d2) / 255.0\n",
    "pi, mu, S, loss = GMM(X, 5)\n",
    "print(pi)\n",
    "print(mu)\n",
    "print(S)\n",
    "print(loss)"
   ]
  },
  {
   "cell_type": "code",
   "execution_count": 31,
   "metadata": {},
   "outputs": [
    {
     "name": "stdout",
     "output_type": "stream",
     "text": [
      "[5000.]\n",
      "[5000.]\n",
      "[1.]\n",
      "[3256.54594257 1743.45405743]\n",
      "[3258.94072729 1741.05927271]\n",
      "[3122.96725161 1877.03274839]\n",
      "[3063.23074802 1936.76925198]\n",
      "[3226.93707645 1773.06292355]\n",
      "[3443.90169029 1556.09830971]\n",
      "[3500.39241273 1499.60758727]\n",
      "[3503.04748491 1496.95251509]\n",
      "[0.7006095 0.2993905]\n",
      "[1574.46615022 1109.73922231 2315.79462746]\n",
      "[1800.1174638   715.31482745 2484.56770875]\n",
      "[1975.75873004  515.48918358 2508.75208638]\n",
      "[1980.12390741  500.50850914 2519.36758346]\n",
      "[1977.51925912  499.75124554 2522.72949534]\n",
      "[0.39550385 0.09995025 0.5045459 ]\n",
      "[ 704.57364746  453.48756566  933.44928314 2908.48950374]\n",
      "[ 744.04617538  499.41485304  996.81954234 2759.71942925]\n",
      "[ 828.12299587  499.48392452  999.10808988 2673.28498972]\n",
      "[1070.75845199  499.29614962  999.300914   2430.64448439]\n",
      "[1658.50724002  499.20872771  999.5367571  1842.74727517]\n",
      "[1990.1921504   499.42653472 1000.61551511 1509.76579976]\n",
      "[1999.12782984  499.65287239 1001.2294612  1499.98983657]\n",
      "[1999.0670886   499.67069395 1001.27939102 1499.98282643]\n",
      "[0.39981342 0.09993414 0.20025588 0.29999657]\n",
      "[ 503.7025373   438.97787089  930.34130145 1720.0122325  1406.96605785]\n",
      "[ 498.42648644  499.8900548   998.17865996 1502.00304478 1501.50175403]\n",
      "[ 498.28014594  499.9918476   999.98838147 1500.00533871 1501.73428629]\n",
      "[ 498.27604438  499.99221178  999.98915885 1500.00449913 1501.73808586]\n",
      "[0.09965521 0.09999844 0.19999783 0.3000009  0.30034762]\n",
      "[5.03702537e+02 4.38977871e+02 9.30341301e+02 1.72001223e+03\n",
      " 1.40696606e+03 2.16547447e-12]\n",
      "[4.98426486e+02 4.99890055e+02 9.98178660e+02 1.50200304e+03\n",
      " 1.50149490e+03 6.85454909e-03]\n",
      "[4.98280150e+02 4.99991848e+02 9.99988382e+02 1.50000534e+03\n",
      " 1.50073428e+03 1.00000000e+00]\n",
      "[4.98276576e+02 4.99992211e+02 9.99989170e+02 1.50000450e+03\n",
      " 1.50073754e+03 1.00000000e+00]\n",
      "[9.96553152e-02 9.99984421e-02 1.99997834e-01 3.00000900e-01\n",
      " 3.00147509e-01 2.00000000e-04]\n",
      "[3.97222481e+02 3.75837286e+02 4.37183361e+02 1.64487823e+03\n",
      " 1.36730234e+03 1.75976676e-12 7.77576305e+02]\n",
      "[4.87881645e+02 4.99519507e+02 7.51951006e+02 1.50010615e+03\n",
      " 1.49811621e+03 1.00000000e+00 2.61425475e+02]\n",
      "[4.97599089e+02 4.99992083e+02 7.82621529e+02 1.50000019e+03\n",
      " 1.50065879e+03 1.00000000e+00 2.18128326e+02]\n",
      "[4.98241719e+02 4.99992213e+02 7.87493651e+02 1.50000065e+03\n",
      " 1.50072796e+03 1.00000000e+00 2.12543812e+02]\n",
      "[4.98264643e+02 4.99992212e+02 7.88635291e+02 1.50000031e+03\n",
      " 1.50073389e+03 1.00000000e+00 2.11373658e+02]\n",
      "[4.98269955e+02 4.99992212e+02 7.87692936e+02 1.49999968e+03\n",
      " 1.50073594e+03 1.00000000e+00 2.12309277e+02]\n",
      "[4.98272091e+02 4.99992212e+02 7.85310374e+02 1.49999891e+03\n",
      " 1.50073691e+03 1.00000000e+00 2.14689502e+02]\n",
      "[4.98273221e+02 4.99992212e+02 7.81932554e+02 1.49999813e+03\n",
      " 1.50073740e+03 1.00000000e+00 2.18066485e+02]\n",
      "[4.98273982e+02 4.99992212e+02 7.77974642e+02 1.49999741e+03\n",
      " 1.50073766e+03 1.00000000e+00 2.22024100e+02]\n",
      "[4.98274599e+02 4.99992212e+02 7.73802134e+02 1.49999682e+03\n",
      " 1.50073779e+03 1.00000000e+00 2.26196451e+02]\n",
      "[9.96549199e-02 9.99984424e-02 1.54760427e-01 2.99999364e-01\n",
      " 3.00147557e-01 2.00000000e-04 4.52392903e-02]\n",
      "[3.93999112e+02 3.69197753e+02 4.30753905e+02 1.64098595e+03\n",
      " 1.35362258e+03 1.75976676e-12 7.61937881e+02 4.95028267e+01]\n",
      "[4.85293972e+02 4.98949167e+02 7.46729737e+02 1.50010057e+03\n",
      " 1.49577227e+03 1.00000000e+00 2.65614360e+02 6.53992474e+00]\n",
      "[4.94393064e+02 4.99891195e+02 7.76578909e+02 1.50000028e+03\n",
      " 1.49927699e+03 1.00000000e+00 2.24099364e+02 4.76020376e+00]\n",
      "[4.94665347e+02 4.99992164e+02 7.81265127e+02 1.50000058e+03\n",
      " 1.49981044e+03 1.00000000e+00 2.18769914e+02 4.49642912e+00]\n",
      "[4.94378150e+02 4.99992245e+02 7.82266021e+02 1.50000020e+03\n",
      " 1.50036080e+03 1.00000000e+00 2.17743350e+02 4.25923090e+00]\n",
      "[4.94246854e+02 4.99992248e+02 7.81155479e+02 1.49999951e+03\n",
      " 1.50075928e+03 1.00000000e+00 2.18847962e+02 3.99866749e+00]\n",
      "[4.94242491e+02 4.99992250e+02 7.78582426e+02 1.49999867e+03\n",
      " 1.50076576e+03 1.00000000e+00 2.21419029e+02 3.99936887e+00]\n",
      "[4.94243317e+02 4.99992250e+02 7.75025409e+02 1.49999782e+03\n",
      " 1.50076631e+03 1.00000000e+00 2.24975373e+02 3.99952285e+00]\n",
      "[4.94244038e+02 4.99992250e+02 7.70934163e+02 1.49999705e+03\n",
      " 1.50076655e+03 1.00000000e+00 2.29066427e+02 3.99952303e+00]\n",
      "[4.94244632e+02 4.99992250e+02 7.66689570e+02 1.49999643e+03\n",
      " 1.50076667e+03 1.00000000e+00 2.33310925e+02 3.99952303e+00]\n",
      "[9.88489264e-02 9.99984500e-02 1.53337914e-01 2.99999285e-01\n",
      " 3.00153335e-01 2.00000000e-04 4.66621851e-02 7.99904606e-04]\n",
      "[3.93938913e+02 3.63868840e+02 4.30750271e+02 1.63002075e+03\n",
      " 1.34821420e+03 1.75976676e-12 7.59489627e+02 4.73302062e+01\n",
      " 2.63871912e+01]\n",
      "[4.85057996e+02 4.98793751e+02 7.45127046e+02 1.49942645e+03\n",
      " 1.49556816e+03 1.00000000e+00 2.67012893e+02 6.11305968e+00\n",
      " 1.90064390e+00]\n",
      "[4.94175495e+02 4.99954947e+02 7.74605717e+02 1.49897864e+03\n",
      " 1.49909409e+03 1.00000000e+00 2.26046248e+02 4.53200557e+00\n",
      " 1.61285467e+00]\n",
      "[4.94742924e+02 4.99992306e+02 7.79252968e+02 1.49899589e+03\n",
      " 1.49944066e+03 1.00000000e+00 2.20781175e+02 4.30812554e+00\n",
      " 1.48594524e+00]\n",
      "[4.94261799e+02 4.99992303e+02 7.80249686e+02 1.49900014e+03\n",
      " 1.49993151e+03 1.00000000e+00 2.19759292e+02 3.81589434e+00\n",
      " 1.98937562e+00]\n",
      "[4.94249047e+02 4.99992306e+02 7.79136007e+02 1.49899944e+03\n",
      " 1.50059951e+03 1.00000000e+00 2.20867184e+02 3.15650516e+00\n",
      " 1.99999893e+00]\n",
      "[4.94245197e+02 4.99992305e+02 7.76556942e+02 1.49899860e+03\n",
      " 1.50076334e+03 1.00000000e+00 2.23444227e+02 2.99939384e+00\n",
      " 1.99999905e+00]\n",
      "[4.94245076e+02 4.99992305e+02 7.72995021e+02 1.49899773e+03\n",
      " 1.50076439e+03 1.00000000e+00 2.27005503e+02 2.99997569e+00\n",
      " 1.99999905e+00]\n",
      "[4.94245772e+02 4.99992305e+02 7.68904283e+02 1.49899695e+03\n",
      " 1.50076464e+03 1.00000000e+00 2.31096068e+02 2.99997596e+00\n",
      " 1.99999905e+00]\n",
      "[4.94246362e+02 4.99992305e+02 7.64666921e+02 1.49899632e+03\n",
      " 1.50076477e+03 1.00000000e+00 2.35333345e+02 2.99997596e+00\n",
      " 1.99999905e+00]\n",
      "[9.88492724e-02 9.99984610e-02 1.52933384e-01 2.99799265e-01\n",
      " 3.00152953e-01 2.00000000e-04 4.70666690e-02 5.99995193e-04\n",
      " 3.99999809e-04]\n",
      "[3.93938913e+02 3.63868840e+02 4.30750271e+02 1.63000099e+03\n",
      " 1.34820160e+03 1.75976676e-12 7.59489458e+02 4.73302062e+01\n",
      " 2.63871912e+01 3.25239857e-02]\n",
      "[4.85058017e+02 4.98793758e+02 7.45126788e+02 1.49942623e+03\n",
      " 1.49363542e+03 1.00000000e+00 2.67013307e+02 6.11305916e+00\n",
      " 1.90084156e+00 1.93258403e+00]\n",
      "[4.94178019e+02 4.99954949e+02 7.74605625e+02 1.49897864e+03\n",
      " 1.49709192e+03 1.00000000e+00 2.26047495e+02 4.53077188e+00\n",
      " 1.61258850e+00 1.99999581e+00]\n",
      "[4.94745598e+02 4.99992311e+02 7.79253747e+02 1.49899590e+03\n",
      " 1.49744404e+03 1.00000000e+00 2.20780551e+02 4.30228963e+00\n",
      " 1.48556065e+00 1.99999785e+00]\n",
      "[4.94264263e+02 4.99992308e+02 7.80250801e+02 1.49900014e+03\n",
      " 1.49794502e+03 1.00000000e+00 2.19758240e+02 3.79998944e+00\n",
      " 1.98923759e+00 1.99999784e+00]\n",
      "[4.94251259e+02 4.99992311e+02 7.79137398e+02 1.49899944e+03\n",
      " 1.49861535e+03 1.00000000e+00 2.20865826e+02 3.13841183e+00\n",
      " 1.99999893e+00 1.99999784e+00]\n",
      "[4.94247468e+02 4.99992310e+02 7.76558568e+02 1.49899860e+03\n",
      " 1.49876098e+03 1.00000000e+00 2.23442619e+02 2.99945450e+00\n",
      " 1.99999905e+00 1.99999784e+00]\n",
      "[4.94247465e+02 4.99992310e+02 7.72996827e+02 1.49899774e+03\n",
      " 1.49876198e+03 1.00000000e+00 2.27003707e+02 2.99997576e+00\n",
      " 1.99999905e+00 1.99999784e+00]\n",
      "[4.94248163e+02 4.99992310e+02 7.68906207e+02 1.49899695e+03\n",
      " 1.49876224e+03 1.00000000e+00 2.31094152e+02 2.99997596e+00\n",
      " 1.99999905e+00 1.99999784e+00]\n",
      "[4.94248753e+02 4.99992310e+02 7.64668908e+02 1.49899633e+03\n",
      " 1.49876236e+03 1.00000000e+00 2.35331364e+02 2.99997596e+00\n",
      " 1.99999905e+00 1.99999784e+00]\n",
      "[9.88497506e-02 9.99984621e-02 1.52933782e-01 2.99799265e-01\n",
      " 2.99752473e-01 2.00000000e-04 4.70662729e-02 5.99995193e-04\n",
      " 3.99999809e-04 3.99999569e-04]\n"
     ]
    }
   ],
   "source": [
    "X = np.loadtxt(open(\"gmm_dataset.csv\", \"rb\"), delimiter=\",\")\n",
    "\n",
    "K = 10\n",
    "pis, mus, Ss, losses = [[None for _ in range(K)] for _ in range(4)]\n",
    "for k in range(10):\n",
    "    pi, mu, S, loss = GMM(X, k+1)\n",
    "    pis[k] = pi\n",
    "    mus[k] = mu\n",
    "    Ss[k] = S\n",
    "    losses[k] = [ val for val in loss if val > 0.0]\n",
    "    print(pi)\n"
   ]
  },
  {
   "cell_type": "code",
   "execution_count": 32,
   "metadata": {},
   "outputs": [
    {
     "name": "stdout",
     "output_type": "stream",
     "text": [
      "69939.41787313473\n",
      "58105.13225849246\n",
      "51670.13914769469\n",
      "41554.07119920562\n",
      "34512.117207307274\n",
      "34347.080310634\n",
      "34314.399090849474\n",
      "34281.32037530586\n",
      "34237.36920278936\n",
      "34210.69281425627\n"
     ]
    }
   ],
   "source": [
    "for loss in losses:\n",
    "    print(loss[-1])"
   ]
  },
  {
   "cell_type": "code",
   "execution_count": 38,
   "metadata": {},
   "outputs": [
    {
     "name": "stdout",
     "output_type": "stream",
     "text": [
      "train for class 0\n",
      "train for class 1\n",
      "train for class 2\n",
      "train for class 3\n",
      "train for class 4\n",
      "train for class 5\n",
      "train for class 6\n",
      "train for class 7\n",
      "train for class 8\n",
      "train for class 9\n",
      "train for class 0\n",
      "train for class 1\n",
      "train for class 2\n",
      "train for class 3\n",
      "train for class 4\n",
      "train for class 5\n",
      "train for class 6\n",
      "train for class 7\n",
      "train for class 8\n",
      "train for class 9\n",
      "train for class 0\n",
      "train for class 1\n",
      "train for class 2\n",
      "train for class 3\n",
      "train for class 4\n",
      "train for class 5\n",
      "train for class 6\n",
      "train for class 7\n",
      "train for class 8\n",
      "train for class 9\n",
      "train for class 0\n",
      "train for class 1\n",
      "train for class 2\n",
      "train for class 3\n",
      "train for class 4\n",
      "train for class 5\n",
      "train for class 6\n",
      "train for class 7\n",
      "train for class 8\n",
      "train for class 9\n",
      "train for class 0\n",
      "train for class 1\n",
      "train for class 2\n",
      "train for class 3\n",
      "train for class 4\n",
      "train for class 5\n",
      "train for class 6\n",
      "train for class 7\n",
      "train for class 8\n",
      "train for class 9\n",
      "train for class 0\n",
      "train for class 1\n",
      "train for class 2\n",
      "train for class 3\n",
      "train for class 4\n",
      "train for class 5\n",
      "train for class 6\n",
      "train for class 7\n",
      "train for class 8\n",
      "train for class 9\n",
      "train for class 0\n",
      "train for class 1\n",
      "train for class 2\n",
      "train for class 3\n",
      "train for class 4\n",
      "train for class 5\n",
      "train for class 6\n",
      "train for class 7\n",
      "train for class 8\n",
      "train for class 9\n",
      "train for class 0\n",
      "train for class 1\n",
      "train for class 2\n",
      "train for class 3\n",
      "train for class 4\n",
      "train for class 5\n",
      "train for class 6\n",
      "train for class 7\n",
      "train for class 8\n",
      "train for class 9\n",
      "train for class 0\n",
      "train for class 1\n",
      "train for class 2\n",
      "train for class 3\n",
      "train for class 4\n",
      "train for class 5\n",
      "train for class 6\n",
      "train for class 7\n",
      "train for class 8\n",
      "train for class 9\n",
      "train for class 0\n",
      "train for class 1\n",
      "train for class 2\n",
      "train for class 3\n",
      "train for class 4\n",
      "train for class 5\n",
      "train for class 6\n",
      "train for class 7\n",
      "train for class 8\n",
      "train for class 9\n"
     ]
    }
   ],
   "source": [
    "pis, mus, Ss, losses = [[None for _ in range(10)] for _ in range(4)]\n",
    "\n",
    "for k in range(10):\n",
    "    for identify_cls in range(10):\n",
    "        print(\"train for class {}\".format(identify_cls))\n",
    "        data_train = datasets.MNIST(root = \"./data/\",\n",
    "                                transform=transform,\n",
    "                                train = True,\n",
    "                                download = True)\n",
    "        idx = data_train.targets == identify_cls\n",
    "        np_X = data_train.data[idx].numpy()\n",
    "        N, d1, d2 = np_X.shape\n",
    "        X = np_X.reshape(N, d1*d2) / 255.0\n",
    "        pi, mu, S, loss = GMM(X, 5)\n",
    "        pis[k] = pi\n",
    "        mus[k] = mu\n",
    "        Ss[k] = S\n",
    "        losses[k] = [ val for val in loss if val > 0.0]"
   ]
  },
  {
   "cell_type": "code",
   "execution_count": null,
   "metadata": {},
   "outputs": [],
   "source": []
  },
  {
   "cell_type": "code",
   "execution_count": 48,
   "metadata": {},
   "outputs": [
    {
     "name": "stderr",
     "output_type": "stream",
     "text": [
      "C:\\Users\\KandaMaya\\AppData\\Local\\Temp\\ipykernel_2384\\557739713.py:14: RuntimeWarning: invalid value encountered in log\n",
      "  log_r[:,k] = np.log(pi[k]) - 0.5 * np.sum(np.log(S[k])) - 0.5 * np.dot((X-mu[k]) ** 2, 1/S[k])\n"
     ]
    },
    {
     "name": "stdout",
     "output_type": "stream",
     "text": [
      "[nan nan nan nan nan]\n",
      "[[nan nan nan ... nan nan nan]\n",
      " [nan nan nan ... nan nan nan]\n",
      " [nan nan nan ... nan nan nan]\n",
      " [nan nan nan ... nan nan nan]\n",
      " [nan nan nan ... nan nan nan]]\n",
      "[[nan nan nan ... nan nan nan]\n",
      " [nan nan nan ... nan nan nan]\n",
      " [nan nan nan ... nan nan nan]\n",
      " [nan nan nan ... nan nan nan]\n",
      " [nan nan nan ... nan nan nan]]\n",
      "[24574538708.09118, nan, nan, nan, nan, nan, nan, nan, nan, nan, nan, nan, nan, nan, nan, nan, nan, nan, nan, nan, nan, nan, nan, nan, nan, nan, nan, nan, nan, nan, nan, nan, nan, nan, nan, nan, nan, nan, nan, nan, nan, nan, nan, nan, nan, nan, nan, nan, nan, nan]\n"
     ]
    }
   ],
   "source": [
    "\n",
    "data_train = datasets.MNIST(root = \"./data/\",\n",
    "                        transform=transform,\n",
    "                        train = True,\n",
    "                        download = True)\n",
    "idx = data_train.targets == 0\n",
    "np_X = data_train.data[idx].numpy()\n",
    "N, d1, d2 = np_X.shape\n",
    "X = np_X.reshape(N, d1*d2)\n",
    "pi, mu, S, loss = GMM(X, 5)\n",
    "print(pi)\n",
    "print(mu)\n",
    "print(S)\n",
    "print(loss)"
   ]
  },
  {
   "cell_type": "code",
   "execution_count": 37,
   "metadata": {},
   "outputs": [
    {
     "name": "stdout",
     "output_type": "stream",
     "text": [
      "[5.5 6.5 7.5]\n",
      "[[-4.5 -4.5 -4.5]\n",
      " [-1.5 -1.5 -1.5]\n",
      " [ 1.5  1.5  1.5]\n",
      " [ 4.5  4.5  4.5]]\n"
     ]
    },
    {
     "data": {
      "text/plain": [
       "array([45., 45., 45.])"
      ]
     },
     "execution_count": 37,
     "metadata": {},
     "output_type": "execute_result"
    }
   ],
   "source": [
    "X = np.array([[1,2,3],[4,5,6],[7,8,9],[10,11,12]])\n",
    "mu = np.mean(X, axis=0)\n",
    "print(mu)\n",
    "print(X-mu)\n",
    "np.sum((X - mu) ** 2, axis=0)"
   ]
  },
  {
   "cell_type": "code",
   "execution_count": 38,
   "metadata": {},
   "outputs": [
    {
     "data": {
      "text/plain": [
       "array([[ 6.5,  8.5, 10.5],\n",
       "       [ 9.5, 11.5, 13.5],\n",
       "       [12.5, 14.5, 16.5],\n",
       "       [15.5, 17.5, 19.5]])"
      ]
     },
     "execution_count": 38,
     "metadata": {},
     "output_type": "execute_result"
    }
   ],
   "source": [
    "X + mu"
   ]
  },
  {
   "cell_type": "code",
   "execution_count": 6,
   "metadata": {},
   "outputs": [
    {
     "data": {
      "text/plain": [
       "array([[ 1,  4,  9, 16]])"
      ]
     },
     "execution_count": 6,
     "metadata": {},
     "output_type": "execute_result"
    }
   ],
   "source": [
    "X = np.array([[1,2,3,4]])\n",
    "X**2"
   ]
  },
  {
   "cell_type": "code",
   "execution_count": null,
   "metadata": {},
   "outputs": [],
   "source": [
    "X = "
   ]
  }
 ],
 "metadata": {
  "kernelspec": {
   "display_name": "Python 3.10.4 64-bit",
   "language": "python",
   "name": "python3"
  },
  "language_info": {
   "codemirror_mode": {
    "name": "ipython",
    "version": 3
   },
   "file_extension": ".py",
   "mimetype": "text/x-python",
   "name": "python",
   "nbconvert_exporter": "python",
   "pygments_lexer": "ipython3",
   "version": "3.10.4"
  },
  "orig_nbformat": 4,
  "vscode": {
   "interpreter": {
    "hash": "1f8e04c1004ae0e48c4c128aee02bb34a41f967cffe60616a1dbeccdbed98bf0"
   }
  }
 },
 "nbformat": 4,
 "nbformat_minor": 2
}
