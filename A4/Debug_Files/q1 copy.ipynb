{
 "cells": [
  {
   "cell_type": "code",
   "execution_count": 3,
   "metadata": {},
   "outputs": [],
   "source": [
    "import numpy as np\n",
    "\n",
    "MAX_ITER = 500\n",
    "EPSILON = 1e-10\n",
    "TOLERANCE = 1e-5"
   ]
  },
  {
   "cell_type": "code",
   "execution_count": 4,
   "metadata": {},
   "outputs": [],
   "source": [
    "def initializeModel(K, d):\n",
    "    np.random.seed(0)\n",
    "    pi = np.random.rand(K)\n",
    "    pi = pi / np.sum(pi)\n",
    "\n",
    "    np.random.seed(0)\n",
    "    mu = np.random.normal(0, 3, size=(K, d))\n",
    "\n",
    "    np.random.seed(0)\n",
    "    S = np.random.rand(K, d) + 0.5\n",
    "\n",
    "    return pi, mu, S\n",
    "\n"
   ]
  },
  {
   "cell_type": "code",
   "execution_count": 5,
   "metadata": {},
   "outputs": [
    {
     "name": "stdout",
     "output_type": "stream",
     "text": [
      "(array([0.2275677 , 0.29655611, 0.24993822, 0.22593797]), array([[ 5.29215704,  1.20047163,  2.93621395],\n",
      "       [ 6.7226796 ,  5.60267397, -2.93183364],\n",
      "       [ 2.85026525, -0.45407162, -0.30965656],\n",
      "       [ 1.23179551,  0.43213071,  4.36282052]]), array([[1.0488135 , 1.21518937, 1.10276338],\n",
      "       [1.04488318, 0.9236548 , 1.14589411],\n",
      "       [0.93758721, 1.391773  , 1.46366276],\n",
      "       [0.88344152, 1.29172504, 1.02889492]]))\n"
     ]
    }
   ],
   "source": [
    "print(initializeModel(4, 3))\n",
    "a, b, c = initializeModel(4,3)"
   ]
  },
  {
   "cell_type": "code",
   "execution_count": 11,
   "metadata": {},
   "outputs": [],
   "source": [
    "def GMM(X, K_RANGE):\n",
    "    N, d = X.shape\n",
    "    pi, mu, S = initializeModel(K_RANGE, d)\n",
    "    r_log = np.zeros((N, K_RANGE))\n",
    "    loss = [0] * MAX_ITER\n",
    "\n",
    "    for iter in range(MAX_ITER):\n",
    "        for k in range(K_RANGE):\n",
    "            rlog[:,k] = np.log(pi[k] + EPSILON) - 0.5 * np.sum(np.log(S[k] + EPSILON)) - 0.5 * np.dot((X-mu[k]) ** 2, 1/(S[k] + EPSILON))\n",
    "        \n",
    "        r_total = logsumexp(rlog, axis=1)\n",
    "        rlog = rlog - r_total[:,None]\n",
    "        loss.append(-np.sum(r_total))\n",
    "\n",
    "        if iter > 1 and abs(loss[iter] - loss[iter-1]) <= tol * abs(loss[iter]):\n",
    "            break\n",
    "        \n",
    "        r = np.exp(rlog)\n",
    "        r_total_i_wise = np.sum(r, axis=0)\n",
    "        pi = r_total_i_wise / n\n",
    "        mu = np.dot(r.T, X) / (r_total_i_wise[:,None] + EPSILON)\n",
    "        S = np.dot(r.T, X ** 2) / (r_total_i_wise[:,None] + EPSILON) - mu ** 2\n",
    "\n",
    "    return pi, mu, S, loss"
   ]
  },
  {
   "cell_type": "code",
   "execution_count": 10,
   "metadata": {},
   "outputs": [
    {
     "ename": "NameError",
     "evalue": "name 'self' is not defined",
     "output_type": "error",
     "traceback": [
      "\u001b[1;31m---------------------------------------------------------------------------\u001b[0m",
      "\u001b[1;31mNameError\u001b[0m                                 Traceback (most recent call last)",
      "\u001b[1;32mc:\\Users\\KandaMaya\\Documents\\University\\4A\\CS480\\A4\\Debug_Files\\q1 copy.ipynb Cell 5\u001b[0m in \u001b[0;36m<cell line: 11>\u001b[1;34m()\u001b[0m\n\u001b[0;32m      <a href='vscode-notebook-cell:/c%3A/Users/KandaMaya/Documents/University/4A/CS480/A4/Debug_Files/q1%20copy.ipynb#ch0000004?line=2'>3</a>\u001b[0m \u001b[39m# X = np.array(\u001b[39;00m\n\u001b[0;32m      <a href='vscode-notebook-cell:/c%3A/Users/KandaMaya/Documents/University/4A/CS480/A4/Debug_Files/q1%20copy.ipynb#ch0000004?line=3'>4</a>\u001b[0m \u001b[39m#     [\u001b[39;00m\n\u001b[0;32m      <a href='vscode-notebook-cell:/c%3A/Users/KandaMaya/Documents/University/4A/CS480/A4/Debug_Files/q1%20copy.ipynb#ch0000004?line=4'>5</a>\u001b[0m \u001b[39m#     [1,2,2,1,2],\u001b[39;00m\n\u001b[1;32m   (...)\u001b[0m\n\u001b[0;32m      <a href='vscode-notebook-cell:/c%3A/Users/KandaMaya/Documents/University/4A/CS480/A4/Debug_Files/q1%20copy.ipynb#ch0000004?line=8'>9</a>\u001b[0m \u001b[39m#     ]\u001b[39;00m\n\u001b[0;32m     <a href='vscode-notebook-cell:/c%3A/Users/KandaMaya/Documents/University/4A/CS480/A4/Debug_Files/q1%20copy.ipynb#ch0000004?line=9'>10</a>\u001b[0m \u001b[39m# )\u001b[39;00m\n\u001b[0;32m     <a href='vscode-notebook-cell:/c%3A/Users/KandaMaya/Documents/University/4A/CS480/A4/Debug_Files/q1%20copy.ipynb#ch0000004?line=10'>11</a>\u001b[0m \u001b[39mfor\u001b[39;00m k \u001b[39min\u001b[39;00m \u001b[39mrange\u001b[39m(\u001b[39m10\u001b[39m):\n\u001b[1;32m---> <a href='vscode-notebook-cell:/c%3A/Users/KandaMaya/Documents/University/4A/CS480/A4/Debug_Files/q1%20copy.ipynb#ch0000004?line=11'>12</a>\u001b[0m     pi, mu, S, loss \u001b[39m=\u001b[39m GMM(X, \u001b[39m3\u001b[39;49m)\n\u001b[0;32m     <a href='vscode-notebook-cell:/c%3A/Users/KandaMaya/Documents/University/4A/CS480/A4/Debug_Files/q1%20copy.ipynb#ch0000004?line=12'>13</a>\u001b[0m     \u001b[39mprint\u001b[39m(loss)\n",
      "\u001b[1;32mc:\\Users\\KandaMaya\\Documents\\University\\4A\\CS480\\A4\\Debug_Files\\q1 copy.ipynb Cell 5\u001b[0m in \u001b[0;36mGMM\u001b[1;34m(X, K_RANGE)\u001b[0m\n\u001b[0;32m      <a href='vscode-notebook-cell:/c%3A/Users/KandaMaya/Documents/University/4A/CS480/A4/Debug_Files/q1%20copy.ipynb#ch0000004?line=4'>5</a>\u001b[0m loss \u001b[39m=\u001b[39m [\u001b[39m0\u001b[39m] \u001b[39m*\u001b[39m MAX_ITER\n\u001b[0;32m      <a href='vscode-notebook-cell:/c%3A/Users/KandaMaya/Documents/University/4A/CS480/A4/Debug_Files/q1%20copy.ipynb#ch0000004?line=6'>7</a>\u001b[0m \u001b[39mfor\u001b[39;00m \u001b[39miter\u001b[39m \u001b[39min\u001b[39;00m \u001b[39mrange\u001b[39m(MAX_ITER):\n\u001b[1;32m----> <a href='vscode-notebook-cell:/c%3A/Users/KandaMaya/Documents/University/4A/CS480/A4/Debug_Files/q1%20copy.ipynb#ch0000004?line=7'>8</a>\u001b[0m     \u001b[39mfor\u001b[39;00m k \u001b[39min\u001b[39;00m \u001b[39mrange\u001b[39m(\u001b[39mself\u001b[39;49m\u001b[39m.\u001b[39mnum_cluster):\n\u001b[0;32m      <a href='vscode-notebook-cell:/c%3A/Users/KandaMaya/Documents/University/4A/CS480/A4/Debug_Files/q1%20copy.ipynb#ch0000004?line=8'>9</a>\u001b[0m         rlog[:,k] \u001b[39m=\u001b[39m np\u001b[39m.\u001b[39mlog(pi[k] \u001b[39m+\u001b[39m EPSILON) \u001b[39m-\u001b[39m \u001b[39m0.5\u001b[39m \u001b[39m*\u001b[39m np\u001b[39m.\u001b[39msum(np\u001b[39m.\u001b[39mlog(S[k] \u001b[39m+\u001b[39m EPSILON)) \u001b[39m-\u001b[39m \u001b[39m0.5\u001b[39m \u001b[39m*\u001b[39m np\u001b[39m.\u001b[39mdot((X\u001b[39m-\u001b[39mmu[k]) \u001b[39m*\u001b[39m\u001b[39m*\u001b[39m \u001b[39m2\u001b[39m, \u001b[39m1\u001b[39m\u001b[39m/\u001b[39m(S[k] \u001b[39m+\u001b[39m EPSILON))\n\u001b[0;32m     <a href='vscode-notebook-cell:/c%3A/Users/KandaMaya/Documents/University/4A/CS480/A4/Debug_Files/q1%20copy.ipynb#ch0000004?line=10'>11</a>\u001b[0m     r_total \u001b[39m=\u001b[39m logsumexp(rlog, axis\u001b[39m=\u001b[39m\u001b[39m1\u001b[39m)\n",
      "\u001b[1;31mNameError\u001b[0m: name 'self' is not defined"
     ]
    }
   ],
   "source": [
    "X = np.loadtxt(open(\"../gmm_dataset.csv\", \"rb\"), delimiter=\",\")\n",
    "\n",
    "# X = np.array(\n",
    "#     [\n",
    "#     [1,2,2,1,2],\n",
    "#     [4,2,1,2,3],\n",
    "#     [4,3,1,2,3],\n",
    "#     [3,1,2,3,4]\n",
    "#     ]\n",
    "# )\n",
    "for k in range(10):\n",
    "    pi, mu, S, loss = GMM(X, 3)\n",
    "    print(loss)"
   ]
  },
  {
   "cell_type": "code",
   "execution_count": 9,
   "metadata": {},
   "outputs": [
    {
     "name": "stdout",
     "output_type": "stream",
     "text": [
      "(3, 5)\n",
      "[[1 1 2 3 4]\n",
      " [3 2 1 1 3]\n",
      " [3 5 4 3 2]]\n",
      "[[ 1  1  4  9 16]\n",
      " [ 9  4  1  1  9]\n",
      " [ 9 25 16  9  4]]\n",
      "[1.  0.5 1.  0.5 0.5]\n",
      "[18. 17. 44.]\n",
      "[1 1 1 1 1]\n",
      "118.0\n",
      "[[1.         1.         0.70710678 0.57735027 0.5       ]\n",
      " [0.57735027 0.70710678 1.         1.         0.57735027]\n",
      " [0.57735027 0.4472136  0.5        0.57735027 0.70710678]]\n"
     ]
    }
   ],
   "source": [
    "X = np.array(\n",
    "    [\n",
    "        [2,2,3,4,5],\n",
    "        [4,3,2,2,4],\n",
    "        [4,6,5,4,3]\n",
    "    ]\n",
    ")\n",
    "print(X.shape)\n",
    "n, d = X.shape\n",
    "\n",
    "mu = np.array([\n",
    "    [2,2,2,2,2],\n",
    "    [1,1,1,1,1]\n",
    "])\n",
    "\n",
    "S = np.array([1,2,1,2,2])\n",
    "\n",
    "print(X-mu[1])\n",
    "temp = (X-mu[1])**2\n",
    "print(temp)\n",
    "print(1/S)\n",
    "temp = np.dot(temp, 1/S)\n",
    "print(temp)\n",
    "print(mu[1])\n",
    "# print(np.sum((X-mu[1])**2, axis=1))\n",
    "print(np.linalg.norm(X - mu[1])**2)\n",
    "\n",
    "print(np.power(X-mu[1], -1/2))\n"
   ]
  },
  {
   "cell_type": "code",
   "execution_count": 76,
   "metadata": {},
   "outputs": [
    {
     "name": "stdout",
     "output_type": "stream",
     "text": [
      "[1. 2. 3. 4.]\n",
      "[[2 2 3 4 5]\n",
      " [4 3 2 2 4]\n",
      " [4 6 5 4 3]]\n",
      "[[16]\n",
      " [15]\n",
      " [22]]\n",
      "[[0.125      0.125      0.1875     0.25       0.3125    ]\n",
      " [0.26666667 0.2        0.13333333 0.13333333 0.26666667]\n",
      " [0.18181818 0.27272727 0.22727273 0.18181818 0.13636364]]\n"
     ]
    }
   ],
   "source": [
    "print(np.log(np.exp([1,2,3,4])))\n",
    "\n",
    "print(X)\n",
    "total = np.sum(X, axis=1)\n",
    "print(total[:,None])\n",
    "\n",
    "# print(X - total)\n",
    "print(X / total[:,None])"
   ]
  },
  {
   "cell_type": "code",
   "execution_count": 79,
   "metadata": {},
   "outputs": [
    {
     "name": "stdout",
     "output_type": "stream",
     "text": [
      "[[2 2 3 4 5]\n",
      " [4 3 2 2 4]\n",
      " [4 6 5 4 3]]\n",
      "[1 1 1 1 1]\n",
      "[[ 4  4  9 16 25]\n",
      " [16  9  4  4 16]\n",
      " [16 36 25 16  9]]\n"
     ]
    }
   ],
   "source": [
    "print(X)\n",
    "print(mu[1])\n",
    "print(np.power(X, 2))"
   ]
  },
  {
   "cell_type": "code",
   "execution_count": 258,
   "metadata": {},
   "outputs": [
    {
     "name": "stdout",
     "output_type": "stream",
     "text": [
      "[[2]\n",
      " [2]\n",
      " [3]\n",
      " [4]\n",
      " [5]] [[2 2 3 4 5]]\n",
      "[[ 4  4  6  8 10]\n",
      " [ 4  4  6  8 10]\n",
      " [ 6  6  9 12 15]\n",
      " [ 8  8 12 16 20]\n",
      " [10 10 15 20 25]]\n"
     ]
    }
   ],
   "source": [
    "X = np.array(\n",
    "    [\n",
    "        [2,2,3,4,5],\n",
    "        [4,3,2,2,4],\n",
    "        [4,6,5,4,3]\n",
    "    ]\n",
    ")\n",
    "\n",
    "X_0 = X[0][:,None]\n",
    "X_0_trans = X[0][:,None].T\n",
    "print(X_0, X_0_trans)\n",
    "print(X_0.dot(X_0_trans))"
   ]
  },
  {
   "cell_type": "code",
   "execution_count": null,
   "metadata": {},
   "outputs": [],
   "source": []
  }
 ],
 "metadata": {
  "kernelspec": {
   "display_name": "Python 3.10.4 64-bit",
   "language": "python",
   "name": "python3"
  },
  "language_info": {
   "codemirror_mode": {
    "name": "ipython",
    "version": 3
   },
   "file_extension": ".py",
   "mimetype": "text/x-python",
   "name": "python",
   "nbconvert_exporter": "python",
   "pygments_lexer": "ipython3",
   "version": "3.10.4"
  },
  "orig_nbformat": 4,
  "vscode": {
   "interpreter": {
    "hash": "1f8e04c1004ae0e48c4c128aee02bb34a41f967cffe60616a1dbeccdbed98bf0"
   }
  }
 },
 "nbformat": 4,
 "nbformat_minor": 2
}
