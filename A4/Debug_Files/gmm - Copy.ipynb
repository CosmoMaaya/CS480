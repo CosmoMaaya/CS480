{
 "cells": [
  {
   "cell_type": "code",
   "execution_count": 2,
   "metadata": {},
   "outputs": [],
   "source": [
    "import numpy as np\n",
    "import math\n",
    "import matplotlib.pyplot as plt\n",
    "import scipy.special as ScSc\n",
    "from tqdm import tqdm\n"
   ]
  },
  {
   "cell_type": "code",
   "execution_count": 3,
   "metadata": {},
   "outputs": [],
   "source": [
    "def LSE(X):\n",
    "    x_max = max(X)\n",
    "    diff = [math.exp(x-x_max) for x in X]\n",
    "    sum = x_max + math.log(np.sum(diff))\n",
    "\n",
    "    return sum\n"
   ]
  },
  {
   "cell_type": "code",
   "execution_count": 4,
   "metadata": {},
   "outputs": [],
   "source": [
    "class GMM:\n",
    "    \"\"\"\n",
    "    Diagonal Gaussian Mixture Model\n",
    "    \"\"\"\n",
    "\n",
    "    def __init__(self, k, d, sigma_init = 0.1):\n",
    "        self.num_cluster = k\n",
    "        self.x_dim = d\n",
    "        self.weights = ScSc.softmax(np.random.normal(scale = sigma_init, size=(k,)))\n",
    "        self.means = np.random.normal(scale = sigma_init, size =(k, d))\n",
    "        self.sigmas = np.random.lognormal(sigma=sigma_init, size=(k, d)) # All positive\n",
    "    \n",
    "    def EM(self, X, max_iter = 500, tol = 1e-5, eps = 1e-10):\n",
    "        \"\"\"\n",
    "        EM Step\n",
    "        \"\"\"\n",
    "        assert X.ndim == 2\n",
    "        n = X.shape[0]\n",
    "        assert X.shape[1] == self.x_dim\n",
    "\n",
    "        loss_hist = []\n",
    "        rlog = np.zeros((n, self.num_cluster))\n",
    "        r = np.zeros((n, self.num_cluster))\n",
    "        for it in (range(max_iter)):\n",
    "            ###########\n",
    "            # E Step\n",
    "            ###########\n",
    "            for k in range(self.num_cluster):\n",
    "\n",
    "                # Updating rik\n",
    "                partition = np.log(self.weights[k]+eps) - 0.5*np.log(self.sigmas[k, :]+eps).sum()\n",
    "                s = 1/ (self.sigmas[k, :] + eps)\n",
    "                delta = X - self.means[k][np.newaxis, :]\n",
    "                exp_term = np.sum(delta * delta * s[np.newaxis, :], axis = -1)\n",
    "                rlog[:, k] = -0.5 * exp_term + partition\n",
    "\n",
    "            # Normalize\n",
    "            rlogsum = []\n",
    "            for i in range(n):\n",
    "                ri_log = LSE(rlog[i])\n",
    "                rlogsum.append(ri_log)\n",
    "            rlogsum = np.array(rlogsum)\n",
    "            assert rlogsum.shape == (n,)\n",
    "            rlogsum = np.array(rlogsum)\n",
    "            rlog = rlog - rlogsum[:, np.newaxis]\n",
    "            loss = -np.sum(rlogsum)\n",
    "            loss_hist.append(loss)\n",
    "\n",
    "            \n",
    "            # Convert back to exp form\n",
    "            for i in range(n):\n",
    "                for k in range(self.num_cluster):\n",
    "                    r[i, k] = np.exp(rlog[i, k])\n",
    "            \n",
    "            if it > 0 and abs(loss_hist[-1] - loss_hist[-2]) <= tol * abs(loss_hist[-1]):\n",
    "                break\n",
    "\n",
    "            ###########\n",
    "            # M Step\n",
    "            ###########\n",
    "            rsum = np.sum(r, axis = 0)\n",
    "            assert rsum.shape == (self.num_cluster,)\n",
    "            self.weights = rsum/n\n",
    "\n",
    "            for k in range(self.num_cluster):\n",
    "                self.means[k, :] = np.sum(r[:, k, np.newaxis] * X, axis = 0) / (rsum[k] + eps)\n",
    "                self.sigmas[k, :] = np.sum(r[:, k, np.newaxis] * X * X, axis = 0) / (rsum[k] + eps) - self.means[k, :] * self.means[k, :]\n",
    "\n",
    "        return loss_hist\n",
    "    \n",
    "    def sort_weights(self):\n",
    "        \"\"\"\n",
    "        Sort the parameters according to their weights\n",
    "        \"\"\"\n",
    "        order = np.argsort(self.weights)[::-1]\n",
    "        self.weights = self.weights[order]\n",
    "        self.means = self.weights[order]\n",
    "        self.sigmas = self.sigmas[order]\n",
    "    \n",
    "    def posterior(self, x):\n",
    "        eps = 1e-8\n",
    "        p = 0\n",
    "        for k in range(self.num_cluster):\n",
    "            det = (2*math.pi) ** 20 * np.prod(self.sigmas[k])\n",
    "            s = 1/ (self.sigmas[k, :] + eps)\n",
    "            delta = x - self.means[k]\n",
    "            exp_term = -0.5 * np.sum(delta * delta * s[np.newaxis, :], axis = -1)\n",
    "            prob = 1/math.sqrt(det+eps) * math.exp(exp_term)\n",
    "            p += self.weights[k]*prob\n",
    "        return p\n",
    "    \n",
    "    # def pdf(self, x):\n",
    "    #     assert x.ndim == 2\n",
    "    #     n = x.shape[0]\n",
    "    #     assert x.shape[1] == self.x_dim\n",
    "        \n",
    "    #     r = np.zeros((n,self.num_cluster))\n",
    "    #     for j in range(self.num_cluster):\n",
    "    #         partition = np.log(self.weights[j]) - 0.5 * np.log(self.sigmas[j,:]).sum()\n",
    "            \n",
    "    #         s = 1 / self.sigmas[j,:]\n",
    "    #         form = x - self.means[j][np.newaxis,:]\n",
    "    #         form = np.sum(form * form * s[np.newaxis,:], axis=-1)\n",
    "    #         r[:,j] = np.exp(-0.5 * form + partition)\n",
    "            \n",
    "    #     return np.sum(r * self.weights[np.newaxis,:], axis=-1)\n",
    "            "
   ]
  },
  {
   "cell_type": "code",
   "execution_count": 5,
   "metadata": {},
   "outputs": [
    {
     "ename": "FileNotFoundError",
     "evalue": "gmm_dataset.csv not found.",
     "output_type": "error",
     "traceback": [
      "\u001b[0;31m---------------------------------------------------------------------------\u001b[0m",
      "\u001b[0;31mFileNotFoundError\u001b[0m                         Traceback (most recent call last)",
      "\u001b[0;32m/var/folders/5r/zcfkkyt11zq3gym2pkmxs8380000gn/T/ipykernel_20456/1859093291.py\u001b[0m in \u001b[0;36m<module>\u001b[0;34m\u001b[0m\n\u001b[0;32m----> 1\u001b[0;31m \u001b[0mdata\u001b[0m \u001b[0;34m=\u001b[0m \u001b[0mnp\u001b[0m\u001b[0;34m.\u001b[0m\u001b[0mloadtxt\u001b[0m\u001b[0;34m(\u001b[0m\u001b[0;34m'gmm_dataset.csv'\u001b[0m\u001b[0;34m,\u001b[0m \u001b[0mdelimiter\u001b[0m\u001b[0;34m=\u001b[0m\u001b[0;34m\",\"\u001b[0m\u001b[0;34m)\u001b[0m\u001b[0;34m\u001b[0m\u001b[0;34m\u001b[0m\u001b[0m\n\u001b[0m",
      "\u001b[0;32m/usr/local/lib/python3.9/site-packages/numpy/lib/npyio.py\u001b[0m in \u001b[0;36mloadtxt\u001b[0;34m(fname, dtype, comments, delimiter, converters, skiprows, usecols, unpack, ndmin, encoding, max_rows, like)\u001b[0m\n\u001b[1;32m   1040\u001b[0m             \u001b[0mfname\u001b[0m \u001b[0;34m=\u001b[0m \u001b[0mos_fspath\u001b[0m\u001b[0;34m(\u001b[0m\u001b[0mfname\u001b[0m\u001b[0;34m)\u001b[0m\u001b[0;34m\u001b[0m\u001b[0;34m\u001b[0m\u001b[0m\n\u001b[1;32m   1041\u001b[0m         \u001b[0;32mif\u001b[0m \u001b[0m_is_string_like\u001b[0m\u001b[0;34m(\u001b[0m\u001b[0mfname\u001b[0m\u001b[0;34m)\u001b[0m\u001b[0;34m:\u001b[0m\u001b[0;34m\u001b[0m\u001b[0;34m\u001b[0m\u001b[0m\n\u001b[0;32m-> 1042\u001b[0;31m             \u001b[0mfh\u001b[0m \u001b[0;34m=\u001b[0m \u001b[0mnp\u001b[0m\u001b[0;34m.\u001b[0m\u001b[0mlib\u001b[0m\u001b[0;34m.\u001b[0m\u001b[0m_datasource\u001b[0m\u001b[0;34m.\u001b[0m\u001b[0mopen\u001b[0m\u001b[0;34m(\u001b[0m\u001b[0mfname\u001b[0m\u001b[0;34m,\u001b[0m \u001b[0;34m'rt'\u001b[0m\u001b[0;34m,\u001b[0m \u001b[0mencoding\u001b[0m\u001b[0;34m=\u001b[0m\u001b[0mencoding\u001b[0m\u001b[0;34m)\u001b[0m\u001b[0;34m\u001b[0m\u001b[0;34m\u001b[0m\u001b[0m\n\u001b[0m\u001b[1;32m   1043\u001b[0m             \u001b[0mfencoding\u001b[0m \u001b[0;34m=\u001b[0m \u001b[0mgetattr\u001b[0m\u001b[0;34m(\u001b[0m\u001b[0mfh\u001b[0m\u001b[0;34m,\u001b[0m \u001b[0;34m'encoding'\u001b[0m\u001b[0;34m,\u001b[0m \u001b[0;34m'latin1'\u001b[0m\u001b[0;34m)\u001b[0m\u001b[0;34m\u001b[0m\u001b[0;34m\u001b[0m\u001b[0m\n\u001b[1;32m   1044\u001b[0m             \u001b[0mline_iter\u001b[0m \u001b[0;34m=\u001b[0m \u001b[0miter\u001b[0m\u001b[0;34m(\u001b[0m\u001b[0mfh\u001b[0m\u001b[0;34m)\u001b[0m\u001b[0;34m\u001b[0m\u001b[0;34m\u001b[0m\u001b[0m\n",
      "\u001b[0;32m/usr/local/lib/python3.9/site-packages/numpy/lib/_datasource.py\u001b[0m in \u001b[0;36mopen\u001b[0;34m(path, mode, destpath, encoding, newline)\u001b[0m\n\u001b[1;32m    191\u001b[0m \u001b[0;34m\u001b[0m\u001b[0m\n\u001b[1;32m    192\u001b[0m     \u001b[0mds\u001b[0m \u001b[0;34m=\u001b[0m \u001b[0mDataSource\u001b[0m\u001b[0;34m(\u001b[0m\u001b[0mdestpath\u001b[0m\u001b[0;34m)\u001b[0m\u001b[0;34m\u001b[0m\u001b[0;34m\u001b[0m\u001b[0m\n\u001b[0;32m--> 193\u001b[0;31m     \u001b[0;32mreturn\u001b[0m \u001b[0mds\u001b[0m\u001b[0;34m.\u001b[0m\u001b[0mopen\u001b[0m\u001b[0;34m(\u001b[0m\u001b[0mpath\u001b[0m\u001b[0;34m,\u001b[0m \u001b[0mmode\u001b[0m\u001b[0;34m,\u001b[0m \u001b[0mencoding\u001b[0m\u001b[0;34m=\u001b[0m\u001b[0mencoding\u001b[0m\u001b[0;34m,\u001b[0m \u001b[0mnewline\u001b[0m\u001b[0;34m=\u001b[0m\u001b[0mnewline\u001b[0m\u001b[0;34m)\u001b[0m\u001b[0;34m\u001b[0m\u001b[0;34m\u001b[0m\u001b[0m\n\u001b[0m\u001b[1;32m    194\u001b[0m \u001b[0;34m\u001b[0m\u001b[0m\n\u001b[1;32m    195\u001b[0m \u001b[0;34m\u001b[0m\u001b[0m\n",
      "\u001b[0;32m/usr/local/lib/python3.9/site-packages/numpy/lib/_datasource.py\u001b[0m in \u001b[0;36mopen\u001b[0;34m(self, path, mode, encoding, newline)\u001b[0m\n\u001b[1;32m    530\u001b[0m                                       encoding=encoding, newline=newline)\n\u001b[1;32m    531\u001b[0m         \u001b[0;32melse\u001b[0m\u001b[0;34m:\u001b[0m\u001b[0;34m\u001b[0m\u001b[0;34m\u001b[0m\u001b[0m\n\u001b[0;32m--> 532\u001b[0;31m             \u001b[0;32mraise\u001b[0m \u001b[0mFileNotFoundError\u001b[0m\u001b[0;34m(\u001b[0m\u001b[0;34mf\"{path} not found.\"\u001b[0m\u001b[0;34m)\u001b[0m\u001b[0;34m\u001b[0m\u001b[0;34m\u001b[0m\u001b[0m\n\u001b[0m\u001b[1;32m    533\u001b[0m \u001b[0;34m\u001b[0m\u001b[0m\n\u001b[1;32m    534\u001b[0m \u001b[0;34m\u001b[0m\u001b[0m\n",
      "\u001b[0;31mFileNotFoundError\u001b[0m: gmm_dataset.csv not found."
     ]
    }
   ],
   "source": [
    "data = np.loadtxt('gmm_dataset.csv', delimiter=\",\")\n"
   ]
  },
  {
   "cell_type": "code",
   "execution_count": 14,
   "metadata": {},
   "outputs": [
    {
     "name": "stdout",
     "output_type": "stream",
     "text": [
      "Constructing GMM with k = 1\n"
     ]
    },
    {
     "name": "stderr",
     "output_type": "stream",
     "text": [
      "  0%|          | 2/500 [00:00<00:52,  9.49it/s]\n"
     ]
    },
    {
     "name": "stdout",
     "output_type": "stream",
     "text": [
      "Constructing GMM with k = 2\n"
     ]
    },
    {
     "name": "stderr",
     "output_type": "stream",
     "text": [
      "  2%|▏         | 8/500 [00:00<00:45, 10.88it/s]\n"
     ]
    },
    {
     "name": "stdout",
     "output_type": "stream",
     "text": [
      "Constructing GMM with k = 3\n"
     ]
    },
    {
     "name": "stderr",
     "output_type": "stream",
     "text": [
      "  2%|▏         | 8/500 [00:00<00:51,  9.60it/s]\n"
     ]
    },
    {
     "name": "stdout",
     "output_type": "stream",
     "text": [
      "Constructing GMM with k = 4\n"
     ]
    },
    {
     "name": "stderr",
     "output_type": "stream",
     "text": [
      "  1%|▏         | 7/500 [00:00<00:58,  8.40it/s]\n"
     ]
    },
    {
     "name": "stdout",
     "output_type": "stream",
     "text": [
      "Constructing GMM with k = 5\n"
     ]
    },
    {
     "name": "stderr",
     "output_type": "stream",
     "text": [
      "  4%|▍         | 19/500 [00:02<00:57,  8.33it/s]\n"
     ]
    },
    {
     "name": "stdout",
     "output_type": "stream",
     "text": [
      "Constructing GMM with k = 6\n"
     ]
    },
    {
     "name": "stderr",
     "output_type": "stream",
     "text": [
      "  4%|▍         | 21/500 [00:02<01:03,  7.54it/s]\n"
     ]
    },
    {
     "name": "stdout",
     "output_type": "stream",
     "text": [
      "Constructing GMM with k = 7\n"
     ]
    },
    {
     "name": "stderr",
     "output_type": "stream",
     "text": [
      "  3%|▎         | 17/500 [00:02<01:09,  6.97it/s]\n"
     ]
    },
    {
     "name": "stdout",
     "output_type": "stream",
     "text": [
      "Constructing GMM with k = 8\n"
     ]
    },
    {
     "name": "stderr",
     "output_type": "stream",
     "text": [
      "  5%|▍         | 24/500 [00:03<01:11,  6.62it/s]\n"
     ]
    },
    {
     "name": "stdout",
     "output_type": "stream",
     "text": [
      "Constructing GMM with k = 9\n"
     ]
    },
    {
     "name": "stderr",
     "output_type": "stream",
     "text": [
      "  5%|▍         | 23/500 [00:03<01:18,  6.06it/s]\n"
     ]
    },
    {
     "name": "stdout",
     "output_type": "stream",
     "text": [
      "Constructing GMM with k = 10\n"
     ]
    },
    {
     "name": "stderr",
     "output_type": "stream",
     "text": [
      "  6%|▌         | 30/500 [00:05<01:22,  5.69it/s]\n"
     ]
    }
   ],
   "source": [
    "gmms = []\n",
    "losses_overk = []\n",
    "for k in range(1, 11):\n",
    "    print(\"Constructing GMM with k =\", k)\n",
    "    gmm = GMM(k, 20)\n",
    "    loss = gmm.EM(data)\n",
    "    losses_overk.append(loss[-1])\n",
    "    gmms.append(gmm)"
   ]
  },
  {
   "cell_type": "code",
   "execution_count": 15,
   "metadata": {},
   "outputs": [
    {
     "data": {
      "image/png": "[encoded data removed]",
      "text/plain": [
       "<Figure size 432x288 with 1 Axes>"
      ]
     },
     "metadata": {
      "needs_background": "light"
     },
     "output_type": "display_data"
    },
    {
     "name": "stdout",
     "output_type": "stream",
     "text": [
      "[69939.41787263457, 57942.006972551004, 47786.61744250748, 39346.71943106953, 39315.73555585039, 34473.299038618214, 34438.003370145816, 34401.475560808365, 34370.770511469964, 34313.88642442304]\n"
     ]
    }
   ],
   "source": [
    "plt.plot(losses_overk)\n",
    "plt.ylabel(\"Negative Log Likelihood\")\n",
    "plt.xlabel(\"k\")\n",
    "plt.show()\n",
    "print(losses_overk)\n",
    "\n"
   ]
  },
  {
   "cell_type": "code",
   "execution_count": 16,
   "metadata": {},
   "outputs": [
    {
     "name": "stdout",
     "output_type": "stream",
     "text": [
      "Choose k = 5\n",
      "Weights:\n",
      "[0.30022336 0.27397656 0.20005702 0.19967065 0.0260724 ]\n",
      "Means:\n",
      "[0.0260724  0.30022336 0.20005702 0.19967065 0.27397656]\n",
      "Covariances:\n",
      "[[0.35429505 1.30403135 0.66527093 2.26419023 0.62748894 1.58079236\n",
      "  1.12668033 0.04878146 0.7546333  1.64247456 1.28763985 0.28287607\n",
      "  0.04109253 1.10090862 0.51159202 0.16765844 0.78528365 0.77080622\n",
      "  2.13336222 1.35676643]\n",
      " [0.48093666 1.81925181 0.98376408 0.0822583  1.13794652 0.8035962\n",
      "  0.99268438 1.51284714 1.12706069 0.31278353 0.87930055 0.3341494\n",
      "  0.73607207 0.6647343  1.07456978 0.6906705  0.76903794 0.67987721\n",
      "  0.42890608 0.01742112]\n",
      " [1.60218982 0.4555183  0.1693725  0.61326473 2.49069343 0.88631456\n",
      "  0.87429058 1.15516003 1.38452688 0.46607915 0.06871054 1.75239447\n",
      "  0.75036714 0.79986671 0.10019445 0.67225456 1.12720655 1.03094425\n",
      "  1.13973957 0.43648493]\n",
      " [5.55595937 1.14896613 0.84353182 3.451043   0.97608993 1.14945413\n",
      "  0.56445548 1.23612491 1.93663672 1.28178067 1.20294932 0.9607868\n",
      "  1.33793936 2.08702262 0.60245669 0.77656775 0.79572198 0.6795143\n",
      "  0.60384383 1.04176539]\n",
      " [0.59900118 2.32758284 1.05305399 0.07641514 1.56320311 1.00862986\n",
      "  0.58945754 1.865847   0.98583123 0.27987512 0.77297239 0.42718686\n",
      "  1.86956625 0.67695859 1.00754993 0.45306573 0.65223892 0.71986775\n",
      "  0.62372376 0.01989658]]\n"
     ]
    }
   ],
   "source": [
    "print(\"Choose k = 5\")\n",
    "chosen_gmm = gmms[4]\n",
    "chosen_gmm.sort_weights()\n",
    "print(\"Weights:\")\n",
    "print(chosen_gmm.weights)\n",
    "print(\"Means:\")\n",
    "print(chosen_gmm.means)\n",
    "print(\"Covariances:\")\n",
    "print(chosen_gmm.sigmas)"
   ]
  },
  {
   "cell_type": "markdown",
   "metadata": {},
   "source": [
    "# Using GMM on MNIST"
   ]
  },
  {
   "cell_type": "code",
   "execution_count": 6,
   "metadata": {},
   "outputs": [
    {
     "name": "stderr",
     "output_type": "stream",
     "text": [
      "/usr/local/lib/python3.9/site-packages/tqdm/auto.py:22: TqdmWarning: IProgress not found. Please update jupyter and ipywidgets. See https://ipywidgets.readthedocs.io/en/stable/user_install.html\n",
      "  from .autonotebook import tqdm as notebook_tqdm\n"
     ]
    },
    {
     "name": "stdout",
     "output_type": "stream",
     "text": [
      "Downloading http://yann.lecun.com/exdb/mnist/train-images-idx3-ubyte.gz\n",
      "Downloading http://yann.lecun.com/exdb/mnist/train-images-idx3-ubyte.gz to ./data/MNIST/raw/train-images-idx3-ubyte.gz\n"
     ]
    },
    {
     "name": "stderr",
     "output_type": "stream",
     "text": [
      "100%|██████████| 9912422/9912422 [00:00<00:00, 17274498.93it/s]\n"
     ]
    },
    {
     "name": "stdout",
     "output_type": "stream",
     "text": [
      "Extracting ./data/MNIST/raw/train-images-idx3-ubyte.gz to ./data/MNIST/raw\n",
      "\n",
      "Downloading http://yann.lecun.com/exdb/mnist/train-labels-idx1-ubyte.gz\n",
      "Downloading http://yann.lecun.com/exdb/mnist/train-labels-idx1-ubyte.gz to ./data/MNIST/raw/train-labels-idx1-ubyte.gz\n"
     ]
    },
    {
     "name": "stderr",
     "output_type": "stream",
     "text": [
      "100%|██████████| 28881/28881 [00:00<00:00, 27930757.16it/s]"
     ]
    },
    {
     "name": "stdout",
     "output_type": "stream",
     "text": [
      "Extracting ./data/MNIST/raw/train-labels-idx1-ubyte.gz to ./data/MNIST/raw\n",
      "\n",
      "Downloading http://yann.lecun.com/exdb/mnist/t10k-images-idx3-ubyte.gz\n"
     ]
    },
    {
     "name": "stderr",
     "output_type": "stream",
     "text": [
      "\n"
     ]
    },
    {
     "name": "stdout",
     "output_type": "stream",
     "text": [
      "Downloading http://yann.lecun.com/exdb/mnist/t10k-images-idx3-ubyte.gz to ./data/MNIST/raw/t10k-images-idx3-ubyte.gz\n"
     ]
    },
    {
     "name": "stderr",
     "output_type": "stream",
     "text": [
      "100%|██████████| 1648877/1648877 [00:00<00:00, 9366278.43it/s]\n"
     ]
    },
    {
     "name": "stdout",
     "output_type": "stream",
     "text": [
      "Extracting ./data/MNIST/raw/t10k-images-idx3-ubyte.gz to ./data/MNIST/raw\n",
      "\n",
      "Downloading http://yann.lecun.com/exdb/mnist/t10k-labels-idx1-ubyte.gz\n",
      "Downloading http://yann.lecun.com/exdb/mnist/t10k-labels-idx1-ubyte.gz to ./data/MNIST/raw/t10k-labels-idx1-ubyte.gz\n"
     ]
    },
    {
     "name": "stderr",
     "output_type": "stream",
     "text": [
      "100%|██████████| 4542/4542 [00:00<00:00, 5504342.32it/s]\n"
     ]
    },
    {
     "name": "stdout",
     "output_type": "stream",
     "text": [
      "Extracting ./data/MNIST/raw/t10k-labels-idx1-ubyte.gz to ./data/MNIST/raw\n",
      "\n"
     ]
    }
   ],
   "source": [
    "# Import datasets and reduce by PCA\n",
    "import torch\n",
    "import numpy as np\n",
    "\n",
    "import torchvision.datasets as datasets\n",
    "\n",
    "root = './data'\n",
    "train_data = datasets.MNIST(root = root, train= True, transform=None, download=True)\n",
    "test_data = datasets.MNIST(root = root, train= False, transform=None, download=True)\n",
    "\n",
    "train_X = train_data.data\n",
    "train_Y = train_data.targets\n",
    "train_X = np.reshape(train_X, (60000, 784))\n",
    "test_X = test_data.data\n",
    "test_Y = test_data.targets\n",
    "test_X = np.reshape(test_X, (10000, 784))\n",
    "\n",
    "from sklearn.decomposition import PCA \n",
    "\n",
    "d = 40\n",
    "\n",
    "reducer = PCA(n_components=d)\n",
    "reducer.fit(train_X)\n",
    "\n",
    "train_data_reduced = reducer.transform(train_X)\n",
    "test_data_reduced = reducer.transform(test_X)\n",
    "\n",
    "label_set = set(train_Y)\n",
    "train_Y = train_Y.numpy()\n",
    "test_Y = test_Y.numpy()"
   ]
  },
  {
   "cell_type": "code",
   "execution_count": 7,
   "metadata": {},
   "outputs": [
    {
     "name": "stdout",
     "output_type": "stream",
     "text": [
      "(1, 0)\n"
     ]
    }
   ],
   "source": [
    "train_x_split = np.array([[]*10])\n",
    "print(train_x_split.shape)"
   ]
  },
  {
   "cell_type": "code",
   "execution_count": 8,
   "metadata": {},
   "outputs": [],
   "source": [
    "def split_training_set(train_x, train_y):\n",
    "    train_x_split = [[] for _ in range(10)]\n",
    "    for i in range(len(train_y)):\n",
    "        train_x_split[train_y[i]].append(train_x[i])\n",
    "    return train_x_split\n",
    "\n",
    "def train_baysianGMM(train_x, train_y, k):\n",
    "    gmms = []\n",
    "    d = len(train_x[0])\n",
    "\n",
    "    train_x_by_classes = split_training_set(train_x, train_y)\n",
    "\n",
    "    # Calculate P(Y=c)\n",
    "    total = len(train_x)\n",
    "    P_yc = []\n",
    "    for x_c in train_x_by_classes:\n",
    "        P_yc.append(len(x_c)/total)\n",
    "\n",
    "    print(\"------- Training ------\")\n",
    "    # Train gmm for each class\n",
    "    for c in tqdm(range(len(train_x_by_classes))):\n",
    "        train_x_class_c = np.array(train_x_by_classes[c])\n",
    "        gmm_c = GMM(k, d)\n",
    "        gmm_c.EM(train_x_class_c)\n",
    "        gmms.append(gmm_c)\n",
    "\n",
    "    return gmms, P_yc\n",
    "\n",
    "def baysianGMM_classifier(x, gmms, P_yc):\n",
    "    largest_prob = -1\n",
    "    chosen_c = -1\n",
    "    for c in range(len(gmms)):\n",
    "        gmm_c = gmms[c]\n",
    "        prob = gmm_c.posterior(x) * P_yc[c]\n",
    "        if prob > largest_prob:\n",
    "            largest_prob = prob\n",
    "            chosen_c = c\n",
    "    \n",
    "    return chosen_c\n",
    "\n",
    "def report_test_err(test_X, test_Y, gmms, P_yc):\n",
    "    pred_Y = []\n",
    "    print(\"------- Testing ------\")\n",
    "    for x in tqdm(test_X):\n",
    "        y_hat = baysianGMM_classifier(x, gmms, P_yc)\n",
    "        pred_Y.append(y_hat)\n",
    "\n",
    "    err_count = 0\n",
    "    for y_hat, y in zip(pred_Y, test_Y):\n",
    "        if y_hat != y:\n",
    "            err_count += 1\n",
    "    \n",
    "    return err_count/len(test_Y)\n",
    "\n",
    "def train_and_test(train_data, train_label, test_data, test_label):\n",
    "    err_list = []\n",
    "    for k in (range(1, 11)):\n",
    "        print(\"============= Train and Test for k =\", k, \"===============\")\n",
    "        gmms, p_yc= train_baysianGMM(train_data, train_label, k)\n",
    "        err = report_test_err(test_data, test_label, gmms, p_yc)\n",
    "        err_list.append(err)\n",
    "        print(\"For k=\", k, \"Error is:\", err)\n",
    "\n",
    "\n",
    "    return err_list\n"
   ]
  },
  {
   "cell_type": "code",
   "execution_count": 9,
   "metadata": {},
   "outputs": [
    {
     "name": "stdout",
     "output_type": "stream",
     "text": [
      "------- Training ------\n"
     ]
    },
    {
     "name": "stderr",
     "output_type": "stream",
     "text": [
      "100%|██████████| 10/10 [00:35<00:00,  3.55s/it]\n"
     ]
    }
   ],
   "source": [
    "# train_and_test(train_data_reduced, train_Y, test_data_reduced, test_Y)\n",
    "gmms, p_yc= train_baysianGMM(train_data_reduced, train_Y, 5)   \n",
    "    "
   ]
  },
  {
   "cell_type": "code",
   "execution_count": 10,
   "metadata": {},
   "outputs": [
    {
     "name": "stdout",
     "output_type": "stream",
     "text": [
      "============= Train and Test for k = 1 ===============\n",
      "------- Training ------\n"
     ]
    },
    {
     "name": "stderr",
     "output_type": "stream",
     "text": [
      "100%|██████████| 10/10 [00:01<00:00,  5.64it/s]\n"
     ]
    },
    {
     "name": "stdout",
     "output_type": "stream",
     "text": [
      "------- Testing ------\n"
     ]
    },
    {
     "name": "stderr",
     "output_type": "stream",
     "text": [
      "100%|██████████| 10000/10000 [00:01<00:00, 5443.89it/s]\n"
     ]
    },
    {
     "name": "stdout",
     "output_type": "stream",
     "text": [
      "For k= 1 Error is: 0.1249\n",
      "============= Train and Test for k = 2 ===============\n",
      "------- Training ------\n"
     ]
    },
    {
     "name": "stderr",
     "output_type": "stream",
     "text": [
      "100%|██████████| 10/10 [00:12<00:00,  1.21s/it]\n"
     ]
    },
    {
     "name": "stdout",
     "output_type": "stream",
     "text": [
      "------- Testing ------\n"
     ]
    },
    {
     "name": "stderr",
     "output_type": "stream",
     "text": [
      "100%|██████████| 10000/10000 [00:03<00:00, 2754.58it/s]\n"
     ]
    },
    {
     "name": "stdout",
     "output_type": "stream",
     "text": [
      "For k= 2 Error is: 0.108\n",
      "============= Train and Test for k = 3 ===============\n",
      "------- Training ------\n"
     ]
    },
    {
     "name": "stderr",
     "output_type": "stream",
     "text": [
      "100%|██████████| 10/10 [00:21<00:00,  2.18s/it]\n"
     ]
    },
    {
     "name": "stdout",
     "output_type": "stream",
     "text": [
      "------- Testing ------\n"
     ]
    },
    {
     "name": "stderr",
     "output_type": "stream",
     "text": [
      "100%|██████████| 10000/10000 [00:06<00:00, 1650.27it/s]\n"
     ]
    },
    {
     "name": "stdout",
     "output_type": "stream",
     "text": [
      "For k= 3 Error is: 0.0979\n",
      "============= Train and Test for k = 4 ===============\n",
      "------- Training ------\n"
     ]
    },
    {
     "name": "stderr",
     "output_type": "stream",
     "text": [
      "100%|██████████| 10/10 [00:23<00:00,  2.33s/it]\n"
     ]
    },
    {
     "name": "stdout",
     "output_type": "stream",
     "text": [
      "------- Testing ------\n"
     ]
    },
    {
     "name": "stderr",
     "output_type": "stream",
     "text": [
      "100%|██████████| 10000/10000 [00:07<00:00, 1413.57it/s]\n"
     ]
    },
    {
     "name": "stdout",
     "output_type": "stream",
     "text": [
      "For k= 4 Error is: 0.0909\n",
      "============= Train and Test for k = 5 ===============\n",
      "------- Training ------\n"
     ]
    },
    {
     "name": "stderr",
     "output_type": "stream",
     "text": [
      "100%|██████████| 10/10 [00:25<00:00,  2.53s/it]\n"
     ]
    },
    {
     "name": "stdout",
     "output_type": "stream",
     "text": [
      "------- Testing ------\n"
     ]
    },
    {
     "name": "stderr",
     "output_type": "stream",
     "text": [
      "100%|██████████| 10000/10000 [00:08<00:00, 1135.53it/s]\n"
     ]
    },
    {
     "name": "stdout",
     "output_type": "stream",
     "text": [
      "For k= 5 Error is: 0.0838\n",
      "============= Train and Test for k = 6 ===============\n",
      "------- Training ------\n"
     ]
    },
    {
     "name": "stderr",
     "output_type": "stream",
     "text": [
      "100%|██████████| 10/10 [00:36<00:00,  3.63s/it]\n"
     ]
    },
    {
     "name": "stdout",
     "output_type": "stream",
     "text": [
      "------- Testing ------\n"
     ]
    },
    {
     "name": "stderr",
     "output_type": "stream",
     "text": [
      "100%|██████████| 10000/10000 [00:10<00:00, 951.35it/s]\n"
     ]
    },
    {
     "name": "stdout",
     "output_type": "stream",
     "text": [
      "For k= 6 Error is: 0.0833\n",
      "============= Train and Test for k = 7 ===============\n",
      "------- Training ------\n"
     ]
    },
    {
     "name": "stderr",
     "output_type": "stream",
     "text": [
      "100%|██████████| 10/10 [00:32<00:00,  3.26s/it]\n"
     ]
    },
    {
     "name": "stdout",
     "output_type": "stream",
     "text": [
      "------- Testing ------\n"
     ]
    },
    {
     "name": "stderr",
     "output_type": "stream",
     "text": [
      "100%|██████████| 10000/10000 [00:12<00:00, 798.82it/s]\n"
     ]
    },
    {
     "name": "stdout",
     "output_type": "stream",
     "text": [
      "For k= 7 Error is: 0.0726\n",
      "============= Train and Test for k = 8 ===============\n",
      "------- Training ------\n"
     ]
    },
    {
     "name": "stderr",
     "output_type": "stream",
     "text": [
      "100%|██████████| 10/10 [00:41<00:00,  4.20s/it]\n"
     ]
    },
    {
     "name": "stdout",
     "output_type": "stream",
     "text": [
      "------- Testing ------\n"
     ]
    },
    {
     "name": "stderr",
     "output_type": "stream",
     "text": [
      "100%|██████████| 10000/10000 [00:13<00:00, 718.25it/s]\n"
     ]
    },
    {
     "name": "stdout",
     "output_type": "stream",
     "text": [
      "For k= 8 Error is: 0.0711\n",
      "============= Train and Test for k = 9 ===============\n",
      "------- Training ------\n"
     ]
    },
    {
     "name": "stderr",
     "output_type": "stream",
     "text": [
      "100%|██████████| 10/10 [00:40<00:00,  4.08s/it]\n"
     ]
    },
    {
     "name": "stdout",
     "output_type": "stream",
     "text": [
      "------- Testing ------\n"
     ]
    },
    {
     "name": "stderr",
     "output_type": "stream",
     "text": [
      "100%|██████████| 10000/10000 [00:15<00:00, 658.49it/s]\n"
     ]
    },
    {
     "name": "stdout",
     "output_type": "stream",
     "text": [
      "For k= 9 Error is: 0.0707\n",
      "============= Train and Test for k = 10 ===============\n",
      "------- Training ------\n"
     ]
    },
    {
     "name": "stderr",
     "output_type": "stream",
     "text": [
      "100%|██████████| 10/10 [01:36<00:00,  9.60s/it]\n"
     ]
    },
    {
     "name": "stdout",
     "output_type": "stream",
     "text": [
      "------- Testing ------\n"
     ]
    },
    {
     "name": "stderr",
     "output_type": "stream",
     "text": [
      "100%|██████████| 10000/10000 [00:17<00:00, 579.37it/s]"
     ]
    },
    {
     "name": "stdout",
     "output_type": "stream",
     "text": [
      "For k= 10 Error is: 0.0702\n"
     ]
    },
    {
     "name": "stderr",
     "output_type": "stream",
     "text": [
      "\n"
     ]
    }
   ],
   "source": [
    "err_list = train_and_test(train_data_reduced, train_Y, test_data_reduced, test_Y)"
   ]
  },
  {
   "cell_type": "code",
   "execution_count": null,
   "metadata": {},
   "outputs": [],
   "source": []
  }
 ],
 "metadata": {
  "interpreter": {
   "hash": "aee8b7b246df8f9039afb4144a1f6fd8d2ca17a180786b69acc140d282b71a49"
  },
  "kernelspec": {
   "display_name": "Python 3.9.7 64-bit",
   "language": "python",
   "name": "python3"
  },
  "language_info": {
   "codemirror_mode": {
    "name": "ipython",
    "version": 3
   },
   "file_extension": ".py",
   "mimetype": "text/x-python",
   "name": "python",
   "nbconvert_exporter": "python",
   "pygments_lexer": "ipython3",
   "version": "3.9.7"
  },
  "orig_nbformat": 4,
  "vscode": {
   "interpreter": {
    "hash": "4963ce141ada7e6fdd99e2f498870c2012841986e4180ea1573eaf930030f531"
   }
  }
 },
 "nbformat": 4,
 "nbformat_minor": 2
}
