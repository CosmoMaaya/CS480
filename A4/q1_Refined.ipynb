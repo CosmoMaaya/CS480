{
 "cells": [
  {
   "cell_type": "code",
   "execution_count": 30,
   "metadata": {},
   "outputs": [],
   "source": [
    "\n",
    "import torchvision\n",
    "import torch\n",
    "from torchvision import datasets, transforms\n",
    "import numpy as np\n",
    "import matplotlib.pyplot as plt\n",
    "from scipy.special import logsumexp\n",
    "from sklearn.decomposition import PCA \n",
    "import math\n",
    "from tqdm import tqdm\n",
    "\n",
    "MAX_ITER = 100\n",
    "EPSILON = 1e-10\n",
    "TOLERANCE = 1e-5\n",
    "\n",
    "class GMM:\n",
    "    def __init__(self, K, d):\n",
    "        self.K_RANGE = K\n",
    "\n",
    "        np.random.seed(0)\n",
    "        pi = np.random.rand(K)\n",
    "        self.pi = pi / np.sum(pi)\n",
    "\n",
    "        np.random.seed(0)\n",
    "        self.mu = np.random.normal(0, 3, size=(K, d))\n",
    "\n",
    "        np.random.seed(0)\n",
    "        self.S = np.random.rand(K, d) + 0.5\n",
    "\n",
    "    def EM_STEP(self, X):\n",
    "        N, d = X.shape\n",
    "        log_r = np.zeros((N, self.K_RANGE))\n",
    "        loss = []\n",
    "\n",
    "        for iter in range(MAX_ITER):\n",
    "            for k in range(self.K_RANGE):\n",
    "                log_r[:,k] = np.log(self.pi[k] + EPSILON) - 0.5 * np.sum(np.log(self.S[k] + EPSILON)) - 0.5 * np.dot((X-self.mu[k]) ** 2, 1/(self.S[k] + EPSILON))\n",
    "            \n",
    "            log_r_i = logsumexp(log_r, axis = 1)\n",
    "            log_r = log_r - log_r_i[:,None]\n",
    "            loss.append(-np.sum(log_r_i))\n",
    "\n",
    "            if iter > 1 and abs(loss[iter] - loss[iter-1]) <= TOLERANCE * abs(loss[iter]):\n",
    "                break\n",
    "\n",
    "            r = np.exp(log_r)\n",
    "            r_dot_k = np.sum(r, axis = 0)\n",
    "            self.pi = r_dot_k / N\n",
    "            self.mu = np.matmul(r.T, X) / (r_dot_k[:,None] + EPSILON)\n",
    "            self.S = np.matmul(r.T, X**2) / (r_dot_k[:,None] + EPSILON) - self.mu ** 2\n",
    "\n",
    "        return loss\n",
    "    \n",
    "    def sort_models(self):\n",
    "        indices = np.argsort(self.pi)\n",
    "        self.pi, self.mu, self.S = self.pi[indices], self.mu[indices], self.S[indices]\n",
    "\n",
    "    def p_theta(self, X):\n",
    "        p = 0\n",
    "        for k in range(self.K_RANGE):\n",
    "            exp_power = -0.5 * np.dot((X-self.mu[k]) ** 2, 1/(self.S[k] + EPSILON))\n",
    "            p += self.pi[k] * np.power(np.product(self.S[k]) * 2 * math.pi + EPSILON, -0.5) * np.exp(exp_power)\n",
    "        return p\n",
    "    \n",
    "    def __str__(self):\n",
    "        ret = \"GMM Model with K = {}\\n\".format(self.K_RANGE)\n",
    "\n",
    "        ret += \"Weights: {}\\n\".format(self.pi)\n",
    "\n",
    "        ret += \"Means: {}\\n\".format(self.mu)\n",
    "\n",
    "        ret += \"Diagonal Covariance: {}\\n\".format(self.S)\n",
    "        return ret\n",
    "transform = transforms.Compose([transforms.ToTensor()])\n"
   ]
  },
  {
   "cell_type": "code",
   "execution_count": 20,
   "metadata": {},
   "outputs": [
    {
     "name": "stdout",
     "output_type": "stream",
     "text": [
      "training GMM with k = 0\n",
      "training GMM with k = 1\n",
      "training GMM with k = 2\n",
      "training GMM with k = 3\n",
      "training GMM with k = 4\n",
      "training GMM with k = 5\n",
      "training GMM with k = 6\n",
      "training GMM with k = 7\n",
      "training GMM with k = 8\n",
      "training GMM with k = 9\n"
     ]
    },
    {
     "data": {
      "image/png": "[encoded data removed]",
      "text/plain": [
       "<Figure size 432x288 with 1 Axes>"
      ]
     },
     "metadata": {
      "needs_background": "light"
     },
     "output_type": "display_data"
    }
   ],
   "source": [
    "X = np.loadtxt(open(\"gmm_dataset.csv\", \"rb\"), delimiter=\",\")\n",
    "n, d = X.shape\n",
    "MAX_K = 10\n",
    "models, losses = [None] * MAX_K, [None] * MAX_K\n",
    "for k in range(10):\n",
    "    print(f\"training GMM with k = {k}\")\n",
    "    model = GMM(k+1, d)\n",
    "    loss = model.EM_STEP(X)\n",
    "    models[k] = model\n",
    "    losses[k] = loss[-1]\n",
    "\n",
    "plt.plot(losses)\n",
    "plt.xlabel(\"K number\")\n",
    "plt.ylabel(\"Negative Log Likelihood\")\n",
    "plt.savefig(\"gmm_loss.png\")\n",
    "plt.show()"
   ]
  },
  {
   "cell_type": "code",
   "execution_count": 23,
   "metadata": {},
   "outputs": [
    {
     "name": "stdout",
     "output_type": "stream",
     "text": [
      "Choose k to be 4\n",
      "GMM Model with K = 4\n",
      "Weights: [0.09993414 0.20025588 0.29999657 0.39981342]\n",
      "Means: [[-2.5627181   0.60337574  0.90745592 -0.71058093  2.30680375 -1.43918693\n",
      "   0.06328725 -0.18376917  1.52080393  1.47012393  0.13393887  0.40621831\n",
      "  -0.85450408 -1.97701398 -0.32135938  0.18280744  1.22269799  1.21377036\n",
      "  -0.44258832 -0.32101564]\n",
      " [-1.03907932 -1.39295214 -1.70760377  1.91703835 -0.53885794 -0.44294692\n",
      "  -1.27312439  0.76609747 -1.57490745 -0.22055584 -0.89470626  0.3886911\n",
      "  -0.53610847 -1.1641861  -0.04052967  0.44047057  0.04808813  0.30118042\n",
      "  -0.65212051 -0.34941147]\n",
      " [-0.66420197 -0.39858852 -0.83831472 -1.71763564  0.18915297 -0.37076055\n",
      "  -1.64449944  0.47975999 -0.94519576  0.03328255  0.7486806   0.09162917\n",
      "   1.14866329 -1.21051607  0.43646497 -0.70271377 -0.89330026 -0.57061029\n",
      "  -0.31965039  0.05544879]\n",
      " [-0.44528199  0.80371051  0.60120252 -0.57745704  1.60198765  1.20713514\n",
      "   1.12312928 -0.18323747 -0.81467637  0.90340714 -0.24046742  1.26898839\n",
      "   0.34255161  0.75722025  0.37131611  0.62440587  0.37209086  1.30537922\n",
      "   0.14171392  0.08989936]]\n",
      "Diagonal Covariance: [[0.35696531 1.08301856 0.28270093 1.32706664 0.68860905 0.1489752\n",
      "  0.40746923 1.79265403 0.7590108  0.39113324 0.64846273 0.55070533\n",
      "  0.6107153  0.03141264 0.65742337 0.71690793 0.60911085 0.20461862\n",
      "  0.38292874 1.02901443]\n",
      " [1.61240355 0.45679269 0.17089574 0.61303974 2.49265493 0.88635725\n",
      "  0.87564168 1.15488402 1.38538523 0.46681132 0.06877493 1.75115982\n",
      "  0.75086574 0.80064554 0.10021544 0.67222298 1.12773402 1.03111209\n",
      "  1.13906356 0.4370211 ]\n",
      " [0.49842287 1.88765855 0.98965731 0.08235861 1.21619106 0.82206281\n",
      "  0.98242817 1.54627619 1.11456088 0.31690277 0.87363603 0.34326194\n",
      "  0.83460649 0.6801935  1.0696056  0.67418207 0.76059968 0.68464462\n",
      "  0.44612671 0.0176683 ]\n",
      " [2.19964664 1.32752864 0.898796   4.76182795 0.79072506 3.25807409\n",
      "  0.95993479 0.20529555 1.19739134 1.71991453 1.42961814 0.43771629\n",
      "  0.28182282 1.45909803 0.4517556  0.36050333 1.22177005 1.37137526\n",
      "  1.74828601 1.53698037]]\n",
      "\n"
     ]
    }
   ],
   "source": [
    "choose_of_k = 4\n",
    "\n",
    "print(f\"Choose k to be {choose_of_k}\")\n",
    "\n",
    "chosen_model = models[choose_of_k-1]\n",
    "chosen_model.sort_models()\n",
    "print(chosen_model)\n",
    "\n"
   ]
  },
  {
   "cell_type": "markdown",
   "metadata": {},
   "source": [
    "# QUESTION2 MNIST"
   ]
  },
  {
   "cell_type": "code",
   "execution_count": 24,
   "metadata": {},
   "outputs": [
    {
     "name": "stdout",
     "output_type": "stream",
     "text": [
      "torch.Size([60000, 28, 28])\n"
     ]
    }
   ],
   "source": [
    "root = './data'\n",
    "train_data = datasets.MNIST(root = root, train= True, transform=None, download=True)\n",
    "test_data = datasets.MNIST(root = root, train= False, transform=None, download=True)\n",
    "\n",
    "train_N, d1, d2 = train_data.data.shape\n",
    "train_X = np.reshape(train_X, (train_N, d1 * d2))\n",
    "train_Y = train_data.targets.numpy()\n",
    "\n",
    "test_N, d1, d2 = test_data.data.shape\n",
    "test_X = np.reshape(test_X, (test_N, d1 * d2))\n",
    "test_Y = test_data.targets.numpy()\n",
    "\n",
    "d = 40\n",
    "\n",
    "reducer = PCA(n_components=d)\n",
    "reducer.fit(train_X)\n",
    "\n",
    "train_data_reduced = reducer.transform(train_X)\n",
    "test_data_reduced = reducer.transform(test_X)"
   ]
  },
  {
   "cell_type": "code",
   "execution_count": 28,
   "metadata": {},
   "outputs": [],
   "source": [
    "def split_training_set(train_x, train_y):\n",
    "    train_x_split = [[] for _ in range(10)]\n",
    "    for i in range(len(train_y)):\n",
    "        train_x_split[train_y[i]].append(train_x[i])\n",
    "    return train_x_split\n",
    "\n",
    "def train_baysianGMM(train_x, train_y, k):\n",
    "    gmms = []\n",
    "    d = len(train_x[0])\n",
    "\n",
    "    train_x_by_classes = split_training_set(train_x, train_y)\n",
    "\n",
    "    # Calculate P(Y=c)\n",
    "    total = len(train_x)\n",
    "    P_yc = []\n",
    "    for x_c in train_x_by_classes:\n",
    "        P_yc.append(len(x_c)/total)\n",
    "\n",
    "    print(\"------- Training ------\")\n",
    "    # Train gmm for each class\n",
    "    for c in tqdm(range(len(train_x_by_classes))):\n",
    "        train_x_class_c = np.array(train_x_by_classes[c])\n",
    "        gmm_c = GMM(k, d)\n",
    "        gmm_c.EM_STEP(train_x_class_c)\n",
    "        gmms.append(gmm_c)\n",
    "\n",
    "    return gmms, P_yc\n",
    "\n",
    "def baysianGMM_classifier(x, gmms, P_yc):\n",
    "    largest_prob = -1\n",
    "    chosen_c = -1\n",
    "    for c in range(len(gmms)):\n",
    "        gmm_c = gmms[c]\n",
    "        prob = gmm_c.p_theta(x) * P_yc[c]\n",
    "        if prob > largest_prob:\n",
    "            largest_prob = prob\n",
    "            chosen_c = c\n",
    "    \n",
    "    return chosen_c\n",
    "\n",
    "def report_test_err(test_X, test_Y, gmms, P_yc):\n",
    "    pred_Y = []\n",
    "    print(\"------- Testing ------\")\n",
    "    for x in tqdm(test_X):\n",
    "        y_hat = baysianGMM_classifier(x, gmms, P_yc)\n",
    "        pred_Y.append(y_hat)\n",
    "\n",
    "    err_count = 0\n",
    "    for y_hat, y in zip(pred_Y, test_Y):\n",
    "        if y_hat != y:\n",
    "            err_count += 1\n",
    "    \n",
    "    return err_count/len(test_Y)\n",
    "\n",
    "def train_and_test(train_data, train_label, test_data, test_label):\n",
    "    err_list = []\n",
    "    for k in (range(1, 11)):\n",
    "        print(\"============= Train and Test for k =\", k, \"===============\")\n",
    "        gmms, p_yc= train_baysianGMM(train_data, train_label, k)\n",
    "        err = report_test_err(test_data, test_label, gmms, p_yc)\n",
    "        err_list.append(err)\n",
    "        print(\"For k=\", k, \"Error is:\", err)\n",
    "\n",
    "\n",
    "    return err_list"
   ]
  },
  {
   "cell_type": "code",
   "execution_count": 31,
   "metadata": {},
   "outputs": [
    {
     "name": "stdout",
     "output_type": "stream",
     "text": [
      "============= Train and Test for k = 1 ===============\n",
      "------- Training ------\n"
     ]
    },
    {
     "name": "stderr",
     "output_type": "stream",
     "text": [
      "100%|██████████| 10/10 [00:00<00:00, 163.90it/s]\n"
     ]
    },
    {
     "name": "stdout",
     "output_type": "stream",
     "text": [
      "------- Testing ------\n"
     ]
    },
    {
     "name": "stderr",
     "output_type": "stream",
     "text": [
      "100%|██████████| 10000/10000 [00:01<00:00, 8596.52it/s]\n"
     ]
    },
    {
     "name": "stdout",
     "output_type": "stream",
     "text": [
      "For k= 1 Error is: 0.125\n",
      "============= Train and Test for k = 2 ===============\n",
      "------- Training ------\n"
     ]
    },
    {
     "name": "stderr",
     "output_type": "stream",
     "text": [
      "100%|██████████| 10/10 [00:00<00:00, 16.95it/s]\n"
     ]
    },
    {
     "name": "stdout",
     "output_type": "stream",
     "text": [
      "------- Testing ------\n"
     ]
    },
    {
     "name": "stderr",
     "output_type": "stream",
     "text": [
      "100%|██████████| 10000/10000 [00:02<00:00, 4487.32it/s]\n"
     ]
    },
    {
     "name": "stdout",
     "output_type": "stream",
     "text": [
      "For k= 2 Error is: 0.112\n",
      "============= Train and Test for k = 3 ===============\n",
      "------- Training ------\n"
     ]
    },
    {
     "name": "stderr",
     "output_type": "stream",
     "text": [
      "100%|██████████| 10/10 [00:00<00:00, 11.07it/s]\n"
     ]
    },
    {
     "name": "stdout",
     "output_type": "stream",
     "text": [
      "------- Testing ------\n"
     ]
    },
    {
     "name": "stderr",
     "output_type": "stream",
     "text": [
      "100%|██████████| 10000/10000 [00:03<00:00, 3025.96it/s]\n"
     ]
    },
    {
     "name": "stdout",
     "output_type": "stream",
     "text": [
      "For k= 3 Error is: 0.0917\n",
      "============= Train and Test for k = 4 ===============\n",
      "------- Training ------\n"
     ]
    },
    {
     "name": "stderr",
     "output_type": "stream",
     "text": [
      "100%|██████████| 10/10 [00:01<00:00,  8.93it/s]\n"
     ]
    },
    {
     "name": "stdout",
     "output_type": "stream",
     "text": [
      "------- Testing ------\n"
     ]
    },
    {
     "name": "stderr",
     "output_type": "stream",
     "text": [
      "100%|██████████| 10000/10000 [00:04<00:00, 2268.61it/s]\n"
     ]
    },
    {
     "name": "stdout",
     "output_type": "stream",
     "text": [
      "For k= 4 Error is: 0.0892\n",
      "============= Train and Test for k = 5 ===============\n",
      "------- Training ------\n"
     ]
    },
    {
     "name": "stderr",
     "output_type": "stream",
     "text": [
      "100%|██████████| 10/10 [00:01<00:00,  7.01it/s]\n"
     ]
    },
    {
     "name": "stdout",
     "output_type": "stream",
     "text": [
      "------- Testing ------\n"
     ]
    },
    {
     "name": "stderr",
     "output_type": "stream",
     "text": [
      "100%|██████████| 10000/10000 [00:05<00:00, 1828.41it/s]\n"
     ]
    },
    {
     "name": "stdout",
     "output_type": "stream",
     "text": [
      "For k= 5 Error is: 0.0866\n",
      "============= Train and Test for k = 6 ===============\n",
      "------- Training ------\n"
     ]
    },
    {
     "name": "stderr",
     "output_type": "stream",
     "text": [
      "100%|██████████| 10/10 [00:01<00:00,  5.87it/s]\n"
     ]
    },
    {
     "name": "stdout",
     "output_type": "stream",
     "text": [
      "------- Testing ------\n"
     ]
    },
    {
     "name": "stderr",
     "output_type": "stream",
     "text": [
      "100%|██████████| 10000/10000 [00:06<00:00, 1522.89it/s]\n"
     ]
    },
    {
     "name": "stdout",
     "output_type": "stream",
     "text": [
      "For k= 6 Error is: 0.0778\n",
      "============= Train and Test for k = 7 ===============\n",
      "------- Training ------\n"
     ]
    },
    {
     "name": "stderr",
     "output_type": "stream",
     "text": [
      "100%|██████████| 10/10 [00:01<00:00,  5.69it/s]\n"
     ]
    },
    {
     "name": "stdout",
     "output_type": "stream",
     "text": [
      "------- Testing ------\n"
     ]
    },
    {
     "name": "stderr",
     "output_type": "stream",
     "text": [
      "100%|██████████| 10000/10000 [00:07<00:00, 1304.85it/s]\n"
     ]
    },
    {
     "name": "stdout",
     "output_type": "stream",
     "text": [
      "For k= 7 Error is: 0.0751\n",
      "============= Train and Test for k = 8 ===============\n",
      "------- Training ------\n"
     ]
    },
    {
     "name": "stderr",
     "output_type": "stream",
     "text": [
      "100%|██████████| 10/10 [00:01<00:00,  5.13it/s]\n"
     ]
    },
    {
     "name": "stdout",
     "output_type": "stream",
     "text": [
      "------- Testing ------\n"
     ]
    },
    {
     "name": "stderr",
     "output_type": "stream",
     "text": [
      "100%|██████████| 10000/10000 [00:08<00:00, 1142.99it/s]\n"
     ]
    },
    {
     "name": "stdout",
     "output_type": "stream",
     "text": [
      "For k= 8 Error is: 0.0709\n",
      "============= Train and Test for k = 9 ===============\n",
      "------- Training ------\n"
     ]
    },
    {
     "name": "stderr",
     "output_type": "stream",
     "text": [
      "100%|██████████| 10/10 [00:02<00:00,  4.32it/s]\n"
     ]
    },
    {
     "name": "stdout",
     "output_type": "stream",
     "text": [
      "------- Testing ------\n"
     ]
    },
    {
     "name": "stderr",
     "output_type": "stream",
     "text": [
      "100%|██████████| 10000/10000 [00:09<00:00, 1016.45it/s]\n"
     ]
    },
    {
     "name": "stdout",
     "output_type": "stream",
     "text": [
      "For k= 9 Error is: 0.0689\n",
      "============= Train and Test for k = 10 ===============\n",
      "------- Training ------\n"
     ]
    },
    {
     "name": "stderr",
     "output_type": "stream",
     "text": [
      "100%|██████████| 10/10 [00:03<00:00,  3.19it/s]\n"
     ]
    },
    {
     "name": "stdout",
     "output_type": "stream",
     "text": [
      "------- Testing ------\n"
     ]
    },
    {
     "name": "stderr",
     "output_type": "stream",
     "text": [
      "100%|██████████| 10000/10000 [00:10<00:00, 914.96it/s]"
     ]
    },
    {
     "name": "stdout",
     "output_type": "stream",
     "text": [
      "For k= 10 Error is: 0.0704\n"
     ]
    },
    {
     "name": "stderr",
     "output_type": "stream",
     "text": [
      "\n"
     ]
    }
   ],
   "source": [
    "err_list = train_and_test(train_data_reduced, train_Y, test_data_reduced, test_Y)"
   ]
  },
  {
   "cell_type": "code",
   "execution_count": null,
   "metadata": {},
   "outputs": [],
   "source": [
    "\n",
    "\n",
    "\n",
    "np.sum(r[:, k, np.newaxis] * X * X, axis = 0) / (rsum[k] + eps) - means[k, :] * means[k, :]"
   ]
  },
  {
   "cell_type": "code",
   "execution_count": 118,
   "metadata": {},
   "outputs": [
    {
     "name": "stdout",
     "output_type": "stream",
     "text": [
      "[[1. 2. 3. 4.]\n",
      " [6. 7. 8. 9.]\n",
      " [0. 0. 0. 0.]]\n",
      "[[1 6 1]\n",
      " [2 2 2]\n",
      " [3 2 3]\n",
      " [4 3 4]\n",
      " [8 1 5]]\n",
      "[[1 0 3 7]\n",
      " [2 0 4 7]\n",
      " [3 0 9 2]\n",
      " [4 0 5 1]\n",
      " [5 0 9 2]]\n"
     ]
    },
    {
     "data": {
      "text/plain": [
       "array([[1],\n",
       "       [2],\n",
       "       [3],\n",
       "       [4],\n",
       "       [8]])"
      ]
     },
     "execution_count": 118,
     "metadata": {},
     "output_type": "execute_result"
    }
   ],
   "source": [
    "N, K, D = 5,3,4\n",
    "\n",
    "means = np.zeros((K,D))\n",
    "means[[0,1], :] = np.array([[1,2,3,4], [6,7,8,9]])\n",
    "print(means)\n",
    "means[1,:] * means[1, :]\n",
    "\n",
    "r = np.array([[1,2,3,4,8],[6,2,2,3,1],[1,2,3,4,5]]).T\n",
    "print(r)\n",
    "X = np.array([[1,0,3,7],[2,0,4,7],[3,0,9,2],[4,0,5,1],[5,0,9,2]])\n",
    "print(X)\n",
    "\n",
    "r[:, 0, None]"
   ]
  },
  {
   "cell_type": "markdown",
   "metadata": {},
   "source": []
  }
 ],
 "metadata": {
  "kernelspec": {
   "display_name": "Python 3.10.4 64-bit",
   "language": "python",
   "name": "python3"
  },
  "language_info": {
   "codemirror_mode": {
    "name": "ipython",
    "version": 3
   },
   "file_extension": ".py",
   "mimetype": "text/x-python",
   "name": "python",
   "nbconvert_exporter": "python",
   "pygments_lexer": "ipython3",
   "version": "3.10.4"
  },
  "orig_nbformat": 4,
  "vscode": {
   "interpreter": {
    "hash": "1f8e04c1004ae0e48c4c128aee02bb34a41f967cffe60616a1dbeccdbed98bf0"
   }
  }
 },
 "nbformat": 4,
 "nbformat_minor": 2
}
