{
 "cells": [
  {
   "cell_type": "code",
   "execution_count": 38,
   "metadata": {},
   "outputs": [],
   "source": [
    "\n",
    "import torchvision\n",
    "import torch\n",
    "from torchvision import datasets, transforms\n",
    "import numpy as np\n",
    "import matplotlib.pyplot as plt\n",
    "from scipy.special import logsumexp\n",
    "\n",
    "MAX_ITER = 500\n",
    "EPSILON = 1e-10\n",
    "TOLERANCE = 1e-5\n",
    "\n",
    "def initializeModel(K, d):\n",
    "    np.random.seed(0)\n",
    "    pi = np.random.rand(K)\n",
    "    pi = pi / np.sum(pi)\n",
    "\n",
    "    np.random.seed(0)\n",
    "    mu = np.random.normal(0, 3, size=(K, d))\n",
    "\n",
    "    np.random.seed(0)\n",
    "    S = np.random.rand(K, d) + 0.5\n",
    "\n",
    "    return pi, mu, S\n",
    "\n",
    "def GMM(X, K_RANGE):\n",
    "    N, d = X.shape\n",
    "    pi, mu, S = initializeModel(K_RANGE, d)\n",
    "    log_r = np.zeros((N, K_RANGE))\n",
    "    loss = [0.0] * MAX_ITER\n",
    "\n",
    "    for iter in range(MAX_ITER):\n",
    "        for k in range(K_RANGE):\n",
    "            log_r[:,k] = np.log(pi[k]) - 0.5 * np.sum(np.log(S[k] + EPSILON)) - 0.5 * np.sum((X-mu[k]) ** 2 / (S[k] + EPSILON), axis = 1)\n",
    "        \n",
    "        log_r_i = logsumexp(log_r, axis = 1)\n",
    "        log_r = log_r - log_r_i[:,None]\n",
    "        loss[iter] = -np.sum(log_r_i)\n",
    "\n",
    "        if iter > 1 and abs(loss[iter] - loss[iter-1]) <= TOLERANCE * abs(loss[iter]):\n",
    "            break\n",
    "\n",
    "        r = np.exp(log_r)\n",
    "        r_dot_k = np.sum(r, axis = 0)\n",
    "        pi = r_dot_k / N\n",
    "        mu = np.matmul(r.T, X) / r_dot_k[:,None]\n",
    "        S = np.matmul(r.T, X**2) / r_dot_k[:,None] - mu ** 2\n",
    "\n",
    "    return pi, mu, S, loss\n",
    "\n",
    "transform = transforms.Compose([transforms.ToTensor()])\n"
   ]
  },
  {
   "cell_type": "code",
   "execution_count": 18,
   "metadata": {},
   "outputs": [
    {
     "name": "stdout",
     "output_type": "stream",
     "text": [
      "[69939.41787313457, 58105.13225799935, 51670.13914384669, 41554.071199206155, 34512.117207288626, 34278.00275782545, 34245.32150643648, 34212.2427901643, 34168.29154473152, 34141.61515619645]\n"
     ]
    },
    {
     "data": {
      "text/plain": [
       "Text(0, 0.5, 'Negative Log Likelihood')"
      ]
     },
     "execution_count": 18,
     "metadata": {},
     "output_type": "execute_result"
    },
    {
     "data": {
      "image/png": "[encoded data removed]",
      "text/plain": [
       "<Figure size 432x288 with 1 Axes>"
      ]
     },
     "metadata": {
      "needs_background": "light"
     },
     "output_type": "display_data"
    }
   ],
   "source": [
    "X = np.loadtxt(open(\"gmm_dataset.csv\", \"rb\"), delimiter=\",\")\n",
    "\n",
    "K = 10\n",
    "pis, mus, Ss, losses = [[None for _ in range(K)] for _ in range(4)]\n",
    "for k in range(10):\n",
    "    pi, mu, S, loss = GMM(X, k+1)\n",
    "    pis[k] = pi\n",
    "    mus[k] = mu\n",
    "    Ss[k] = S\n",
    "    losses[k] = [ val for val in loss if val > 0.0]\n",
    "\n",
    "final_losses = [loss[-1] for loss in losses]\n",
    "plt.plot(final_losses)\n",
    "plt.xlabel(\"K number\")\n",
    "plt.ylabel(\"Negative Log Likelihood\")"
   ]
  },
  {
   "cell_type": "code",
   "execution_count": 28,
   "metadata": {},
   "outputs": [
    {
     "name": "stdout",
     "output_type": "stream",
     "text": [
      "Choose k to be 4\n",
      "Model 0 with weights 0.09965520915997991\n",
      "Mean [ 1.68895041  0.40338202  0.99211504  2.35056805  1.88562892 -0.96182475\n",
      "  0.88561463 -0.19120951 -0.08586713  0.34107486  0.03539807  1.39643336\n",
      "  0.73745184  0.10991832  0.42385499  0.32854659  1.46428576 -0.21035102\n",
      "  0.29018548 -0.84663937]\n",
      "Covariance [1.72187489 1.19321115 1.41173601 0.88740145 1.17525991 2.04880334\n",
      " 0.38433712 0.67911139 1.82800002 1.53834581 1.75403135 0.88254847\n",
      " 0.79972224 1.97868057 0.26419276 0.82525867 0.95488864 0.13978608\n",
      " 0.55880436 0.91594801]\n",
      "Model 1 with weights 0.09999844236706176\n",
      "Mean [-2.56304802  0.60297421  0.90734869 -0.70992474  2.30623825 -1.43950453\n",
      "  0.0635028  -0.18417534  1.51898971  1.47009916  0.13308313  0.40691041\n",
      " -0.8539717  -1.97684461 -0.32116845  0.18215543  1.2224895   1.21355931\n",
      " -0.44231741 -0.3195731 ]\n",
      "Covariance [0.35688103 1.08291111 0.28247171 1.32691967 0.68869621 0.14906731\n",
      " 0.40732567 1.79175932 0.76375603 0.39091032 0.64949237 0.55132451\n",
      " 0.61076607 0.03146277 0.65711747 0.71735269 0.60882144 0.20454849\n",
      " 0.38288118 1.03142672]\n",
      "Model 2 with weights 0.1999978317600604\n",
      "Mean [-1.04355038 -1.39364187 -1.70804323  1.91672538 -0.5412294  -0.4418892\n",
      " -1.27505895  0.76667665 -1.57565588 -0.22052901 -0.89479405  0.3880427\n",
      " -0.53755187 -1.16554286 -0.04041258  0.44094611  0.04643449  0.30260089\n",
      " -0.65284289 -0.34928298]\n",
      "Covariance [1.59885747 0.45493782 0.16928645 0.61344952 2.49076341 0.88623645\n",
      " 0.87324894 1.15514982 1.38479475 0.4652974  0.06871903 1.75247536\n",
      " 0.75011414 0.79919916 0.10014473 0.67206329 1.12664333 1.03089425\n",
      " 1.14007214 0.43578972]\n",
      "Model 3 with weights 0.30000089981553135\n",
      "Mean [-0.66419925 -0.39858388 -0.83829808 -1.71763552  0.18916423 -0.37075467\n",
      " -1.64447913  0.47975568 -0.94520437  0.03328116  0.74868057  0.09163614\n",
      "  1.14865632 -1.2105131   0.43647758 -0.70270233 -0.89329497 -0.57060054\n",
      " -0.31965263  0.05544935]\n",
      "Covariance [0.49842172 1.88766035 0.98967733 0.08235934 1.2161918  0.82206131\n",
      " 0.98245146 1.5462627  1.11456326 0.31689977 0.87363552 0.34326315\n",
      " 0.83460008 0.68019178 1.06961315 0.67418587 0.76061335 0.6846628\n",
      " 0.44612941 0.01766857]\n"
     ]
    }
   ],
   "source": [
    "choose_of_k = 4\n",
    "\n",
    "print(f\"Choose k to be {choose_of_k}\")\n",
    "\n",
    "models = [None] * choose_of_k\n",
    "for k in range(choose_of_k):\n",
    "    models[k] = (pis[choose_of_k][k], mus[choose_of_k][k], Ss[choose_of_k][k])\n",
    "models.sort()\n",
    "for i, model in enumerate(models):\n",
    "    print(f\"Model {i} with weights {model[0]}\")\n",
    "\n",
    "    print(f\"Mean {model[1]}\")\n",
    "\n",
    "    print(f\"Covariance {model[2]}\")\n",
    "\n"
   ]
  },
  {
   "cell_type": "code",
   "execution_count": 43,
   "metadata": {},
   "outputs": [
    {
     "ename": "LinAlgError",
     "evalue": "Last 2 dimensions of the array must be square",
     "output_type": "error",
     "traceback": [
      "\u001b[1;31m---------------------------------------------------------------------------\u001b[0m",
      "\u001b[1;31mLinAlgError\u001b[0m                               Traceback (most recent call last)",
      "\u001b[1;32mc:\\Users\\KandaMaya\\Documents\\University\\4A\\CS480\\A4\\qi.ipynb Cell 4\u001b[0m in \u001b[0;36m<cell line: 7>\u001b[1;34m()\u001b[0m\n\u001b[0;32m     <a href='vscode-notebook-cell:/c%3A/Users/KandaMaya/Documents/University/4A/CS480/A4/qi.ipynb#ch0000001?line=17'>18</a>\u001b[0m X \u001b[39m=\u001b[39m pca\u001b[39m.\u001b[39mfit_transform(X) \n\u001b[0;32m     <a href='vscode-notebook-cell:/c%3A/Users/KandaMaya/Documents/University/4A/CS480/A4/qi.ipynb#ch0000001?line=18'>19</a>\u001b[0m X \u001b[39m=\u001b[39m np\u001b[39m.\u001b[39mmat(X)\n\u001b[1;32m---> <a href='vscode-notebook-cell:/c%3A/Users/KandaMaya/Documents/University/4A/CS480/A4/qi.ipynb#ch0000001?line=19'>20</a>\u001b[0m pi, mu, S, loss \u001b[39m=\u001b[39m GMM(X, \u001b[39m5\u001b[39;49m)\n\u001b[0;32m     <a href='vscode-notebook-cell:/c%3A/Users/KandaMaya/Documents/University/4A/CS480/A4/qi.ipynb#ch0000001?line=20'>21</a>\u001b[0m class_models[identify_class] \u001b[39m=\u001b[39m (pi, mu, S)\n\u001b[0;32m     <a href='vscode-notebook-cell:/c%3A/Users/KandaMaya/Documents/University/4A/CS480/A4/qi.ipynb#ch0000001?line=21'>22</a>\u001b[0m p_y_c \u001b[39m=\u001b[39m N \u001b[39m/\u001b[39m TOTAL_DATA\n",
      "\u001b[1;32mc:\\Users\\KandaMaya\\Documents\\University\\4A\\CS480\\A4\\qi.ipynb Cell 4\u001b[0m in \u001b[0;36mGMM\u001b[1;34m(X, K_RANGE)\u001b[0m\n\u001b[0;32m     <a href='vscode-notebook-cell:/c%3A/Users/KandaMaya/Documents/University/4A/CS480/A4/qi.ipynb#ch0000001?line=30'>31</a>\u001b[0m \u001b[39mfor\u001b[39;00m \u001b[39miter\u001b[39m \u001b[39min\u001b[39;00m \u001b[39mrange\u001b[39m(MAX_ITER):\n\u001b[0;32m     <a href='vscode-notebook-cell:/c%3A/Users/KandaMaya/Documents/University/4A/CS480/A4/qi.ipynb#ch0000001?line=31'>32</a>\u001b[0m     \u001b[39mfor\u001b[39;00m k \u001b[39min\u001b[39;00m \u001b[39mrange\u001b[39m(K_RANGE):\n\u001b[1;32m---> <a href='vscode-notebook-cell:/c%3A/Users/KandaMaya/Documents/University/4A/CS480/A4/qi.ipynb#ch0000001?line=32'>33</a>\u001b[0m         log_r[:,k] \u001b[39m=\u001b[39m np\u001b[39m.\u001b[39mlog(pi[k]) \u001b[39m-\u001b[39m \u001b[39m0.5\u001b[39m \u001b[39m*\u001b[39m np\u001b[39m.\u001b[39msum(np\u001b[39m.\u001b[39mlog(S[k] \u001b[39m+\u001b[39m EPSILON)) \u001b[39m-\u001b[39m \u001b[39m0.5\u001b[39m \u001b[39m*\u001b[39m np\u001b[39m.\u001b[39msum((X\u001b[39m-\u001b[39;49mmu[k]) \u001b[39m*\u001b[39;49m\u001b[39m*\u001b[39;49m \u001b[39m2\u001b[39;49m \u001b[39m/\u001b[39m (S[k] \u001b[39m+\u001b[39m EPSILON), axis \u001b[39m=\u001b[39m \u001b[39m1\u001b[39m)\n\u001b[0;32m     <a href='vscode-notebook-cell:/c%3A/Users/KandaMaya/Documents/University/4A/CS480/A4/qi.ipynb#ch0000001?line=34'>35</a>\u001b[0m     log_r_i \u001b[39m=\u001b[39m logsumexp(log_r, axis \u001b[39m=\u001b[39m \u001b[39m1\u001b[39m)\n\u001b[0;32m     <a href='vscode-notebook-cell:/c%3A/Users/KandaMaya/Documents/University/4A/CS480/A4/qi.ipynb#ch0000001?line=35'>36</a>\u001b[0m     log_r \u001b[39m=\u001b[39m log_r \u001b[39m-\u001b[39m log_r_i[:,\u001b[39mNone\u001b[39;00m]\n",
      "File \u001b[1;32mc:\\Users\\KandaMaya\\AppData\\Local\\Programs\\Python\\Python310\\lib\\site-packages\\numpy\\matrixlib\\defmatrix.py:231\u001b[0m, in \u001b[0;36mmatrix.__pow__\u001b[1;34m(self, other)\u001b[0m\n\u001b[0;32m    230\u001b[0m \u001b[39mdef\u001b[39;00m \u001b[39m__pow__\u001b[39m(\u001b[39mself\u001b[39m, other):\n\u001b[1;32m--> 231\u001b[0m     \u001b[39mreturn\u001b[39;00m matrix_power(\u001b[39mself\u001b[39;49m, other)\n",
      "File \u001b[1;32m<__array_function__ internals>:180\u001b[0m, in \u001b[0;36mmatrix_power\u001b[1;34m(*args, **kwargs)\u001b[0m\n",
      "File \u001b[1;32mc:\\Users\\KandaMaya\\AppData\\Local\\Programs\\Python\\Python310\\lib\\site-packages\\numpy\\linalg\\linalg.py:620\u001b[0m, in \u001b[0;36mmatrix_power\u001b[1;34m(a, n)\u001b[0m\n\u001b[0;32m    618\u001b[0m a \u001b[39m=\u001b[39m asanyarray(a)\n\u001b[0;32m    619\u001b[0m _assert_stacked_2d(a)\n\u001b[1;32m--> 620\u001b[0m _assert_stacked_square(a)\n\u001b[0;32m    622\u001b[0m \u001b[39mtry\u001b[39;00m:\n\u001b[0;32m    623\u001b[0m     n \u001b[39m=\u001b[39m operator\u001b[39m.\u001b[39mindex(n)\n",
      "File \u001b[1;32mc:\\Users\\KandaMaya\\AppData\\Local\\Programs\\Python\\Python310\\lib\\site-packages\\numpy\\linalg\\linalg.py:203\u001b[0m, in \u001b[0;36m_assert_stacked_square\u001b[1;34m(*arrays)\u001b[0m\n\u001b[0;32m    201\u001b[0m m, n \u001b[39m=\u001b[39m a\u001b[39m.\u001b[39mshape[\u001b[39m-\u001b[39m\u001b[39m2\u001b[39m:]\n\u001b[0;32m    202\u001b[0m \u001b[39mif\u001b[39;00m m \u001b[39m!=\u001b[39m n:\n\u001b[1;32m--> 203\u001b[0m     \u001b[39mraise\u001b[39;00m LinAlgError(\u001b[39m'\u001b[39m\u001b[39mLast 2 dimensions of the array must be square\u001b[39m\u001b[39m'\u001b[39m)\n",
      "\u001b[1;31mLinAlgError\u001b[0m: Last 2 dimensions of the array must be square"
     ]
    }
   ],
   "source": [
    "K_RANGE = 10\n",
    "from sklearn.decomposition import PCA\n",
    "pca = PCA()\n",
    "# for k in range(K_RANGE):\n",
    "class_models = [None] * 10\n",
    "p_y_c = [0] * 10\n",
    "for identify_class in range(10):\n",
    "    data_train = datasets.MNIST(root = \"./data/\",\n",
    "                            transform=transform,\n",
    "                            train = True,\n",
    "                            download = True)\n",
    "    TOTAL_DATA = len(data_train)\n",
    "    idx = data_train.targets == identify_class\n",
    "    np_X = data_train.data[idx].numpy()\n",
    "    N, d1, d2 = np_X.shape\n",
    "    X = np_X.reshape(N, d1*d2) / 255.0\n",
    "    pi, mu, S, loss = GMM(X, 5)\n",
    "    class_models[identify_class] = (pi, mu, S)\n",
    "    p_y_c = N / TOTAL_DATA"
   ]
  },
  {
   "cell_type": "code",
   "execution_count": 40,
   "metadata": {},
   "outputs": [
    {
     "name": "stdout",
     "output_type": "stream",
     "text": [
      "Error rate 0.6752\n"
     ]
    }
   ],
   "source": [
    "# Test\n",
    "data_test = datasets.MNIST(root = \"./data/\",\n",
    "                            transform=transform,\n",
    "                            train = False,\n",
    "                            download = True)\n",
    "error = 0\n",
    "for x, y in data_test:\n",
    "    N, d1, d2 = x.shape\n",
    "    x = x.reshape(N, d1*d2).numpy() / 255.0\n",
    "    y_probs = np.zeros(10)\n",
    "    for class_c in range(10):\n",
    "        pi, mu, S = class_models[class_c]\n",
    "        log_p_ik = np.log(pi) - 0.5 * np.sum(np.log(S + EPSILON), axis=1) - 0.5 * np.sum((x-mu) ** 2 / (S + EPSILON), axis = 1)\n",
    "        log_p = logsumexp(log_p_ik)\n",
    "        y_probs[class_c] = log_p + np.log(p_y_c)\n",
    "    y_pred = np.argmax(y_probs)\n",
    "    if y_pred != y:\n",
    "        error += 1\n",
    "print(f\"Error rate {error/len(data_test)}\")\n"
   ]
  },
  {
   "cell_type": "code",
   "execution_count": null,
   "metadata": {},
   "outputs": [],
   "source": []
  }
 ],
 "metadata": {
  "kernelspec": {
   "display_name": "Python 3.10.4 64-bit",
   "language": "python",
   "name": "python3"
  },
  "language_info": {
   "codemirror_mode": {
    "name": "ipython",
    "version": 3
   },
   "file_extension": ".py",
   "mimetype": "text/x-python",
   "name": "python",
   "nbconvert_exporter": "python",
   "pygments_lexer": "ipython3",
   "version": "3.10.4"
  },
  "orig_nbformat": 4,
  "vscode": {
   "interpreter": {
    "hash": "1f8e04c1004ae0e48c4c128aee02bb34a41f967cffe60616a1dbeccdbed98bf0"
   }
  }
 },
 "nbformat": 4,
 "nbformat_minor": 2
}
