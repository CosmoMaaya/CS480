{
 "cells": [
  {
   "cell_type": "code",
   "execution_count": 3,
   "metadata": {},
   "outputs": [],
   "source": [
    "\n",
    "import torchvision\n",
    "import torch\n",
    "from torchvision import datasets, transforms\n",
    "import numpy as np\n",
    "import matplotlib.pyplot as plt\n",
    "from scipy.special import logsumexp\n",
    "import math\n",
    "\n",
    "MAX_ITER = 100\n",
    "EPSILON = 1e-10\n",
    "TOLERANCE = 1e-5\n",
    "\n",
    "def initializeModel(K, d):\n",
    "    np.random.seed(0)\n",
    "    pi = np.random.rand(K)\n",
    "    pi = pi / np.sum(pi)\n",
    "\n",
    "    np.random.seed(0)\n",
    "    mu = np.random.normal(0, 3, size=(K, d))\n",
    "\n",
    "    np.random.seed(0)\n",
    "    S = np.random.rand(K, d) + 0.5\n",
    "\n",
    "    return pi, mu, S\n",
    "\n",
    "def GMM(X, K_RANGE):\n",
    "    N, d = X.shape\n",
    "    pi, mu, S = initializeModel(K_RANGE, d)\n",
    "    log_r = np.zeros((N, K_RANGE))\n",
    "    loss = [0.0] * MAX_ITER\n",
    "\n",
    "    for iter in range(MAX_ITER):\n",
    "        for k in range(K_RANGE):\n",
    "            if iter==2:\n",
    "                print(k)\n",
    "            for i in range(N):\n",
    "                log_prob = np.log(pi[k])\n",
    "                for j in range(d):\n",
    "                    # print(k, i, j)\n",
    "                    if math.isclose(S[k,j], 0):\n",
    "                        if  math.isclose(X[i,j], mu[k,j]):\n",
    "                            mus = np.argwhere(mu[:,j]== mu[k,j]).flatten()\n",
    "                            sigmas = np.argwhere(S[:,j] == 0).flatten()\n",
    "                            num_models = len(np.intersect1d(mus, sigmas))\n",
    "                            log_prob += np.log(1/num_models)\n",
    "                        else:\n",
    "                            log_prob = float('-inf')\n",
    "                            break\n",
    "                    else:\n",
    "                        # if iter == 2:\n",
    "                            # print(i, k, j, S[k,j])\n",
    "                        log_prob += -0.5 * np.log(S[k][j]) - 0.5 * (X[i][j] - mu[k][j]) ** 2 / S[k][j]\n",
    "                log_r[i,k] = log_prob\n",
    "                # log_r[:,k] = np.log(pi[k]) - 0.5 * np.sum(np.log(S[k] + EPSILON)) - 0.5 * np.sum((X-mu[k]) ** 2 / (S[k] + EPSILON), axis = 1)\n",
    "        log_r_i = logsumexp(log_r, axis = 1)\n",
    "        log_r = log_r - log_r_i[:,None]\n",
    "        loss[iter] = -np.sum(log_r_i)\n",
    "        print(loss[iter])\n",
    "        if iter > 1 and abs(loss[iter] - loss[iter-1]) <= TOLERANCE * abs(loss[iter]):\n",
    "            break\n",
    "\n",
    "        r = np.exp(log_r)\n",
    "        r_dot_k = np.sum(r, axis = 0)\n",
    "        pi = r_dot_k / N\n",
    "        mu = np.matmul(r.T, X) / r_dot_k[:,None]\n",
    "        S = np.matmul(r.T, X**2) / r_dot_k[:,None] - mu ** 2\n",
    "\n",
    "    return pi, mu, S, loss\n",
    "\n",
    "transform = transforms.Compose([transforms.ToTensor()])\n"
   ]
  },
  {
   "cell_type": "code",
   "execution_count": 4,
   "metadata": {},
   "outputs": [
    {
     "name": "stdout",
     "output_type": "stream",
     "text": [
      "266879.4009627203\n",
      "36563.24661354808\n",
      "0\n",
      "1\n",
      "2\n",
      "3\n",
      "4\n",
      "5\n",
      "34513.0978481924\n"
     ]
    },
    {
     "name": "stderr",
     "output_type": "stream",
     "text": [
      "/var/folders/5r/zcfkkyt11zq3gym2pkmxs8380000gn/T/ipykernel_23199/3273749427.py:51: RuntimeWarning: invalid value encountered in log\n",
      "  log_prob += -0.5 * np.log(S[k][j]) - 0.5 * (X[i][j] - mu[k][j]) ** 2 / S[k][j]\n",
      "/var/folders/5r/zcfkkyt11zq3gym2pkmxs8380000gn/T/ipykernel_23199/3273749427.py:64: RuntimeWarning: invalid value encountered in true_divide\n",
      "  mu = np.matmul(r.T, X) / r_dot_k[:,None]\n",
      "/var/folders/5r/zcfkkyt11zq3gym2pkmxs8380000gn/T/ipykernel_23199/3273749427.py:65: RuntimeWarning: invalid value encountered in true_divide\n",
      "  S = np.matmul(r.T, X**2) / r_dot_k[:,None] - mu ** 2\n",
      "/var/folders/5r/zcfkkyt11zq3gym2pkmxs8380000gn/T/ipykernel_23199/3273749427.py:36: RuntimeWarning: divide by zero encountered in log\n",
      "  log_prob = np.log(pi[k])\n",
      "/usr/local/lib/python3.9/site-packages/scipy/special/_logsumexp.py:118: RuntimeWarning: invalid value encountered in log\n",
      "  out = np.log(s)\n",
      "/var/folders/5r/zcfkkyt11zq3gym2pkmxs8380000gn/T/ipykernel_23199/3273749427.py:36: RuntimeWarning: invalid value encountered in log\n",
      "  log_prob = np.log(pi[k])\n"
     ]
    },
    {
     "name": "stdout",
     "output_type": "stream",
     "text": [
      "nan\n",
      "nan\n",
      "nan\n",
      "nan\n",
      "nan\n"
     ]
    },
    {
     "ename": "KeyboardInterrupt",
     "evalue": "",
     "output_type": "error",
     "traceback": [
      "\u001b[0;31m---------------------------------------------------------------------------\u001b[0m",
      "\u001b[0;31mKeyboardInterrupt\u001b[0m                         Traceback (most recent call last)",
      "\u001b[0;32m/var/folders/5r/zcfkkyt11zq3gym2pkmxs8380000gn/T/ipykernel_23199/244094238.py\u001b[0m in \u001b[0;36m<module>\u001b[0;34m\u001b[0m\n\u001b[1;32m      1\u001b[0m \u001b[0mX\u001b[0m \u001b[0;34m=\u001b[0m \u001b[0mnp\u001b[0m\u001b[0;34m.\u001b[0m\u001b[0mloadtxt\u001b[0m\u001b[0;34m(\u001b[0m\u001b[0mopen\u001b[0m\u001b[0;34m(\u001b[0m\u001b[0;34m\"gmm_dataset.csv\"\u001b[0m\u001b[0;34m,\u001b[0m \u001b[0;34m\"rb\"\u001b[0m\u001b[0;34m)\u001b[0m\u001b[0;34m,\u001b[0m \u001b[0mdelimiter\u001b[0m\u001b[0;34m=\u001b[0m\u001b[0;34m\",\"\u001b[0m\u001b[0;34m)\u001b[0m\u001b[0;34m\u001b[0m\u001b[0;34m\u001b[0m\u001b[0m\n\u001b[1;32m      2\u001b[0m \u001b[0mk\u001b[0m \u001b[0;34m=\u001b[0m \u001b[0;36m5\u001b[0m\u001b[0;34m\u001b[0m\u001b[0;34m\u001b[0m\u001b[0m\n\u001b[0;32m----> 3\u001b[0;31m \u001b[0mpi\u001b[0m\u001b[0;34m,\u001b[0m \u001b[0mmu\u001b[0m\u001b[0;34m,\u001b[0m \u001b[0mS\u001b[0m\u001b[0;34m,\u001b[0m \u001b[0mloss\u001b[0m \u001b[0;34m=\u001b[0m \u001b[0mGMM\u001b[0m\u001b[0;34m(\u001b[0m\u001b[0mX\u001b[0m\u001b[0;34m,\u001b[0m \u001b[0mk\u001b[0m\u001b[0;34m+\u001b[0m\u001b[0;36m1\u001b[0m\u001b[0;34m)\u001b[0m\u001b[0;34m\u001b[0m\u001b[0;34m\u001b[0m\u001b[0m\n\u001b[0m",
      "\u001b[0;32m/var/folders/5r/zcfkkyt11zq3gym2pkmxs8380000gn/T/ipykernel_23199/3273749427.py\u001b[0m in \u001b[0;36mGMM\u001b[0;34m(X, K_RANGE)\u001b[0m\n\u001b[1;32m     49\u001b[0m                         \u001b[0;31m# if iter == 2:\u001b[0m\u001b[0;34m\u001b[0m\u001b[0;34m\u001b[0m\u001b[0m\n\u001b[1;32m     50\u001b[0m                             \u001b[0;31m# print(i, k, j, S[k,j])\u001b[0m\u001b[0;34m\u001b[0m\u001b[0;34m\u001b[0m\u001b[0m\n\u001b[0;32m---> 51\u001b[0;31m                         \u001b[0mlog_prob\u001b[0m \u001b[0;34m+=\u001b[0m \u001b[0;34m-\u001b[0m\u001b[0;36m0.5\u001b[0m \u001b[0;34m*\u001b[0m \u001b[0mnp\u001b[0m\u001b[0;34m.\u001b[0m\u001b[0mlog\u001b[0m\u001b[0;34m(\u001b[0m\u001b[0mS\u001b[0m\u001b[0;34m[\u001b[0m\u001b[0mk\u001b[0m\u001b[0;34m]\u001b[0m\u001b[0;34m[\u001b[0m\u001b[0mj\u001b[0m\u001b[0;34m]\u001b[0m\u001b[0;34m)\u001b[0m \u001b[0;34m-\u001b[0m \u001b[0;36m0.5\u001b[0m \u001b[0;34m*\u001b[0m \u001b[0;34m(\u001b[0m\u001b[0mX\u001b[0m\u001b[0;34m[\u001b[0m\u001b[0mi\u001b[0m\u001b[0;34m]\u001b[0m\u001b[0;34m[\u001b[0m\u001b[0mj\u001b[0m\u001b[0;34m]\u001b[0m \u001b[0;34m-\u001b[0m \u001b[0mmu\u001b[0m\u001b[0;34m[\u001b[0m\u001b[0mk\u001b[0m\u001b[0;34m]\u001b[0m\u001b[0;34m[\u001b[0m\u001b[0mj\u001b[0m\u001b[0;34m]\u001b[0m\u001b[0;34m)\u001b[0m \u001b[0;34m**\u001b[0m \u001b[0;36m2\u001b[0m \u001b[0;34m/\u001b[0m \u001b[0mS\u001b[0m\u001b[0;34m[\u001b[0m\u001b[0mk\u001b[0m\u001b[0;34m]\u001b[0m\u001b[0;34m[\u001b[0m\u001b[0mj\u001b[0m\u001b[0;34m]\u001b[0m\u001b[0;34m\u001b[0m\u001b[0;34m\u001b[0m\u001b[0m\n\u001b[0m\u001b[1;32m     52\u001b[0m                 \u001b[0mlog_r\u001b[0m\u001b[0;34m[\u001b[0m\u001b[0mi\u001b[0m\u001b[0;34m,\u001b[0m\u001b[0mk\u001b[0m\u001b[0;34m]\u001b[0m \u001b[0;34m=\u001b[0m \u001b[0mlog_prob\u001b[0m\u001b[0;34m\u001b[0m\u001b[0;34m\u001b[0m\u001b[0m\n\u001b[1;32m     53\u001b[0m                 \u001b[0;31m# log_r[:,k] = np.log(pi[k]) - 0.5 * np.sum(np.log(S[k] + EPSILON)) - 0.5 * np.sum((X-mu[k]) ** 2 / (S[k] + EPSILON), axis = 1)\u001b[0m\u001b[0;34m\u001b[0m\u001b[0;34m\u001b[0m\u001b[0m\n",
      "\u001b[0;31mKeyboardInterrupt\u001b[0m: "
     ]
    }
   ],
   "source": [
    "X = np.loadtxt(open(\"gmm_dataset.csv\", \"rb\"), delimiter=\",\")\n",
    "k = 5\n",
    "pi, mu, S, loss = GMM(X, k+1)"
   ]
  },
  {
   "cell_type": "code",
   "execution_count": 76,
   "metadata": {},
   "outputs": [
    {
     "name": "stdout",
     "output_type": "stream",
     "text": [
      "0\n",
      "596774.8192666939\n",
      "69939.41787313457\n",
      "69939.41787313457\n",
      "1\n",
      "563408.8942592521\n",
      "68660.23801643334\n",
      "67864.70370654194\n",
      "65323.761830051815\n",
      "62427.02873148951\n",
      "60651.56047071037\n",
      "58273.59931778928\n",
      "58105.23918639046\n",
      "58105.132257998855\n",
      "2\n",
      "464839.4723160267\n",
      "56328.54085412846\n",
      "53815.64941934867\n",
      "51936.75103974076\n",
      "51670.609282975915\n",
      "51670.13914384284\n",
      "3\n",
      "312103.9306769783\n",
      "53321.10353293078\n",
      "52689.649901297074\n",
      "52345.19748363776\n",
      "50321.36537233925\n",
      "44715.0213604214\n",
      "41560.9005996178\n",
      "41554.0713841098\n",
      "41554.07119920617\n",
      "4\n",
      "265853.2642504199\n",
      "36563.25349183878\n",
      "34513.090992994476\n",
      "34512.11720827206\n",
      "34512.117207288626\n",
      "5\n",
      "266879.4009627203\n",
      "36563.24661354808\n"
     ]
    },
    {
     "name": "stderr",
     "output_type": "stream",
     "text": [
      "/var/folders/5r/zcfkkyt11zq3gym2pkmxs8380000gn/T/ipykernel_21201/1738175464.py:46: RuntimeWarning: invalid value encountered in log\n",
      "  log_prob += -0.5 * np.log(S[k][j]) - 0.5 * (X[i][j] - mu[k][j]) ** 2 / S[k][j]\n",
      "/var/folders/5r/zcfkkyt11zq3gym2pkmxs8380000gn/T/ipykernel_21201/1738175464.py:59: RuntimeWarning: invalid value encountered in true_divide\n",
      "  mu = np.matmul(r.T, X) / r_dot_k[:,None]\n",
      "/var/folders/5r/zcfkkyt11zq3gym2pkmxs8380000gn/T/ipykernel_21201/1738175464.py:60: RuntimeWarning: invalid value encountered in true_divide\n",
      "  S = np.matmul(r.T, X**2) / r_dot_k[:,None] - mu ** 2\n"
     ]
    },
    {
     "name": "stdout",
     "output_type": "stream",
     "text": [
      "34513.0978481924\n"
     ]
    },
    {
     "name": "stderr",
     "output_type": "stream",
     "text": [
      "/var/folders/5r/zcfkkyt11zq3gym2pkmxs8380000gn/T/ipykernel_21201/1738175464.py:34: RuntimeWarning: divide by zero encountered in log\n",
      "  log_prob = np.log(pi[k])\n",
      "/usr/local/lib/python3.9/site-packages/scipy/special/_logsumexp.py:118: RuntimeWarning: invalid value encountered in log\n",
      "  out = np.log(s)\n",
      "/var/folders/5r/zcfkkyt11zq3gym2pkmxs8380000gn/T/ipykernel_21201/1738175464.py:34: RuntimeWarning: invalid value encountered in log\n",
      "  log_prob = np.log(pi[k])\n"
     ]
    },
    {
     "name": "stdout",
     "output_type": "stream",
     "text": [
      "nan\n",
      "nan\n"
     ]
    },
    {
     "ename": "KeyboardInterrupt",
     "evalue": "",
     "output_type": "error",
     "traceback": [
      "\u001b[0;31m---------------------------------------------------------------------------\u001b[0m",
      "\u001b[0;31mKeyboardInterrupt\u001b[0m                         Traceback (most recent call last)",
      "\u001b[0;32m/var/folders/5r/zcfkkyt11zq3gym2pkmxs8380000gn/T/ipykernel_21201/3072621840.py\u001b[0m in \u001b[0;36m<module>\u001b[0;34m\u001b[0m\n\u001b[1;32m      6\u001b[0m \u001b[0;34m\u001b[0m\u001b[0m\n\u001b[1;32m      7\u001b[0m     \u001b[0mprint\u001b[0m\u001b[0;34m(\u001b[0m\u001b[0mk\u001b[0m\u001b[0;34m)\u001b[0m\u001b[0;34m\u001b[0m\u001b[0;34m\u001b[0m\u001b[0m\n\u001b[0;32m----> 8\u001b[0;31m     \u001b[0mpi\u001b[0m\u001b[0;34m,\u001b[0m \u001b[0mmu\u001b[0m\u001b[0;34m,\u001b[0m \u001b[0mS\u001b[0m\u001b[0;34m,\u001b[0m \u001b[0mloss\u001b[0m \u001b[0;34m=\u001b[0m \u001b[0mGMM\u001b[0m\u001b[0;34m(\u001b[0m\u001b[0mX\u001b[0m\u001b[0;34m,\u001b[0m \u001b[0mk\u001b[0m\u001b[0;34m+\u001b[0m\u001b[0;36m1\u001b[0m\u001b[0;34m)\u001b[0m\u001b[0;34m\u001b[0m\u001b[0;34m\u001b[0m\u001b[0m\n\u001b[0m\u001b[1;32m      9\u001b[0m     \u001b[0mpis\u001b[0m\u001b[0;34m[\u001b[0m\u001b[0mk\u001b[0m\u001b[0;34m]\u001b[0m \u001b[0;34m=\u001b[0m \u001b[0mpi\u001b[0m\u001b[0;34m\u001b[0m\u001b[0;34m\u001b[0m\u001b[0m\n\u001b[1;32m     10\u001b[0m     \u001b[0mmus\u001b[0m\u001b[0;34m[\u001b[0m\u001b[0mk\u001b[0m\u001b[0;34m]\u001b[0m \u001b[0;34m=\u001b[0m \u001b[0mmu\u001b[0m\u001b[0;34m\u001b[0m\u001b[0;34m\u001b[0m\u001b[0m\n",
      "\u001b[0;32m/var/folders/5r/zcfkkyt11zq3gym2pkmxs8380000gn/T/ipykernel_21201/1738175464.py\u001b[0m in \u001b[0;36mGMM\u001b[0;34m(X, K_RANGE)\u001b[0m\n\u001b[1;32m     44\u001b[0m                             \u001b[0;32mbreak\u001b[0m\u001b[0;34m\u001b[0m\u001b[0;34m\u001b[0m\u001b[0m\n\u001b[1;32m     45\u001b[0m                     \u001b[0;32melse\u001b[0m\u001b[0;34m:\u001b[0m\u001b[0;34m\u001b[0m\u001b[0;34m\u001b[0m\u001b[0m\n\u001b[0;32m---> 46\u001b[0;31m                         \u001b[0mlog_prob\u001b[0m \u001b[0;34m+=\u001b[0m \u001b[0;34m-\u001b[0m\u001b[0;36m0.5\u001b[0m \u001b[0;34m*\u001b[0m \u001b[0mnp\u001b[0m\u001b[0;34m.\u001b[0m\u001b[0mlog\u001b[0m\u001b[0;34m(\u001b[0m\u001b[0mS\u001b[0m\u001b[0;34m[\u001b[0m\u001b[0mk\u001b[0m\u001b[0;34m]\u001b[0m\u001b[0;34m[\u001b[0m\u001b[0mj\u001b[0m\u001b[0;34m]\u001b[0m\u001b[0;34m)\u001b[0m \u001b[0;34m-\u001b[0m \u001b[0;36m0.5\u001b[0m \u001b[0;34m*\u001b[0m \u001b[0;34m(\u001b[0m\u001b[0mX\u001b[0m\u001b[0;34m[\u001b[0m\u001b[0mi\u001b[0m\u001b[0;34m]\u001b[0m\u001b[0;34m[\u001b[0m\u001b[0mj\u001b[0m\u001b[0;34m]\u001b[0m \u001b[0;34m-\u001b[0m \u001b[0mmu\u001b[0m\u001b[0;34m[\u001b[0m\u001b[0mk\u001b[0m\u001b[0;34m]\u001b[0m\u001b[0;34m[\u001b[0m\u001b[0mj\u001b[0m\u001b[0;34m]\u001b[0m\u001b[0;34m)\u001b[0m \u001b[0;34m**\u001b[0m \u001b[0;36m2\u001b[0m \u001b[0;34m/\u001b[0m \u001b[0mS\u001b[0m\u001b[0;34m[\u001b[0m\u001b[0mk\u001b[0m\u001b[0;34m]\u001b[0m\u001b[0;34m[\u001b[0m\u001b[0mj\u001b[0m\u001b[0;34m]\u001b[0m\u001b[0;34m\u001b[0m\u001b[0;34m\u001b[0m\u001b[0m\n\u001b[0m\u001b[1;32m     47\u001b[0m                 \u001b[0mlog_r\u001b[0m\u001b[0;34m[\u001b[0m\u001b[0mi\u001b[0m\u001b[0;34m,\u001b[0m\u001b[0mk\u001b[0m\u001b[0;34m]\u001b[0m \u001b[0;34m=\u001b[0m \u001b[0mlog_prob\u001b[0m\u001b[0;34m\u001b[0m\u001b[0;34m\u001b[0m\u001b[0m\n\u001b[1;32m     48\u001b[0m                 \u001b[0;31m# log_r[:,k] = np.log(pi[k]) - 0.5 * np.sum(np.log(S[k] + EPSILON)) - 0.5 * np.sum((X-mu[k]) ** 2 / (S[k] + EPSILON), axis = 1)\u001b[0m\u001b[0;34m\u001b[0m\u001b[0;34m\u001b[0m\u001b[0m\n",
      "\u001b[0;31mKeyboardInterrupt\u001b[0m: "
     ]
    }
   ],
   "source": [
    "X = np.loadtxt(open(\"gmm_dataset.csv\", \"rb\"), delimiter=\",\")\n",
    "\n",
    "K = 10\n",
    "pis, mus, Ss, losses = [[None for _ in range(K)] for _ in range(4)]\n",
    "for k in range(10):\n",
    "\n",
    "    print(k)\n",
    "    pi, mu, S, loss = GMM(X, k+1)\n",
    "    pis[k] = pi\n",
    "    mus[k] = mu\n",
    "    Ss[k] = S\n",
    "    losses[k] = [ val for val in loss if val > 0.0]\n",
    "\n",
    "final_losses = [loss[-1] for loss in losses]\n",
    "plt.plot(final_losses)\n",
    "plt.xlabel(\"K number\")\n",
    "plt.ylabel(\"Negative Log Likelihood\")"
   ]
  },
  {
   "cell_type": "code",
   "execution_count": 4,
   "metadata": {},
   "outputs": [
    {
     "name": "stdout",
     "output_type": "stream",
     "text": [
      "Choose k to be 4\n",
      "Model 0 with weights 0.09965520915997991\n",
      "Mean [ 1.68895041  0.40338202  0.99211504  2.35056805  1.88562892 -0.96182475\n",
      "  0.88561463 -0.19120951 -0.08586713  0.34107486  0.03539807  1.39643336\n",
      "  0.73745184  0.10991832  0.42385499  0.32854659  1.46428576 -0.21035102\n",
      "  0.29018548 -0.84663937]\n",
      "Covariance [1.72187489 1.19321115 1.41173601 0.88740145 1.17525991 2.04880334\n",
      " 0.38433712 0.67911139 1.82800002 1.53834581 1.75403135 0.88254847\n",
      " 0.79972224 1.97868057 0.26419276 0.82525867 0.95488864 0.13978608\n",
      " 0.55880436 0.91594801]\n",
      "Model 1 with weights 0.09999844236706176\n",
      "Mean [-2.56304802  0.60297421  0.90734869 -0.70992474  2.30623825 -1.43950453\n",
      "  0.0635028  -0.18417534  1.51898971  1.47009916  0.13308313  0.40691041\n",
      " -0.8539717  -1.97684461 -0.32116845  0.18215543  1.2224895   1.21355931\n",
      " -0.44231741 -0.3195731 ]\n",
      "Covariance [0.35688103 1.08291111 0.28247171 1.32691967 0.68869621 0.14906731\n",
      " 0.40732567 1.79175932 0.76375603 0.39091032 0.64949237 0.55132451\n",
      " 0.61076607 0.03146277 0.65711747 0.71735269 0.60882144 0.20454849\n",
      " 0.38288118 1.03142672]\n",
      "Model 2 with weights 0.1999978317600604\n",
      "Mean [-1.04355038 -1.39364187 -1.70804323  1.91672538 -0.5412294  -0.4418892\n",
      " -1.27505895  0.76667665 -1.57565588 -0.22052901 -0.89479405  0.3880427\n",
      " -0.53755187 -1.16554286 -0.04041258  0.44094611  0.04643449  0.30260089\n",
      " -0.65284289 -0.34928298]\n",
      "Covariance [1.59885747 0.45493782 0.16928645 0.61344952 2.49076341 0.88623645\n",
      " 0.87324894 1.15514982 1.38479475 0.4652974  0.06871903 1.75247536\n",
      " 0.75011414 0.79919916 0.10014473 0.67206329 1.12664333 1.03089425\n",
      " 1.14007214 0.43578972]\n",
      "Model 3 with weights 0.30000089981553135\n",
      "Mean [-0.66419925 -0.39858388 -0.83829808 -1.71763552  0.18916423 -0.37075467\n",
      " -1.64447913  0.47975568 -0.94520437  0.03328116  0.74868057  0.09163614\n",
      "  1.14865632 -1.2105131   0.43647758 -0.70270233 -0.89329497 -0.57060054\n",
      " -0.31965263  0.05544935]\n",
      "Covariance [0.49842172 1.88766035 0.98967733 0.08235934 1.2161918  0.82206131\n",
      " 0.98245146 1.5462627  1.11456326 0.31689977 0.87363552 0.34326315\n",
      " 0.83460008 0.68019178 1.06961315 0.67418587 0.76061335 0.6846628\n",
      " 0.44612941 0.01766857]\n"
     ]
    }
   ],
   "source": [
    "choose_of_k = 4\n",
    "\n",
    "print(f\"Choose k to be {choose_of_k}\")\n",
    "\n",
    "models = [None] * choose_of_k\n",
    "for k in range(choose_of_k):\n",
    "    models[k] = (pis[choose_of_k][k], mus[choose_of_k][k], Ss[choose_of_k][k])\n",
    "models.sort()\n",
    "for i, model in enumerate(models):\n",
    "    print(f\"Model {i} with weights {model[0]}\")\n",
    "\n",
    "    print(f\"Mean {model[1]}\")\n",
    "\n",
    "    print(f\"Covariance {model[2]}\")\n",
    "\n"
   ]
  },
  {
   "cell_type": "code",
   "execution_count": 22,
   "metadata": {},
   "outputs": [],
   "source": [
    "root = './data'\n",
    "train_data = datasets.MNIST(root = root, train= True, transform=None, download=True)\n",
    "test_data = datasets.MNIST(root = root, train= False, transform=None, download=True)\n",
    "\n",
    "train_X = train_data.data\n",
    "train_Y = train_data.targets\n",
    "train_X = np.reshape(train_X, (60000, 784))\n",
    "test_X = test_data.data\n",
    "test_Y = test_data.targets\n",
    "test_X = np.reshape(test_X, (10000, 784))\n",
    "\n",
    "from sklearn.decomposition import PCA \n",
    "\n",
    "d = 40\n",
    "\n",
    "reducer = PCA(n_components=d)\n",
    "reducer.fit(train_X)\n",
    "\n",
    "train_data_reduced = reducer.transform(train_X)\n",
    "test_data_reduced = reducer.transform(test_X)\n",
    "\n",
    "label_set = set(train_Y)\n",
    "train_Y = train_Y.numpy()\n",
    "test_Y = test_Y.numpy()"
   ]
  },
  {
   "cell_type": "code",
   "execution_count": 24,
   "metadata": {},
   "outputs": [
    {
     "name": "stdout",
     "output_type": "stream",
     "text": [
      "1.0488135039273248\n",
      "0.6024137584524164\n",
      "0.8579839368611963\n",
      "0.9811019640158117\n",
      "1.1707099583881693\n",
      "===\n",
      "0.0\n",
      "0.0\n",
      "0.0\n",
      "0.0\n",
      "0.0\n",
      "===\n",
      "0.0\n",
      "0.0\n",
      "0.0\n",
      "0.0\n",
      "0.0\n",
      "===\n",
      "0.0\n",
      "0.0\n",
      "0.0\n",
      "0.0\n",
      "0.0\n",
      "===\n",
      "0.0\n",
      "0.0\n",
      "0.0\n",
      "0.0\n",
      "0.0\n",
      "===\n",
      "0.0\n",
      "0.0\n",
      "0.0\n",
      "0.0\n",
      "0.0\n",
      "===\n",
      "0.0\n",
      "0.0\n",
      "0.0\n",
      "0.0\n",
      "0.0\n",
      "===\n",
      "0.0\n",
      "0.0\n",
      "0.0\n",
      "0.0\n",
      "0.0\n",
      "===\n",
      "0.0\n",
      "0.0\n",
      "0.0\n",
      "0.0\n",
      "0.0\n",
      "===\n",
      "0.0\n",
      "0.0\n",
      "0.0\n",
      "0.0\n",
      "0.0\n",
      "===\n",
      "0.0\n",
      "0.0\n",
      "0.0\n",
      "0.0\n",
      "0.0\n",
      "===\n",
      "0.0\n",
      "0.0\n",
      "0.0\n",
      "0.0\n",
      "0.0\n",
      "===\n",
      "0.0\n",
      "0.0\n",
      "0.0\n",
      "0.0\n",
      "0.0\n",
      "===\n",
      "0.0\n",
      "0.0\n",
      "0.0\n",
      "0.0\n",
      "0.0\n",
      "===\n",
      "0.0\n",
      "0.0\n",
      "0.0\n",
      "0.0\n",
      "0.0\n",
      "===\n",
      "0.0\n",
      "0.0\n",
      "0.0\n",
      "0.0\n",
      "0.0\n",
      "===\n",
      "0.0\n",
      "0.0\n",
      "0.0\n",
      "0.0\n",
      "0.0\n",
      "===\n",
      "0.0\n",
      "0.0\n",
      "0.0\n",
      "0.0\n",
      "0.0\n",
      "===\n",
      "0.0\n",
      "0.0\n",
      "0.0\n",
      "0.0\n",
      "0.0\n",
      "===\n"
     ]
    }
   ],
   "source": [
    "K_RANGE = 10\n",
    "from sklearn.decomposition import PCA\n",
    "pca = PCA()\n",
    "# for k in range(K_RANGE):\n",
    "class_models = [None] * 10\n",
    "p_y_c = [0] * 10\n",
    "for identify_class in range(1):\n",
    "    TOTAL_DATA = len(train_X)\n",
    "    idx = train_Y == identify_class\n",
    "    X = train_X[idx].numpy().astype('float64')\n",
    "    pi, mu, S, loss = GMM(X, 5)\n",
    "    class_models[identify_class] = (pi, mu, S)"
   ]
  },
  {
   "cell_type": "code",
   "execution_count": null,
   "metadata": {},
   "outputs": [],
   "source": []
  },
  {
   "cell_type": "code",
   "execution_count": 13,
   "metadata": {},
   "outputs": [
    {
     "name": "stderr",
     "output_type": "stream",
     "text": [
      "/var/folders/5r/zcfkkyt11zq3gym2pkmxs8380000gn/T/ipykernel_21201/3250235856.py:13: RuntimeWarning: divide by zero encountered in log\n",
      "  log_p_ik = np.log(pi) - 0.5 * np.sum(np.log(S + EPSILON), axis=1) - 0.5 * np.sum((x-mu) ** 2 / (S + EPSILON), axis = 1)\n"
     ]
    },
    {
     "name": "stdout",
     "output_type": "stream",
     "text": [
      "Error rate 0.6815\n"
     ]
    }
   ],
   "source": [
    "# Test\n",
    "data_test = datasets.MNIST(root = \"./data/\",\n",
    "                            transform=transform,\n",
    "                            train = False,\n",
    "                            download = True)\n",
    "error = 0\n",
    "for x, y in data_test:\n",
    "    N, d1, d2 = x.shape\n",
    "    x = x.reshape(N, d1*d2).numpy() / 255.0\n",
    "    y_probs = np.zeros(10)\n",
    "    for class_c in range(10):\n",
    "        pi, mu, S = class_models[class_c]\n",
    "        log_p_ik = np.log(pi) - 0.5 * np.sum(np.log(S + EPSILON), axis=1) - 0.5 * np.sum((x-mu) ** 2 / (S + EPSILON), axis = 1)\n",
    "        log_p = logsumexp(log_p_ik)\n",
    "        y_probs[class_c] = log_p + np.log(p_y_c)\n",
    "    y_pred = np.argmax(y_probs)\n",
    "    if y_pred != y:\n",
    "        error += 1\n",
    "print(f\"Error rate {error/len(data_test)}\")\n"
   ]
  },
  {
   "cell_type": "code",
   "execution_count": 11,
   "metadata": {},
   "outputs": [],
   "source": [
    "def GMM(X, K_RANGE):\n",
    "    \"\"\"\n",
    "    EM Step\n",
    "    \"\"\"\n",
    "    n, d = X.shape\n",
    "\n",
    "    weights, means, sigmas = initializeModel(K_RANGE, d)\n",
    "    loss_hist = []\n",
    "    rlog = np.zeros((n, K_RANGE))\n",
    "    r = np.zeros((n, K_RANGE))\n",
    "    for it in range(MAX_ITER):\n",
    "        ###########\n",
    "        # E Step\n",
    "        ###########\n",
    "        for k in range(K_RANGE):\n",
    "\n",
    "            # Updating rik\n",
    "            partition = np.log(weights[k]+EPSILON) - 0.5*np.log(sigmas[k, :]+EPSILON).sum()\n",
    "            s = 1/ (sigmas[k, :] + EPSILON)\n",
    "            delta = X - means[k][np.newaxis, :]\n",
    "            exp_term = np.sum(delta * delta * s[np.newaxis, :], axis = -1)\n",
    "            rlog[:, k] = -0.5 * exp_term + partition\n",
    "\n",
    "        # Normalize\n",
    "        rlogsum = []\n",
    "        for i in range(n):\n",
    "            ri_log = logsumexp(rlog[i])\n",
    "            rlogsum.append(ri_log)\n",
    "        rlogsum = np.array(rlogsum)\n",
    "        assert rlogsum.shape == (n,)\n",
    "        rlogsum = np.array(rlogsum)\n",
    "        rlog = rlog - rlogsum[:, np.newaxis]\n",
    "        loss = -np.sum(rlogsum)\n",
    "        loss_hist.append(loss)\n",
    "\n",
    "        \n",
    "        # Convert back to exp form\n",
    "        for i in range(n):\n",
    "            for k in range(K_RANGE):\n",
    "                r[i, k] = np.exp(rlog[i, k])\n",
    "        \n",
    "        if it > 0 and abs(loss_hist[-1] - loss_hist[-2]) <= TOLERANCE * abs(loss_hist[-1]):\n",
    "            break\n",
    "\n",
    "        ###########\n",
    "        # M Step\n",
    "        ###########\n",
    "        rsum = np.sum(r, axis = 0)\n",
    "        weights = rsum/n\n",
    "\n",
    "        for k in range(K_RANGE):\n",
    "            means[k, :] = np.sum(r[:, k, np.newaxis] * X, axis = 0) / (rsum[k] + EPSILON)\n",
    "            sigmas[k, :] = np.sum(r[:, k, np.newaxis] * X * X, axis = 0) / (rsum[k] + EPSILON) - means[k, :] * means[k, :]\n",
    "\n",
    "    return weights, means, sigmas, loss_hist"
   ]
  },
  {
   "cell_type": "code",
   "execution_count": 70,
   "metadata": {},
   "outputs": [
    {
     "name": "stdout",
     "output_type": "stream",
     "text": [
      "[0 0]\n"
     ]
    },
    {
     "data": {
      "text/plain": [
       "3"
      ]
     },
     "execution_count": 70,
     "metadata": {},
     "output_type": "execute_result"
    }
   ],
   "source": [
    "X = np.array([[1,0,3], [2,0,0]])\n",
    "Y = np.array([1,0,3])\n",
    "m = np.argwhere(Y == 0)\n",
    "m.shape\n",
    "print(X[:,1])\n",
    "vars = np.argwhere(X[:,1]==0).flatten()\n",
    "vars\n",
    "X[0,2]\n",
    "# default_prob = [1 / len(var) if len(var) != 0 else 0 for var in vars]\n",
    "# default_prob"
   ]
  },
  {
   "cell_type": "code",
   "execution_count": 61,
   "metadata": {},
   "outputs": [
    {
     "data": {
      "text/plain": [
       "2.313261687518223"
      ]
     },
     "execution_count": 61,
     "metadata": {},
     "output_type": "execute_result"
    }
   ],
   "source": [
    "float('-inf')\n",
    "temp = np.array([float('-inf'), 1, 2])\n",
    "logsumexp(temp)\n",
    "np.log(np.exp(1)+np.exp(2))"
   ]
  },
  {
   "cell_type": "markdown",
   "metadata": {},
   "source": []
  }
 ],
 "metadata": {
  "interpreter": {
   "hash": "aee8b7b246df8f9039afb4144a1f6fd8d2ca17a180786b69acc140d282b71a49"
  },
  "kernelspec": {
   "display_name": "Python 3.9.7 64-bit",
   "language": "python",
   "name": "python3"
  },
  "language_info": {
   "codemirror_mode": {
    "name": "ipython",
    "version": 3
   },
   "file_extension": ".py",
   "mimetype": "text/x-python",
   "name": "python",
   "nbconvert_exporter": "python",
   "pygments_lexer": "ipython3",
   "version": "3.9.7"
  },
  "orig_nbformat": 4,
  "vscode": {
   "interpreter": {
    "hash": "1f8e04c1004ae0e48c4c128aee02bb34a41f967cffe60616a1dbeccdbed98bf0"
   }
  }
 },
 "nbformat": 4,
 "nbformat_minor": 2
}
