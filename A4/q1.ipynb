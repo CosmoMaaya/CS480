{
 "cells": [
  {
   "cell_type": "code",
   "execution_count": 56,
   "metadata": {},
   "outputs": [],
   "source": [
    "import torchvision\n",
    "import torch\n",
    "from torchvision import datasets, transforms\n",
    "import numpy as np\n",
    "from tqdm import tqdm\n",
    "from scipy.special import logsumexp\n",
    "from multiprocessing import Pool\n",
    "\n",
    "MAX_ITER = 10\n",
    "EPSILON = 1e-7\n",
    "TOLERANCE = 1e-5"
   ]
  },
  {
   "cell_type": "code",
   "execution_count": 57,
   "metadata": {},
   "outputs": [],
   "source": [
    "def initializeModel(K, d):\n",
    "    np.random.seed(0)\n",
    "    pi = np.random.rand(K)\n",
    "    pi = pi / np.sum(pi)\n",
    "\n",
    "    np.random.seed(0)\n",
    "    mu = np.random.normal(0, 3, size=(K, d))\n",
    "\n",
    "    np.random.seed(0)\n",
    "    S = np.random.rand(K, d) + 0.5 + EPSILON\n",
    "\n",
    "    return pi, mu, S\n",
    "\n"
   ]
  },
  {
   "cell_type": "code",
   "execution_count": 58,
   "metadata": {},
   "outputs": [
    {
     "name": "stdout",
     "output_type": "stream",
     "text": [
      "(array([0.2275677 , 0.29655611, 0.24993822, 0.22593797]), array([[ 5.29215704,  1.20047163,  2.93621395],\n",
      "       [ 6.7226796 ,  5.60267397, -2.93183364],\n",
      "       [ 2.85026525, -0.45407162, -0.30965656],\n",
      "       [ 1.23179551,  0.43213071,  4.36282052]]), array([[1.0488136 , 1.21518947, 1.10276348],\n",
      "       [1.04488328, 0.9236549 , 1.14589421],\n",
      "       [0.93758731, 1.3917731 , 1.46366286],\n",
      "       [0.88344162, 1.29172514, 1.02889502]]))\n"
     ]
    }
   ],
   "source": [
    "print(initializeModel(4, 3))\n",
    "a, b, c = initializeModel(4,3)"
   ]
  },
  {
   "cell_type": "code",
   "execution_count": 69,
   "metadata": {},
   "outputs": [],
   "source": [
    "def GMM(X, K_RANGE):\n",
    "    N, d = X.shape\n",
    "    pi, mu, S = initializeModel(K_RANGE, d)\n",
    "    log_r = np.zeros((N, K_RANGE))\n",
    "    loss = [0.0] * MAX_ITER\n",
    "\n",
    "    # for iter in tqdm(range(MAX_ITER), total=MAX_ITER):\n",
    "    for iter in range(MAX_ITER):\n",
    "        print(f\"{iter}th pi: {pi}\")\n",
    "        print(f\"{iter}th S: {S}\")\n",
    "        print(f\"{iter}th {np.log(pi[3])}\")\n",
    "        for k in range(K_RANGE):\n",
    "            # exp_power = np.dot((X-mu[k]) ** 2, 1/S[k]) * (-1/2)\n",
    "            # if iter==2:\n",
    "                # print(pi[k] * np.power(np.prod(S[k]), -1/2) * np.exp(exp_power))\n",
    "            # r[:,k] = pi[k] * np.power(np.prod(S[k]), -1/2) * np.exp(exp_power)\n",
    "            log_r[:,k] = np.log(pi[k]) - 0.5 * np.sum(np.log(S[k])) - 0.5 * np.dot((X-mu[k]) ** 2, 1/S[k])\n",
    "        r_total = logsumexp(log_r, axis=1)\n",
    "        log_r = log_r - r_total[:,None]\n",
    "        loss[iter] = -np.sum(r_total)\n",
    "\n",
    "        if iter > 1 and abs(loss[iter] - loss[iter-1]) <= TOLERANCE * abs(loss[iter]):\n",
    "            break\n",
    "        \n",
    "        r = np.exp(log_r)\n",
    "        r_dot_k = np.exp(logsumexp(log_r, axis=0))\n",
    "        print(r_dot_k)\n",
    "        pi = r_dot_k / N\n",
    "        mu = np.dot(r.T, X) / r_dot_k[:,None]\n",
    "        S = np.dot(r.T, X ** 2) / r_dot_k[:,None] - mu ** 2 + EPSILON\n",
    "\n",
    "    return pi, mu, S, loss"
   ]
  },
  {
   "cell_type": "code",
   "execution_count": 70,
   "metadata": {},
   "outputs": [
    {
     "name": "stdout",
     "output_type": "stream",
     "text": [
      "0th pi: [0.19356424 0.25224431 0.21259213 0.19217803 0.14942128]\n",
      "0th S: [[1.0488136  1.21518947 1.10276348 ... 0.92690446 1.34285499 1.31803341]\n",
      " [0.60241386 0.65638345 0.80419879 ... 0.84010085 0.56859693 0.7289077 ]\n",
      " [0.85798404 0.93514209 1.09092683 ... 0.50090339 0.5698144  0.72649138]\n",
      " [0.98110206 0.75152284 1.37668199 ... 1.33130376 0.66284915 1.25190614]\n",
      " [1.17071006 1.39068749 1.46879135 ... 0.62987038 1.17056602 0.96383263]]\n",
      "0th -1.6493330935541435\n",
      "[ 126.00000069  812.         3168.99999931  790.         1026.        ]\n",
      "1th pi: [0.021273   0.13709269 0.53503292 0.13337836 0.17322303]\n",
      "1th S: [[1.e-07 1.e-07 1.e-07 ... 1.e-07 1.e-07 1.e-07]\n",
      " [1.e-07 1.e-07 1.e-07 ... 1.e-07 1.e-07 1.e-07]\n",
      " [1.e-07 1.e-07 1.e-07 ... 1.e-07 1.e-07 1.e-07]\n",
      " [1.e-07 1.e-07 1.e-07 ... 1.e-07 1.e-07 1.e-07]\n",
      " [1.e-07 1.e-07 1.e-07 ... 1.e-07 1.e-07 1.e-07]]\n",
      "1th -2.014565410815898\n"
     ]
    },
    {
     "name": "stderr",
     "output_type": "stream",
     "text": [
      "C:\\Users\\KandaMaya\\AppData\\Local\\Temp\\ipykernel_2384\\1891713983.py:17: RuntimeWarning: invalid value encountered in log\n",
      "  log_r[:,k] = np.log(pi[k]) - 0.5 * np.sum(np.log(S[k])) - 0.5 * np.dot((X-mu[k]) ** 2, 1/S[k])\n"
     ]
    },
    {
     "name": "stdout",
     "output_type": "stream",
     "text": [
      "[nan nan nan nan nan]\n",
      "2th pi: [nan nan nan nan nan]\n",
      "2th S: [[nan nan nan ... nan nan nan]\n",
      " [nan nan nan ... nan nan nan]\n",
      " [nan nan nan ... nan nan nan]\n",
      " [nan nan nan ... nan nan nan]\n",
      " [nan nan nan ... nan nan nan]]\n",
      "2th nan\n",
      "[nan nan nan nan nan]\n",
      "3th pi: [nan nan nan nan nan]\n",
      "3th S: [[nan nan nan ... nan nan nan]\n",
      " [nan nan nan ... nan nan nan]\n",
      " [nan nan nan ... nan nan nan]\n",
      " [nan nan nan ... nan nan nan]\n",
      " [nan nan nan ... nan nan nan]]\n",
      "3th nan\n",
      "[nan nan nan nan nan]\n",
      "4th pi: [nan nan nan nan nan]\n",
      "4th S: [[nan nan nan ... nan nan nan]\n",
      " [nan nan nan ... nan nan nan]\n",
      " [nan nan nan ... nan nan nan]\n",
      " [nan nan nan ... nan nan nan]\n",
      " [nan nan nan ... nan nan nan]]\n",
      "4th nan\n",
      "[nan nan nan nan nan]\n",
      "5th pi: [nan nan nan nan nan]\n",
      "5th S: [[nan nan nan ... nan nan nan]\n",
      " [nan nan nan ... nan nan nan]\n",
      " [nan nan nan ... nan nan nan]\n",
      " [nan nan nan ... nan nan nan]\n",
      " [nan nan nan ... nan nan nan]]\n",
      "5th nan\n",
      "[nan nan nan nan nan]\n",
      "6th pi: [nan nan nan nan nan]\n",
      "6th S: [[nan nan nan ... nan nan nan]\n",
      " [nan nan nan ... nan nan nan]\n",
      " [nan nan nan ... nan nan nan]\n",
      " [nan nan nan ... nan nan nan]\n",
      " [nan nan nan ... nan nan nan]]\n",
      "6th nan\n",
      "[nan nan nan nan nan]\n",
      "7th pi: [nan nan nan nan nan]\n",
      "7th S: [[nan nan nan ... nan nan nan]\n",
      " [nan nan nan ... nan nan nan]\n",
      " [nan nan nan ... nan nan nan]\n",
      " [nan nan nan ... nan nan nan]\n",
      " [nan nan nan ... nan nan nan]]\n",
      "7th nan\n",
      "[nan nan nan nan nan]\n",
      "8th pi: [nan nan nan nan nan]\n",
      "8th S: [[nan nan nan ... nan nan nan]\n",
      " [nan nan nan ... nan nan nan]\n",
      " [nan nan nan ... nan nan nan]\n",
      " [nan nan nan ... nan nan nan]\n",
      " [nan nan nan ... nan nan nan]]\n",
      "8th nan\n",
      "[nan nan nan nan nan]\n",
      "9th pi: [nan nan nan nan nan]\n",
      "9th S: [[nan nan nan ... nan nan nan]\n",
      " [nan nan nan ... nan nan nan]\n",
      " [nan nan nan ... nan nan nan]\n",
      " [nan nan nan ... nan nan nan]\n",
      " [nan nan nan ... nan nan nan]]\n",
      "9th nan\n",
      "[nan nan nan nan nan]\n",
      "[nan nan nan nan nan]\n",
      "[[nan nan nan ... nan nan nan]\n",
      " [nan nan nan ... nan nan nan]\n",
      " [nan nan nan ... nan nan nan]\n",
      " [nan nan nan ... nan nan nan]\n",
      " [nan nan nan ... nan nan nan]]\n",
      "[[nan nan nan ... nan nan nan]\n",
      " [nan nan nan ... nan nan nan]\n",
      " [nan nan nan ... nan nan nan]\n",
      " [nan nan nan ... nan nan nan]\n",
      " [nan nan nan ... nan nan nan]]\n",
      "[24574538708.09118, nan, nan, nan, nan, nan, nan, nan, nan, nan]\n"
     ]
    }
   ],
   "source": [
    "data_train = datasets.MNIST(root = \"./data/\",\n",
    "                        transform=transform,\n",
    "                        train = True,\n",
    "                        download = True)\n",
    "idx = data_train.targets == 0\n",
    "np_X = data_train.data[idx].numpy()\n",
    "N, d1, d2 = np_X.shape\n",
    "X = np_X.reshape(N, d1*d2)\n",
    "pi, mu, S, loss = GMM(X, 5)\n",
    "print(pi)\n",
    "print(mu)\n",
    "print(S)\n",
    "print(loss)"
   ]
  },
  {
   "cell_type": "code",
   "execution_count": 43,
   "metadata": {},
   "outputs": [
    {
     "name": "stdout",
     "output_type": "stream",
     "text": [
      "[1.]\n",
      "[0.7006095 0.2993905]\n",
      "[0.39550385 0.09995025 0.5045459 ]\n",
      "[0.39981342 0.09993414 0.20025588 0.29999657]\n",
      "[0.09965521 0.09999844 0.19999783 0.3000009  0.30034762]\n",
      "[9.96553183e-02 9.99984421e-02 1.99997834e-01 3.00000900e-01\n",
      " 3.00147506e-01 2.00000000e-04]\n",
      "[9.96554813e-02 9.99984424e-02 1.49279474e-01 2.99999062e-01\n",
      " 3.00147576e-01 2.00000000e-04 5.07199639e-02]\n",
      "[9.88494429e-02 9.99984500e-02 1.48502976e-01 2.99999017e-01\n",
      " 3.00153354e-01 2.00000000e-04 5.14968557e-02 7.99904608e-04]\n",
      "[9.88497978e-02 9.99984611e-02 1.48125087e-01 2.99798994e-01\n",
      " 3.00152972e-01 2.00000000e-04 5.18746937e-02 5.99995193e-04\n",
      " 3.99999808e-04]\n",
      "[9.88502760e-02 9.99984621e-02 1.48125473e-01 2.99798994e-01\n",
      " 2.99752492e-01 2.00000000e-04 5.18743079e-02 5.99995193e-04\n",
      " 3.99999808e-04 3.99999569e-04]\n"
     ]
    }
   ],
   "source": [
    "X = np.loadtxt(open(\"gmm_dataset.csv\", \"rb\"), delimiter=\",\")\n",
    "\n",
    "K = 10\n",
    "pis, mus, Ss, losses = [[None for _ in range(K)] for _ in range(4)]\n",
    "for k in range(10):\n",
    "    pi, mu, S, loss = GMM(X, k+1)\n",
    "    pis[k] = pi\n",
    "    mus[k] = mu\n",
    "    Ss[k] = S\n",
    "    losses[k] = [ val for val in loss if val > 0.0]\n",
    "    print(pi)\n"
   ]
  },
  {
   "cell_type": "code",
   "execution_count": 44,
   "metadata": {},
   "outputs": [
    {
     "name": "stdout",
     "output_type": "stream",
     "text": [
      "69939.42104205661\n",
      "58105.141162558255\n",
      "51670.14515830016\n",
      "41554.08327275577\n",
      "34512.132311872665\n",
      "34354.02638227194\n",
      "34313.23906612599\n",
      "34280.77315290888\n",
      "34236.87015535322\n",
      "34210.192847969694\n"
     ]
    }
   ],
   "source": [
    "for loss in losses:\n",
    "    print(loss[-1])"
   ]
  },
  {
   "cell_type": "code",
   "execution_count": 45,
   "metadata": {},
   "outputs": [],
   "source": [
    "transform = transforms.Compose([transforms.ToTensor()])\n"
   ]
  },
  {
   "cell_type": "code",
   "execution_count": 39,
   "metadata": {},
   "outputs": [
    {
     "name": "stdout",
     "output_type": "stream",
     "text": [
      "train for class 0\n"
     ]
    },
    {
     "name": "stderr",
     "output_type": "stream",
     "text": [
      "  0%|          | 0/50 [00:00<?, ?it/s]C:\\Users\\KandaMaya\\AppData\\Local\\Temp\\ipykernel_29300\\2954318198.py:14: RuntimeWarning: invalid value encountered in true_divide\n",
      "  r = r / r_total[:,None]\n",
      " 30%|███       | 15/50 [00:01<00:04,  8.17it/s]\n"
     ]
    },
    {
     "ename": "KeyboardInterrupt",
     "evalue": "",
     "output_type": "error",
     "traceback": [
      "\u001b[1;31m---------------------------------------------------------------------------\u001b[0m",
      "\u001b[1;31mKeyboardInterrupt\u001b[0m                         Traceback (most recent call last)",
      "\u001b[1;32mc:\\Users\\KandaMaya\\Documents\\University\\4A\\CS480\\A4\\q1.ipynb Cell 8\u001b[0m in \u001b[0;36m<cell line: 3>\u001b[1;34m()\u001b[0m\n\u001b[0;32m     <a href='vscode-notebook-cell:/c%3A/Users/KandaMaya/Documents/University/4A/CS480/A4/q1.ipynb#ch0000007?line=10'>11</a>\u001b[0m N, d1, d2 \u001b[39m=\u001b[39m np_X\u001b[39m.\u001b[39mshape\n\u001b[0;32m     <a href='vscode-notebook-cell:/c%3A/Users/KandaMaya/Documents/University/4A/CS480/A4/q1.ipynb#ch0000007?line=11'>12</a>\u001b[0m X \u001b[39m=\u001b[39m np_X\u001b[39m.\u001b[39mreshape(N, d1\u001b[39m*\u001b[39md2)\n\u001b[1;32m---> <a href='vscode-notebook-cell:/c%3A/Users/KandaMaya/Documents/University/4A/CS480/A4/q1.ipynb#ch0000007?line=12'>13</a>\u001b[0m pi, mu, S, loss \u001b[39m=\u001b[39m GMM(X, \u001b[39m5\u001b[39;49m)\n\u001b[0;32m     <a href='vscode-notebook-cell:/c%3A/Users/KandaMaya/Documents/University/4A/CS480/A4/q1.ipynb#ch0000007?line=13'>14</a>\u001b[0m pis[k] \u001b[39m=\u001b[39m pi\n\u001b[0;32m     <a href='vscode-notebook-cell:/c%3A/Users/KandaMaya/Documents/University/4A/CS480/A4/q1.ipynb#ch0000007?line=14'>15</a>\u001b[0m mus[k] \u001b[39m=\u001b[39m mu\n",
      "\u001b[1;32mc:\\Users\\KandaMaya\\Documents\\University\\4A\\CS480\\A4\\q1.ipynb Cell 8\u001b[0m in \u001b[0;36mGMM\u001b[1;34m(X, K_RANGE)\u001b[0m\n\u001b[0;32m      <a href='vscode-notebook-cell:/c%3A/Users/KandaMaya/Documents/University/4A/CS480/A4/q1.ipynb#ch0000007?line=6'>7</a>\u001b[0m \u001b[39mfor\u001b[39;00m \u001b[39miter\u001b[39m \u001b[39min\u001b[39;00m tqdm(\u001b[39mrange\u001b[39m(MAX_ITER), total\u001b[39m=\u001b[39mMAX_ITER):\n\u001b[0;32m      <a href='vscode-notebook-cell:/c%3A/Users/KandaMaya/Documents/University/4A/CS480/A4/q1.ipynb#ch0000007?line=7'>8</a>\u001b[0m     \u001b[39mfor\u001b[39;00m k \u001b[39min\u001b[39;00m \u001b[39mrange\u001b[39m(K_RANGE):\n\u001b[1;32m----> <a href='vscode-notebook-cell:/c%3A/Users/KandaMaya/Documents/University/4A/CS480/A4/q1.ipynb#ch0000007?line=8'>9</a>\u001b[0m         exp_power \u001b[39m=\u001b[39m np\u001b[39m.\u001b[39;49mdot((X\u001b[39m-\u001b[39;49mmu[k]) \u001b[39m*\u001b[39;49m\u001b[39m*\u001b[39;49m \u001b[39m2\u001b[39;49m, \u001b[39m1\u001b[39;49m\u001b[39m/\u001b[39;49mS[k]) \u001b[39m*\u001b[39m (\u001b[39m-\u001b[39m\u001b[39m1\u001b[39m\u001b[39m/\u001b[39m\u001b[39m2\u001b[39m)\n\u001b[0;32m     <a href='vscode-notebook-cell:/c%3A/Users/KandaMaya/Documents/University/4A/CS480/A4/q1.ipynb#ch0000007?line=9'>10</a>\u001b[0m         \u001b[39m# if iter==2:\u001b[39;00m\n\u001b[0;32m     <a href='vscode-notebook-cell:/c%3A/Users/KandaMaya/Documents/University/4A/CS480/A4/q1.ipynb#ch0000007?line=10'>11</a>\u001b[0m             \u001b[39m# print(pi[k] * np.power(np.prod(S[k]), -1/2) * np.exp(exp_power))\u001b[39;00m\n\u001b[0;32m     <a href='vscode-notebook-cell:/c%3A/Users/KandaMaya/Documents/University/4A/CS480/A4/q1.ipynb#ch0000007?line=11'>12</a>\u001b[0m         r[:,k] \u001b[39m=\u001b[39m pi[k] \u001b[39m*\u001b[39m np\u001b[39m.\u001b[39mpower(np\u001b[39m.\u001b[39mprod(S[k]), \u001b[39m-\u001b[39m\u001b[39m1\u001b[39m\u001b[39m/\u001b[39m\u001b[39m2\u001b[39m) \u001b[39m*\u001b[39m np\u001b[39m.\u001b[39mexp(exp_power)\n",
      "File \u001b[1;32m<__array_function__ internals>:180\u001b[0m, in \u001b[0;36mdot\u001b[1;34m(*args, **kwargs)\u001b[0m\n",
      "\u001b[1;31mKeyboardInterrupt\u001b[0m: "
     ]
    }
   ],
   "source": [
    "pis, mus, Ss, losses = [[None for _ in range(10)] for _ in range(4)]\n",
    "\n",
    "for identify_cls in range(10):\n",
    "    print(\"train for class {}\".format(identify_cls))\n",
    "    data_train = datasets.MNIST(root = \"./data/\",\n",
    "                            transform=transform,\n",
    "                            train = True,\n",
    "                            download = True)\n",
    "    idx = data_train.targets == identify_cls\n",
    "    np_X = data_train.data[idx].numpy()\n",
    "    N, d1, d2 = np_X.shape\n",
    "    X = np_X.reshape(N, d1*d2)\n",
    "    pi, mu, S, loss = GMM(X, 5)\n",
    "    pis[k] = pi\n",
    "    mus[k] = mu\n",
    "    Ss[k] = S\n",
    "    losses[k] = [ val for val in loss if val > 0.0]"
   ]
  },
  {
   "cell_type": "code",
   "execution_count": 48,
   "metadata": {},
   "outputs": [
    {
     "name": "stderr",
     "output_type": "stream",
     "text": [
      "C:\\Users\\KandaMaya\\AppData\\Local\\Temp\\ipykernel_2384\\557739713.py:14: RuntimeWarning: invalid value encountered in log\n",
      "  log_r[:,k] = np.log(pi[k]) - 0.5 * np.sum(np.log(S[k])) - 0.5 * np.dot((X-mu[k]) ** 2, 1/S[k])\n"
     ]
    },
    {
     "name": "stdout",
     "output_type": "stream",
     "text": [
      "[nan nan nan nan nan]\n",
      "[[nan nan nan ... nan nan nan]\n",
      " [nan nan nan ... nan nan nan]\n",
      " [nan nan nan ... nan nan nan]\n",
      " [nan nan nan ... nan nan nan]\n",
      " [nan nan nan ... nan nan nan]]\n",
      "[[nan nan nan ... nan nan nan]\n",
      " [nan nan nan ... nan nan nan]\n",
      " [nan nan nan ... nan nan nan]\n",
      " [nan nan nan ... nan nan nan]\n",
      " [nan nan nan ... nan nan nan]]\n",
      "[24574538708.09118, nan, nan, nan, nan, nan, nan, nan, nan, nan, nan, nan, nan, nan, nan, nan, nan, nan, nan, nan, nan, nan, nan, nan, nan, nan, nan, nan, nan, nan, nan, nan, nan, nan, nan, nan, nan, nan, nan, nan, nan, nan, nan, nan, nan, nan, nan, nan, nan, nan]\n"
     ]
    }
   ],
   "source": [
    "\n",
    "data_train = datasets.MNIST(root = \"./data/\",\n",
    "                        transform=transform,\n",
    "                        train = True,\n",
    "                        download = True)\n",
    "idx = data_train.targets == 0\n",
    "np_X = data_train.data[idx].numpy()\n",
    "N, d1, d2 = np_X.shape\n",
    "X = np_X.reshape(N, d1*d2)\n",
    "pi, mu, S, loss = GMM(X, 5)\n",
    "print(pi)\n",
    "print(mu)\n",
    "print(S)\n",
    "print(loss)"
   ]
  },
  {
   "cell_type": "code",
   "execution_count": 37,
   "metadata": {},
   "outputs": [
    {
     "name": "stdout",
     "output_type": "stream",
     "text": [
      "[5.5 6.5 7.5]\n",
      "[[-4.5 -4.5 -4.5]\n",
      " [-1.5 -1.5 -1.5]\n",
      " [ 1.5  1.5  1.5]\n",
      " [ 4.5  4.5  4.5]]\n"
     ]
    },
    {
     "data": {
      "text/plain": [
       "array([45., 45., 45.])"
      ]
     },
     "execution_count": 37,
     "metadata": {},
     "output_type": "execute_result"
    }
   ],
   "source": [
    "X = np.array([[1,2,3],[4,5,6],[7,8,9],[10,11,12]])\n",
    "mu = np.mean(X, axis=0)\n",
    "print(mu)\n",
    "print(X-mu)\n",
    "np.sum((X - mu) ** 2, axis=0)"
   ]
  },
  {
   "cell_type": "code",
   "execution_count": 38,
   "metadata": {},
   "outputs": [
    {
     "data": {
      "text/plain": [
       "array([[ 6.5,  8.5, 10.5],\n",
       "       [ 9.5, 11.5, 13.5],\n",
       "       [12.5, 14.5, 16.5],\n",
       "       [15.5, 17.5, 19.5]])"
      ]
     },
     "execution_count": 38,
     "metadata": {},
     "output_type": "execute_result"
    }
   ],
   "source": [
    "X + mu"
   ]
  },
  {
   "cell_type": "code",
   "execution_count": null,
   "metadata": {},
   "outputs": [],
   "source": []
  }
 ],
 "metadata": {
  "kernelspec": {
   "display_name": "Python 3.10.4 64-bit",
   "language": "python",
   "name": "python3"
  },
  "language_info": {
   "codemirror_mode": {
    "name": "ipython",
    "version": 3
   },
   "file_extension": ".py",
   "mimetype": "text/x-python",
   "name": "python",
   "nbconvert_exporter": "python",
   "pygments_lexer": "ipython3",
   "version": "3.10.4"
  },
  "orig_nbformat": 4,
  "vscode": {
   "interpreter": {
    "hash": "1f8e04c1004ae0e48c4c128aee02bb34a41f967cffe60616a1dbeccdbed98bf0"
   }
  }
 },
 "nbformat": 4,
 "nbformat_minor": 2
}
