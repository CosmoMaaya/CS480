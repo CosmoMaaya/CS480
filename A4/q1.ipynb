{
 "cells": [
  {
   "cell_type": "code",
   "execution_count": 302,
   "metadata": {},
   "outputs": [],
   "source": [
    "import torchvision\n",
    "import torch\n",
    "from torchvision import datasets, transforms\n",
    "import numpy as np\n",
    "\n",
    "MAX_ITER = 500\n",
    "EPSILON = 1e-10\n",
    "TOLERANCE = 1e-5"
   ]
  },
  {
   "cell_type": "code",
   "execution_count": 260,
   "metadata": {},
   "outputs": [],
   "source": [
    "def initializeModel(K, d):\n",
    "    np.random.seed(0)\n",
    "    pi = np.random.rand(K)\n",
    "    pi = pi / np.sum(pi)\n",
    "\n",
    "    np.random.seed(0)\n",
    "    mu = np.random.normal(0, 3, size=(K, d))\n",
    "\n",
    "    np.random.seed(0)\n",
    "    S = np.random.rand(K, d) + 0.5\n",
    "\n",
    "    return pi, mu, S\n",
    "\n"
   ]
  },
  {
   "cell_type": "code",
   "execution_count": 261,
   "metadata": {},
   "outputs": [
    {
     "name": "stdout",
     "output_type": "stream",
     "text": [
      "(array([0.2275677 , 0.29655611, 0.24993822, 0.22593797]), array([[ 5.29215704,  1.20047163,  2.93621395],\n",
      "       [ 6.7226796 ,  5.60267397, -2.93183364],\n",
      "       [ 2.85026525, -0.45407162, -0.30965656],\n",
      "       [ 1.23179551,  0.43213071,  4.36282052]]), array([[1.0488135 , 1.21518937, 1.10276338],\n",
      "       [1.04488318, 0.9236548 , 1.14589411],\n",
      "       [0.93758721, 1.391773  , 1.46366276],\n",
      "       [0.88344152, 1.29172504, 1.02889492]]))\n"
     ]
    }
   ],
   "source": [
    "print(initializeModel(4, 3))\n",
    "a, b, c = initializeModel(4,3)"
   ]
  },
  {
   "cell_type": "code",
   "execution_count": 298,
   "metadata": {},
   "outputs": [],
   "source": [
    "def GMM(X, K_RANGE):\n",
    "    N, d = X.shape\n",
    "    pi, mu, S = initializeModel(K_RANGE, d)\n",
    "    r = np.zeros((N, K_RANGE))\n",
    "    loss = [0.0] * MAX_ITER\n",
    "\n",
    "    for iter in range(MAX_ITER):\n",
    "        for k in range(K_RANGE):\n",
    "            exp_power = np.dot((X-mu[k]) ** 2, 1/S[k]) * (-1/2)\n",
    "            # if iter==2:\n",
    "                # print(pi[k] * np.power(np.prod(S[k]), -1/2) * np.exp(exp_power))\n",
    "            r[:,k] = pi[k] * np.power(np.prod(S[k]), -1/2) * np.exp(exp_power)\n",
    "        r_total = np.sum(r, axis=1)\n",
    "        r = r / r_total[:,None]\n",
    "        loss[iter] = -np.sum(np.log(r_total + EPSILON))\n",
    "\n",
    "        if iter > 1 and abs(loss[iter] - loss[iter-1]) <= TOLERANCE * abs(loss[iter]):\n",
    "            break\n",
    "        \n",
    "        r_total_i_wise = np.sum(r, axis=0)\n",
    "        pi = r_total_i_wise / N\n",
    "        mu = np.dot(r.T, X) / r_total_i_wise[:,None]\n",
    "        S = np.dot(r.T, X ** 2) / r_total_i_wise[:,None] - mu ** 2 + EPSILON\n",
    "\n",
    "    return pi, mu, S, loss"
   ]
  },
  {
   "cell_type": "code",
   "execution_count": 311,
   "metadata": {},
   "outputs": [],
   "source": [
    "X = np.loadtxt(open(\"gmm_dataset.csv\", \"rb\"), delimiter=\",\")\n",
    "\n",
    "K = 10\n",
    "pis, mus, Ss, losses = [[None for _ in range(K)] for _ in range(4)]\n",
    "for k in range(10):\n",
    "    pi, mu, S, loss = GMM(X, k)\n",
    "    pis[k] = pi\n",
    "    mus[k] = mu\n",
    "    Ss[k] = S\n",
    "    losses[k] = [ val for val in loss if val > 0.0]\n"
   ]
  },
  {
   "cell_type": "code",
   "execution_count": 314,
   "metadata": {},
   "outputs": [
    {
     "name": "stdout",
     "output_type": "stream",
     "text": [
      "115129.25464970224\n",
      "69690.09745993733\n",
      "57911.14954814103\n",
      "51217.83275597244\n",
      "41200.11275456188\n",
      "34501.16250346653\n",
      "34267.03191816248\n",
      "34226.913473276094\n",
      "34194.12075254171\n",
      "34157.41194223416\n"
     ]
    }
   ],
   "source": [
    "for loss in losses:\n",
    "    print(loss[-1])"
   ]
  },
  {
   "cell_type": "code",
   "execution_count": 316,
   "metadata": {},
   "outputs": [],
   "source": [
    "transform = transforms.Compose([transforms.ToTensor()])\n",
    "data_train = datasets.MNIST(root = \"./data/\",\n",
    "                            transform=transform,\n",
    "                            train = True,\n",
    "                            download = True)\n",
    "data_loader_train = torch.utils.data.DataLoader(dataset=data_train,\n",
    "                                                batch_size = 64,\n",
    "                                                shuffle = True)\n",
    "dataset = data_loader_train.dataset"
   ]
  },
  {
   "cell_type": "code",
   "execution_count": 317,
   "metadata": {},
   "outputs": [
    {
     "name": "stderr",
     "output_type": "stream",
     "text": [
      "/usr/local/lib/python3.9/site-packages/torchvision/datasets/mnist.py:65: UserWarning: train_labels has been renamed targets\n",
      "  warnings.warn(\"train_labels has been renamed targets\")\n"
     ]
    },
    {
     "data": {
      "text/plain": [
       "tensor([5, 0, 4,  ..., 5, 6, 8])"
      ]
     },
     "execution_count": 317,
     "metadata": {},
     "output_type": "execute_result"
    }
   ],
   "source": [
    "for identify_cls in range(10):\n",
    "    "
   ]
  },
  {
   "cell_type": "code",
   "execution_count": null,
   "metadata": {},
   "outputs": [],
   "source": []
  }
 ],
 "metadata": {
  "interpreter": {
   "hash": "aee8b7b246df8f9039afb4144a1f6fd8d2ca17a180786b69acc140d282b71a49"
  },
  "kernelspec": {
   "display_name": "Python 3.9.7 64-bit",
   "language": "python",
   "name": "python3"
  },
  "language_info": {
   "codemirror_mode": {
    "name": "ipython",
    "version": 3
   },
   "file_extension": ".py",
   "mimetype": "text/x-python",
   "name": "python",
   "nbconvert_exporter": "python",
   "pygments_lexer": "ipython3",
   "version": "3.9.7"
  },
  "orig_nbformat": 4
 },
 "nbformat": 4,
 "nbformat_minor": 2
}
