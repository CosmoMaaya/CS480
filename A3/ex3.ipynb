{
 "cells": [
  {
   "cell_type": "code",
   "execution_count": 1,
   "metadata": {},
   "outputs": [
    {
     "name": "stderr",
     "output_type": "stream",
     "text": [
      "c:\\Users\\KandaMaya\\AppData\\Local\\Programs\\Python\\Python310\\lib\\site-packages\\tqdm\\auto.py:22: TqdmWarning: IProgress not found. Please update jupyter and ipywidgets. See https://ipywidgets.readthedocs.io/en/stable/user_install.html\n",
      "  from .autonotebook import tqdm as notebook_tqdm\n"
     ]
    }
   ],
   "source": [
    "import torch\n",
    "from torch import nn\n",
    "import math\n",
    "\n",
    "import torchvision\n",
    "import torchvision.transforms as transforms\n",
    "import matplotlib.pyplot as plt\n",
    "import matplotlib\n",
    "import torch.optim as optim\n",
    "from tqdm import tqdm"
   ]
  },
  {
   "cell_type": "code",
   "execution_count": 2,
   "metadata": {},
   "outputs": [],
   "source": [
    "class VGG11(nn.Module):\n",
    "    def __init__(self):\n",
    "        super(VGG11, self).__init__()\n",
    "        # convolutional layers\n",
    "        self.conv_layers = nn.Sequential(\n",
    "            nn.Conv2d(1, 64, 3, 1, 1),\n",
    "            nn.BatchNorm2d(64),\n",
    "            nn.ReLU(),\n",
    "            nn.MaxPool2d(2, 2),\n",
    "\n",
    "            nn.Conv2d(64, 128, 3, 1, 1),\n",
    "            nn.BatchNorm2d(128),\n",
    "            nn.ReLU(),\n",
    "            nn.MaxPool2d(2, 2),\n",
    "\n",
    "            nn.Conv2d(128, 256, 3, 1, 1),\n",
    "            nn.BatchNorm2d(256),\n",
    "            nn.ReLU(),\n",
    "\n",
    "            nn.Conv2d(256, 256, 3, 1, 1),\n",
    "            nn.BatchNorm2d(256),\n",
    "            nn.ReLU(),\n",
    "            nn.MaxPool2d(2, 2),\n",
    "\n",
    "            nn.Conv2d(256, 512, 3, 1, 1),\n",
    "            nn.BatchNorm2d(512),\n",
    "            nn.ReLU(),\n",
    "\n",
    "            nn.Conv2d(512, 512, 3, 1, 1),\n",
    "            nn.BatchNorm2d(512),\n",
    "            nn.ReLU(),\n",
    "            nn.MaxPool2d(2, 2),\n",
    "\n",
    "            nn.Conv2d(512, 512, 3, 1, 1),\n",
    "            nn.BatchNorm2d(512),\n",
    "            nn.ReLU(),\n",
    "\n",
    "            nn.Conv2d(512, 512, 3, 1, 1),\n",
    "            nn.BatchNorm2d(512),\n",
    "            nn.ReLU(),\n",
    "            nn.MaxPool2d(2, 2),\n",
    "        )\n",
    "\n",
    "        self.linear_layers = nn.Sequential(\n",
    "            nn.Linear(512, 4096),\n",
    "            nn.ReLU(),\n",
    "            nn.Dropout(0.5),\n",
    "            nn.Linear(4096, 4096),\n",
    "            nn.ReLU(),\n",
    "            nn.Dropout(0.5),\n",
    "            nn.Linear(4096, 10)\n",
    "        )\n",
    "    def forward(self, x):\n",
    "        x = self.conv_layers(x)\n",
    "        # flatten for FC\n",
    "        x = x.view(x.size(0), -1)\n",
    "        x = self.linear_layers(x)\n",
    "        return x"
   ]
  },
  {
   "cell_type": "code",
   "execution_count": 3,
   "metadata": {},
   "outputs": [],
   "source": [
    "def train(model, trainloader, optimizer, loss_func):\n",
    "    loss_func = nn.CrossEntropyLoss()\n",
    "    model.train()\n",
    "    train_running_loss = 0.0\n",
    "    train_running_correct = 0\n",
    "    # For every batch\n",
    "    for i, data in tqdm(enumerate(trainloader), total=len(trainloader)):\n",
    "        image, labels = data\n",
    "        image = image.to(device)\n",
    "        labels = labels.to(device)\n",
    "\n",
    "        optimizer.zero_grad()\n",
    "        outputs = model(image)\n",
    "        loss = loss_func(outputs, labels)\n",
    "        train_running_loss += loss.item()\n",
    "        _, preds = torch.max(outputs.data, 1)\n",
    "        train_running_correct += (preds == labels).sum().item()\n",
    "        loss.backward()\n",
    "        optimizer.step()\n",
    "    \n",
    "    epoch_loss = train_running_loss / len(trainloader)\n",
    "    epoch_acc = (train_running_correct / len(trainloader.dataset))\n",
    "    return epoch_loss, epoch_acc"
   ]
  },
  {
   "cell_type": "code",
   "execution_count": 4,
   "metadata": {},
   "outputs": [],
   "source": [
    "def test(model, testloader, loss_func):\n",
    "    loss_func = nn.CrossEntropyLoss()\n",
    "    model.eval()\n",
    "\n",
    "    class_correct = [0.] * 10\n",
    "    class_total = [0.] * 10\n",
    "\n",
    "    test_running_loss = 0.0\n",
    "    test_running_correct = 0\n",
    "    with torch.no_grad():\n",
    "        for i, data in tqdm(enumerate(testloader), total=len(testloader)):\n",
    "            image, labels = data\n",
    "            image = image.to(device)\n",
    "            labels = labels.to(device)\n",
    "\n",
    "            outputs = model(image)\n",
    "            loss = loss_func(outputs, labels)\n",
    "            test_running_loss += loss.item()\n",
    "            _, preds = torch.max(outputs.data, 1)\n",
    "            test_running_correct += (preds == labels).sum().item()\n",
    "\n",
    "    epoch_loss = test_running_loss / len(testloader)\n",
    "    epoch_acc = (test_running_correct / len(testloader.dataset))\n",
    "    return epoch_loss, epoch_acc"
   ]
  },
  {
   "cell_type": "code",
   "execution_count": 5,
   "metadata": {},
   "outputs": [],
   "source": [
    "matplotlib.style.use('ggplot')\n",
    "device = torch.device('cuda' if torch.cuda.is_available() else 'cpu')\n",
    "download_data = True\n",
    "# device = torch.device('cpu')\n",
    "epochs = 5\n",
    "batch_size = 32\n",
    "\n",
    "transform = transforms.Compose(\n",
    "    [transforms.Resize((32, 32)),\n",
    "     transforms.ToTensor()])\n",
    "\n",
    "# dataset and data loader\n",
    "train_dataset = torchvision.datasets.MNIST(root='./data', train=True, download=download_data, transform=transform)\n",
    "train_dataloader = torch.utils.data.DataLoader(train_dataset, batch_size=batch_size, shuffle=True)\n",
    "\n",
    "test_dataset = torchvision.datasets.MNIST(root='./data', train=False, download=download_data, transform=transform)\n",
    "test_dataloader = torch.utils.data.DataLoader(test_dataset,  batch_size=batch_size, shuffle=False)\n",
    "                                             "
   ]
  },
  {
   "cell_type": "code",
   "execution_count": 6,
   "metadata": {},
   "outputs": [],
   "source": [
    "def epoch_train(train_dataloader_, test_dataloader_):\n",
    "    loss_func = nn.CrossEntropyLoss()\n",
    "    model = VGG11().to(device)\n",
    "    optimizer = optim.SGD(model.parameters(), lr=0.01, momentum = 0.9, weight_decay=0.0005)\n",
    "    train_loss, test_loss = [], []\n",
    "    train_acc, test_acc = [], []\n",
    "    for epoch in range(epochs):\n",
    "        print(f\"[INFO]: Epoch {epoch+1} of {epochs}\")\n",
    "        train_epoch_loss, train_epoch_acc = train(model, train_dataloader_, \n",
    "                                                optimizer, loss_func)\n",
    "        test_epoch_loss, test_epoch_acc = test(model, test_dataloader_,  \n",
    "                                                    loss_func)\n",
    "        train_loss.append(train_epoch_loss)\n",
    "        test_loss.append(test_epoch_loss)\n",
    "        train_acc.append(train_epoch_acc)\n",
    "        test_acc.append(test_epoch_acc)\n",
    "        print('\\n')\n",
    "        print(f\"Training loss: {train_epoch_loss:.3f}, training acc: {train_epoch_acc:.3f}\")\n",
    "        print(f\"Test loss: {test_epoch_loss:.3f}, test acc: {test_epoch_acc:.3f}\")\n",
    "        print('-'*50)\n",
    "    return model, train_loss, test_loss, train_acc, test_acc"
   ]
  },
  {
   "cell_type": "code",
   "execution_count": 7,
   "metadata": {},
   "outputs": [
    {
     "name": "stdout",
     "output_type": "stream",
     "text": [
      "[INFO]: Epoch 1 of 5\n"
     ]
    },
    {
     "name": "stderr",
     "output_type": "stream",
     "text": [
      "100%|██████████| 1875/1875 [00:22<00:00, 84.57it/s] \n",
      "100%|██████████| 313/313 [00:01<00:00, 213.90it/s]\n"
     ]
    },
    {
     "name": "stdout",
     "output_type": "stream",
     "text": [
      "\n",
      "\n",
      "Training loss: 0.141, training acc: 0.959\n",
      "Test loss: 0.039, test acc: 0.988\n",
      "--------------------------------------------------\n",
      "[INFO]: Epoch 2 of 5\n"
     ]
    },
    {
     "name": "stderr",
     "output_type": "stream",
     "text": [
      "100%|██████████| 1875/1875 [00:15<00:00, 119.38it/s]\n",
      "100%|██████████| 313/313 [00:01<00:00, 228.92it/s]\n"
     ]
    },
    {
     "name": "stdout",
     "output_type": "stream",
     "text": [
      "\n",
      "\n",
      "Training loss: 0.047, training acc: 0.987\n",
      "Test loss: 0.039, test acc: 0.989\n",
      "--------------------------------------------------\n",
      "[INFO]: Epoch 3 of 5\n"
     ]
    },
    {
     "name": "stderr",
     "output_type": "stream",
     "text": [
      "100%|██████████| 1875/1875 [00:15<00:00, 124.45it/s]\n",
      "100%|██████████| 313/313 [00:01<00:00, 223.68it/s]\n"
     ]
    },
    {
     "name": "stdout",
     "output_type": "stream",
     "text": [
      "\n",
      "\n",
      "Training loss: 0.036, training acc: 0.990\n",
      "Test loss: 0.031, test acc: 0.991\n",
      "--------------------------------------------------\n",
      "[INFO]: Epoch 4 of 5\n"
     ]
    },
    {
     "name": "stderr",
     "output_type": "stream",
     "text": [
      "100%|██████████| 1875/1875 [00:15<00:00, 124.23it/s]\n",
      "100%|██████████| 313/313 [00:01<00:00, 223.36it/s]\n"
     ]
    },
    {
     "name": "stdout",
     "output_type": "stream",
     "text": [
      "\n",
      "\n",
      "Training loss: 0.028, training acc: 0.992\n",
      "Test loss: 0.044, test acc: 0.987\n",
      "--------------------------------------------------\n",
      "[INFO]: Epoch 5 of 5\n"
     ]
    },
    {
     "name": "stderr",
     "output_type": "stream",
     "text": [
      "100%|██████████| 1875/1875 [00:14<00:00, 125.46it/s]\n",
      "100%|██████████| 313/313 [00:01<00:00, 223.69it/s]"
     ]
    },
    {
     "name": "stdout",
     "output_type": "stream",
     "text": [
      "\n",
      "\n",
      "Training loss: 0.027, training acc: 0.992\n",
      "Test loss: 0.021, test acc: 0.994\n",
      "--------------------------------------------------\n"
     ]
    },
    {
     "name": "stderr",
     "output_type": "stream",
     "text": [
      "\n"
     ]
    }
   ],
   "source": [
    "model, train_loss, test_loss, train_acc, test_acc = epoch_train(train_dataloader, test_dataloader)"
   ]
  },
  {
   "cell_type": "code",
   "execution_count": 8,
   "metadata": {},
   "outputs": [
    {
     "data": {
      "text/plain": [
       "[]"
      ]
     },
     "execution_count": 8,
     "metadata": {},
     "output_type": "execute_result"
    },
    {
     "data": {
      "image/png": "[encoded data removed]",
      "text/plain": [
       "<Figure size 432x288 with 1 Axes>"
      ]
     },
     "metadata": {},
     "output_type": "display_data"
    }
   ],
   "source": [
    "# Draw Graphs:\n",
    "plt.figure(facecolor='white')\n",
    "plt.xlabel(\"Epoch\")\n",
    "plt.ylabel(\"Accuracy\")\n",
    "plt.plot(range(epochs), test_acc, marker='o')\n",
    "plt.title(f\"Test Accuracy VS The Number of Epochs\")\n",
    "plt.savefig(f\"Test Accuracy VS The Number of Epochs\")\n",
    "plt.plot()"
   ]
  },
  {
   "cell_type": "code",
   "execution_count": 9,
   "metadata": {},
   "outputs": [
    {
     "data": {
      "text/plain": [
       "[]"
      ]
     },
     "execution_count": 9,
     "metadata": {},
     "output_type": "execute_result"
    },
    {
     "data": {
      "image/png": "[encoded data removed]",
      "text/plain": [
       "<Figure size 432x288 with 1 Axes>"
      ]
     },
     "metadata": {},
     "output_type": "display_data"
    }
   ],
   "source": [
    "plt.figure(facecolor='white')\n",
    "plt.xlabel(\"Epoch\")\n",
    "plt.ylabel(\"Accuracy\")\n",
    "plt.plot(range(epochs), train_acc, marker='o')\n",
    "plt.title(\"Train Accuracy VS The Number of Epochs\")\n",
    "plt.savefig(\"Train Accuracy VS The Number of Epochs\")\n",
    "plt.plot()"
   ]
  },
  {
   "cell_type": "code",
   "execution_count": 10,
   "metadata": {},
   "outputs": [
    {
     "data": {
      "text/plain": [
       "[]"
      ]
     },
     "execution_count": 10,
     "metadata": {},
     "output_type": "execute_result"
    },
    {
     "data": {
      "image/png": "[encoded data removed]",
      "text/plain": [
       "<Figure size 432x288 with 1 Axes>"
      ]
     },
     "metadata": {},
     "output_type": "display_data"
    }
   ],
   "source": [
    "plt.figure(facecolor='white')\n",
    "plt.xlabel(\"Epoch\")\n",
    "plt.ylabel(\"Loss\")\n",
    "plt.plot(range(epochs), test_loss, marker='o')\n",
    "plt.title(f\"Test Loss VS The Number of Epochs\")\n",
    "plt.savefig(f\"Test Loss VS The Number of Epochs\")\n",
    "plt.plot()"
   ]
  },
  {
   "cell_type": "code",
   "execution_count": 11,
   "metadata": {},
   "outputs": [
    {
     "data": {
      "text/plain": [
       "[]"
      ]
     },
     "execution_count": 11,
     "metadata": {},
     "output_type": "execute_result"
    },
    {
     "data": {
      "image/png": "[encoded data removed]",
      "text/plain": [
       "<Figure size 432x288 with 1 Axes>"
      ]
     },
     "metadata": {},
     "output_type": "display_data"
    }
   ],
   "source": [
    "plt.figure(facecolor='white')\n",
    "plt.xlabel(\"Epoch\")\n",
    "plt.ylabel(\"Loss\")\n",
    "plt.plot(range(epochs), train_loss, marker='o')\n",
    "plt.title(f\"Train Loss VS The Number of Epochs\")\n",
    "plt.savefig(f\"Train Loss VS The Number of Epochs\")\n",
    "plt.plot()"
   ]
  },
  {
   "cell_type": "code",
   "execution_count": 12,
   "metadata": {},
   "outputs": [],
   "source": [
    "def test_flip(_model):\n",
    "    loss_func = nn.CrossEntropyLoss()\n",
    "    lr_flip_transform = transforms.Compose(\n",
    "        [transforms.Resize((32, 32)),\n",
    "        transforms.RandomHorizontalFlip(p=1),\n",
    "        transforms.ToTensor()])\n",
    "\n",
    "    td_flip_transform = transforms.Compose(\n",
    "        [transforms.Resize((32, 32)),\n",
    "        transforms.RandomVerticalFlip(p=1),\n",
    "        transforms.ToTensor()])\n",
    "        \n",
    "    lr_flip_dataset = torchvision.datasets.MNIST(root='./data', train=False, download=download_data, transform=lr_flip_transform)\n",
    "    lr_flip_dataloader = torch.utils.data.DataLoader(lr_flip_dataset, batch_size=batch_size, shuffle=False)\n",
    "\n",
    "    td_flip_dataset = torchvision.datasets.MNIST(root='./data', train=False, download=download_data, transform=td_flip_transform)\n",
    "    td_flip_dataloader = torch.utils.data.DataLoader(td_flip_dataset, batch_size=batch_size, shuffle=False)\n",
    "\n",
    "    lr_flip_loss, lr_flip_acc = test(_model, lr_flip_dataloader, loss_func)\n",
    "    td_flip_loss, td_flip_acc = test(_model, td_flip_dataloader, loss_func)\n",
    "    print(f\"Horizontal flip loss: {lr_flip_loss}, Accuracy: {100. * lr_flip_acc}%\")\n",
    "    print(f\"Vertical flip loss: {td_flip_loss}, Accuracy: {100. * td_flip_acc}%\")"
   ]
  },
  {
   "cell_type": "code",
   "execution_count": 13,
   "metadata": {},
   "outputs": [],
   "source": [
    "def test_noise(_model):\n",
    "    loss_func = nn.CrossEntropyLoss()\n",
    "    for variance in [0.01, 0.1, 1]:\n",
    "        stddev = math.sqrt(variance)\n",
    "        gaussian_noise_transform = transforms.Compose(\n",
    "            [transforms.Resize((32, 32)),\n",
    "            transforms.ToTensor(),\n",
    "            transforms.Lambda(lambda x : x + stddev*torch.randn_like(x))\n",
    "            ])\n",
    "            \n",
    "        gaussian_noise_dataset = torchvision.datasets.MNIST(root='./data', train=False, download=download_data, transform=gaussian_noise_transform)\n",
    "        gaussian_noise_dataloader = torch.utils.data.DataLoader(gaussian_noise_dataset, batch_size=batch_size, shuffle=False)\n",
    "        gaussian_noise_loss, gaussian_noise_acc = test(_model, gaussian_noise_dataloader, loss_func)\n",
    "        print(f\"Gaussian noise with variance {variance} loss: {gaussian_noise_loss}, Accuracy: {100. * gaussian_noise_acc}%\")"
   ]
  },
  {
   "cell_type": "code",
   "execution_count": 14,
   "metadata": {},
   "outputs": [
    {
     "name": "stderr",
     "output_type": "stream",
     "text": [
      "100%|██████████| 313/313 [00:02<00:00, 152.50it/s]\n",
      "100%|██████████| 313/313 [00:02<00:00, 145.28it/s]\n"
     ]
    },
    {
     "name": "stdout",
     "output_type": "stream",
     "text": [
      "Horizontal flip loss: 3.9679313482948766, Accuracy: 38.84%\n",
      "Vertical flip loss: 3.777954571544172, Accuracy: 41.31%\n"
     ]
    },
    {
     "name": "stderr",
     "output_type": "stream",
     "text": [
      "100%|██████████| 313/313 [00:02<00:00, 152.50it/s]\n"
     ]
    },
    {
     "name": "stdout",
     "output_type": "stream",
     "text": [
      "Gaussian noise with variance 0.01 loss: 0.030365108773648813, Accuracy: 99.2%\n"
     ]
    },
    {
     "name": "stderr",
     "output_type": "stream",
     "text": [
      "100%|██████████| 313/313 [00:01<00:00, 161.30it/s]\n"
     ]
    },
    {
     "name": "stdout",
     "output_type": "stream",
     "text": [
      "Gaussian noise with variance 0.1 loss: 0.3227496799855187, Accuracy: 90.03999999999999%\n"
     ]
    },
    {
     "name": "stderr",
     "output_type": "stream",
     "text": [
      "100%|██████████| 313/313 [00:02<00:00, 155.92it/s]"
     ]
    },
    {
     "name": "stdout",
     "output_type": "stream",
     "text": [
      "Gaussian noise with variance 1 loss: 2.8280732026115394, Accuracy: 20.19%\n"
     ]
    },
    {
     "name": "stderr",
     "output_type": "stream",
     "text": [
      "\n"
     ]
    }
   ],
   "source": [
    "test_flip(model)\n",
    "test_noise(model)"
   ]
  },
  {
   "cell_type": "code",
   "execution_count": 15,
   "metadata": {},
   "outputs": [
    {
     "data": {
      "text/plain": [
       "<matplotlib.image.AxesImage at 0x275696909a0>"
      ]
     },
     "execution_count": 15,
     "metadata": {},
     "output_type": "execute_result"
    },
    {
     "data": {
      "image/png": "[encoded data removed]",
      "text/plain": [
       "<Figure size 432x288 with 1 Axes>"
      ]
     },
     "metadata": {
      "needs_background": "light"
     },
     "output_type": "display_data"
    }
   ],
   "source": [
    "gaussian_noise_transform = transforms.Compose(\n",
    "        [transforms.Resize((32, 32)),\n",
    "        transforms.ToTensor(),\n",
    "        transforms.Lambda(lambda x : x + math.sqrt(1)*torch.randn_like(x))\n",
    "        ])\n",
    "        \n",
    "gaussian_noise_dataset = torchvision.datasets.MNIST(root='./data', train=False, download=download_data, transform=gaussian_noise_transform)\n",
    "gaussian_noise_dataloader = torch.utils.data.DataLoader(gaussian_noise_dataset, batch_size=batch_size, shuffle=False)\n",
    "images, labels = next(iter(gaussian_noise_dataloader))\n",
    "plt.imshow(images[4].reshape(32,32), cmap=\"gray\")"
   ]
  },
  {
   "cell_type": "code",
   "execution_count": 16,
   "metadata": {},
   "outputs": [
    {
     "data": {
      "text/plain": [
       "<matplotlib.image.AxesImage at 0x275696411b0>"
      ]
     },
     "execution_count": 16,
     "metadata": {},
     "output_type": "execute_result"
    },
    {
     "data": {
      "image/png": "[encoded data removed]",
      "text/plain": [
       "<Figure size 432x288 with 1 Axes>"
      ]
     },
     "metadata": {
      "needs_background": "light"
     },
     "output_type": "display_data"
    }
   ],
   "source": [
    "gaussian_noise_transform = transforms.Compose(\n",
    "        [transforms.Resize((32, 32)),\n",
    "        transforms.ToTensor(),\n",
    "        transforms.Lambda(lambda x : x + math.sqrt(0.1)*torch.randn_like(x))\n",
    "        ])\n",
    "        \n",
    "gaussian_noise_dataset = torchvision.datasets.MNIST(root='./data', train=False, download=download_data, transform=gaussian_noise_transform)\n",
    "gaussian_noise_dataloader = torch.utils.data.DataLoader(gaussian_noise_dataset, batch_size=batch_size, shuffle=False)\n",
    "images, labels = next(iter(gaussian_noise_dataloader))\n",
    "plt.imshow(images[4].reshape(32,32), cmap=\"gray\")"
   ]
  },
  {
   "cell_type": "code",
   "execution_count": 17,
   "metadata": {},
   "outputs": [
    {
     "data": {
      "text/plain": [
       "<matplotlib.image.AxesImage at 0x2754cc89810>"
      ]
     },
     "execution_count": 17,
     "metadata": {},
     "output_type": "execute_result"
    },
    {
     "data": {
      "image/png": "[encoded data removed]",
      "text/plain": [
       "<Figure size 432x288 with 1 Axes>"
      ]
     },
     "metadata": {
      "needs_background": "light"
     },
     "output_type": "display_data"
    }
   ],
   "source": [
    "gaussian_min_noise_transform = transforms.Compose(\n",
    "        [transforms.Resize((32, 32)),\n",
    "        transforms.ToTensor(),\n",
    "        transforms.Lambda(lambda x : x + math.sqrt(0.01)*torch.randn_like(x))\n",
    "        ])\n",
    "        \n",
    "gaussian_min_noise_dataset = torchvision.datasets.MNIST(root='./data', train=False, download=download_data, transform=gaussian_min_noise_transform)\n",
    "gaussian_min_noise_dataloader = torch.utils.data.DataLoader(gaussian_min_noise_dataset, batch_size=batch_size, shuffle=False)\n",
    "images, labels = next(iter(gaussian_min_noise_dataloader))\n",
    "plt.imshow(images[4].reshape(32,32), cmap=\"gray\")"
   ]
  },
  {
   "cell_type": "code",
   "execution_count": 18,
   "metadata": {},
   "outputs": [],
   "source": [
    "aug_lr_transform = transforms.Compose(\n",
    "    [transforms.Resize((32, 32)),\n",
    "     transforms.RandomHorizontalFlip(p=0.4),\n",
    "     transforms.ToTensor(),\n",
    "     ])\n",
    "\n",
    "aug_td_transform = transforms.Compose(\n",
    "    [transforms.Resize((32, 32)),\n",
    "     transforms.RandomVerticalFlip(p=0.4),\n",
    "     transforms.ToTensor(),\n",
    "     ])\n",
    "\n",
    "gau_transform = transforms.Compose(\n",
    "    [\n",
    "     transforms.Resize((32,32)),\n",
    "     transforms.ToTensor(),\n",
    "     transforms.Lambda(lambda x : x + math.sqrt(0.1)*torch.randn_like(x)),\n",
    "    ]\n",
    ")\n",
    "\n",
    "aug_lr_dataset = torchvision.datasets.MNIST(root='./data', train=True, download=download_data, transform=aug_lr_transform)\n",
    "aug_td_dataset = torchvision.datasets.MNIST(root='./data', train=True, download=download_data, transform=aug_td_transform)\n",
    "gau_dataset = torchvision.datasets.MNIST(root = './data', train=True, download=download_data, transform=gau_transform)\n",
    "\n",
    "\n",
    "aug_loader_cat = torch.utils.data.ConcatDataset([aug_lr_dataset, aug_td_dataset, gau_dataset])\n",
    "aug_loader = torch.utils.data.DataLoader(aug_loader_cat, batch_size=batch_size, shuffle=True)"
   ]
  },
  {
   "cell_type": "code",
   "execution_count": 19,
   "metadata": {},
   "outputs": [
    {
     "name": "stdout",
     "output_type": "stream",
     "text": [
      "[INFO]: Epoch 1 of 5\n"
     ]
    },
    {
     "name": "stderr",
     "output_type": "stream",
     "text": [
      "100%|██████████| 5625/5625 [00:51<00:00, 108.34it/s]\n",
      "100%|██████████| 313/313 [00:01<00:00, 218.22it/s]\n"
     ]
    },
    {
     "name": "stdout",
     "output_type": "stream",
     "text": [
      "\n",
      "\n",
      "Training loss: 0.174, training acc: 0.948\n",
      "Test loss: 0.055, test acc: 0.983\n",
      "--------------------------------------------------\n",
      "[INFO]: Epoch 2 of 5\n"
     ]
    },
    {
     "name": "stderr",
     "output_type": "stream",
     "text": [
      "100%|██████████| 5625/5625 [00:50<00:00, 111.10it/s]\n",
      "100%|██████████| 313/313 [00:01<00:00, 222.25it/s]\n"
     ]
    },
    {
     "name": "stdout",
     "output_type": "stream",
     "text": [
      "\n",
      "\n",
      "Training loss: 0.073, training acc: 0.979\n",
      "Test loss: 0.042, test acc: 0.988\n",
      "--------------------------------------------------\n",
      "[INFO]: Epoch 3 of 5\n"
     ]
    },
    {
     "name": "stderr",
     "output_type": "stream",
     "text": [
      "100%|██████████| 5625/5625 [00:50<00:00, 111.12it/s]\n",
      "100%|██████████| 313/313 [00:01<00:00, 220.53it/s]\n"
     ]
    },
    {
     "name": "stdout",
     "output_type": "stream",
     "text": [
      "\n",
      "\n",
      "Training loss: 0.061, training acc: 0.982\n",
      "Test loss: 0.052, test acc: 0.983\n",
      "--------------------------------------------------\n",
      "[INFO]: Epoch 4 of 5\n"
     ]
    },
    {
     "name": "stderr",
     "output_type": "stream",
     "text": [
      "100%|██████████| 5625/5625 [00:54<00:00, 102.77it/s]\n",
      "100%|██████████| 313/313 [00:01<00:00, 202.25it/s]\n"
     ]
    },
    {
     "name": "stdout",
     "output_type": "stream",
     "text": [
      "\n",
      "\n",
      "Training loss: 0.053, training acc: 0.985\n",
      "Test loss: 0.035, test acc: 0.989\n",
      "--------------------------------------------------\n",
      "[INFO]: Epoch 5 of 5\n"
     ]
    },
    {
     "name": "stderr",
     "output_type": "stream",
     "text": [
      "100%|██████████| 5625/5625 [00:55<00:00, 101.97it/s]\n",
      "100%|██████████| 313/313 [00:01<00:00, 202.81it/s]"
     ]
    },
    {
     "name": "stdout",
     "output_type": "stream",
     "text": [
      "\n",
      "\n",
      "Training loss: 0.051, training acc: 0.985\n",
      "Test loss: 0.040, test acc: 0.988\n",
      "--------------------------------------------------\n"
     ]
    },
    {
     "name": "stderr",
     "output_type": "stream",
     "text": [
      "\n"
     ]
    }
   ],
   "source": [
    "aug_model, aug_train_loss, aug_test_loss, aug_train_acc, aug_test_acc = epoch_train(aug_loader, test_dataloader)"
   ]
  },
  {
   "cell_type": "code",
   "execution_count": 20,
   "metadata": {},
   "outputs": [
    {
     "name": "stderr",
     "output_type": "stream",
     "text": [
      "100%|██████████| 313/313 [00:02<00:00, 154.53it/s]\n",
      "100%|██████████| 313/313 [00:02<00:00, 152.76it/s]\n"
     ]
    },
    {
     "name": "stdout",
     "output_type": "stream",
     "text": [
      "Horizontal flip loss: 0.09681220558384945, Accuracy: 97.16%\n",
      "Vertical flip loss: 0.10574187763100758, Accuracy: 96.91%\n"
     ]
    },
    {
     "name": "stderr",
     "output_type": "stream",
     "text": [
      "100%|██████████| 313/313 [00:01<00:00, 167.39it/s]\n"
     ]
    },
    {
     "name": "stdout",
     "output_type": "stream",
     "text": [
      "Gaussian noise with variance 0.01 loss: 0.03433592035969795, Accuracy: 98.99%\n"
     ]
    },
    {
     "name": "stderr",
     "output_type": "stream",
     "text": [
      "100%|██████████| 313/313 [00:01<00:00, 168.15it/s]\n"
     ]
    },
    {
     "name": "stdout",
     "output_type": "stream",
     "text": [
      "Gaussian noise with variance 0.1 loss: 0.04499677672183302, Accuracy: 98.58%\n"
     ]
    },
    {
     "name": "stderr",
     "output_type": "stream",
     "text": [
      "100%|██████████| 313/313 [00:01<00:00, 167.43it/s]"
     ]
    },
    {
     "name": "stdout",
     "output_type": "stream",
     "text": [
      "Gaussian noise with variance 1 loss: 1.3255716820304004, Accuracy: 60.36%\n"
     ]
    },
    {
     "name": "stderr",
     "output_type": "stream",
     "text": [
      "\n"
     ]
    }
   ],
   "source": [
    "test_flip(aug_model)\n",
    "test_noise(aug_model)"
   ]
  },
  {
   "cell_type": "code",
   "execution_count": null,
   "metadata": {},
   "outputs": [],
   "source": []
  }
 ],
 "metadata": {
  "kernelspec": {
   "display_name": "Python 3.10.4 64-bit",
   "language": "python",
   "name": "python3"
  },
  "language_info": {
   "codemirror_mode": {
    "name": "ipython",
    "version": 3
   },
   "file_extension": ".py",
   "mimetype": "text/x-python",
   "name": "python",
   "nbconvert_exporter": "python",
   "pygments_lexer": "ipython3",
   "version": "3.10.4"
  },
  "orig_nbformat": 4,
  "vscode": {
   "interpreter": {
    "hash": "1f8e04c1004ae0e48c4c128aee02bb34a41f967cffe60616a1dbeccdbed98bf0"
   }
  }
 },
 "nbformat": 4,
 "nbformat_minor": 2
}
