{
 "cells": [
  {
   "cell_type": "code",
   "execution_count": 1,
   "metadata": {},
   "outputs": [
    {
     "name": "stderr",
     "output_type": "stream",
     "text": [
      "c:\\Users\\KandaMaya\\AppData\\Local\\Programs\\Python\\Python310\\lib\\site-packages\\tqdm\\auto.py:22: TqdmWarning: IProgress not found. Please update jupyter and ipywidgets. See https://ipywidgets.readthedocs.io/en/stable/user_install.html\n",
      "  from .autonotebook import tqdm as notebook_tqdm\n"
     ]
    }
   ],
   "source": [
    "import torch\n",
    "from torch import nn\n",
    "import math\n",
    "\n",
    "import torchvision\n",
    "import torchvision.transforms as transforms\n",
    "import matplotlib.pyplot as plt\n",
    "import matplotlib\n",
    "import torch.optim as optim\n",
    "from tqdm import tqdm"
   ]
  },
  {
   "cell_type": "code",
   "execution_count": 2,
   "metadata": {},
   "outputs": [],
   "source": [
    "class VGG11(nn.Module):\n",
    "    def __init__(self):\n",
    "        super(VGG11, self).__init__()\n",
    "        # convolutional layers\n",
    "        self.conv_layers = nn.Sequential(\n",
    "            nn.Conv2d(1, 64, 3, 1, 1),\n",
    "            nn.BatchNorm2d(64),\n",
    "            nn.ReLU(),\n",
    "            nn.MaxPool2d(2, 2),\n",
    "\n",
    "            nn.Conv2d(64, 128, 3, 1, 1),\n",
    "            nn.BatchNorm2d(128),\n",
    "            nn.ReLU(),\n",
    "            nn.MaxPool2d(2, 2),\n",
    "\n",
    "            nn.Conv2d(128, 256, 3, 1, 1),\n",
    "            nn.BatchNorm2d(256),\n",
    "            nn.ReLU(),\n",
    "\n",
    "            nn.Conv2d(256, 256, 3, 1, 1),\n",
    "            nn.BatchNorm2d(256),\n",
    "            nn.ReLU(),\n",
    "            nn.MaxPool2d(2, 2),\n",
    "\n",
    "            nn.Conv2d(256, 512, 3, 1, 1),\n",
    "            nn.BatchNorm2d(512),\n",
    "            nn.ReLU(),\n",
    "\n",
    "            nn.Conv2d(512, 512, 3, 1, 1),\n",
    "            nn.BatchNorm2d(512),\n",
    "            nn.ReLU(),\n",
    "            nn.MaxPool2d(2, 2),\n",
    "\n",
    "            nn.Conv2d(512, 512, 3, 1, 1),\n",
    "            nn.BatchNorm2d(512),\n",
    "            nn.ReLU(),\n",
    "\n",
    "            nn.Conv2d(512, 512, 3, 1, 1),\n",
    "            nn.BatchNorm2d(512),\n",
    "            nn.ReLU(),\n",
    "            nn.MaxPool2d(2, 2),\n",
    "        )\n",
    "\n",
    "        self.linear_layers = nn.Sequential(\n",
    "            nn.Linear(512, 4096),\n",
    "            nn.ReLU(),\n",
    "            nn.Dropout2d(0.5),\n",
    "            nn.Linear(4096, 4096),\n",
    "            nn.ReLU(),\n",
    "            nn.Dropout2d(0.5),\n",
    "            nn.Linear(4096, 10)\n",
    "        )\n",
    "    def forward(self, x):\n",
    "        x = self.conv_layers(x)\n",
    "        # flatten for FC\n",
    "        x = x.view(x.size(0), -1)\n",
    "        x = self.linear_layers(x)\n",
    "        return x"
   ]
  },
  {
   "cell_type": "code",
   "execution_count": 3,
   "metadata": {},
   "outputs": [],
   "source": [
    "def train(model, trainloader, optimizer, loss_func):\n",
    "    model.train()\n",
    "    train_running_loss = 0.0\n",
    "    train_running_correct = 0\n",
    "    # For every batch\n",
    "    for i, data in tqdm(enumerate(trainloader), total=len(trainloader)):\n",
    "        image, labels = data\n",
    "        image = image.to(device)\n",
    "        labels = labels.to(device)\n",
    "\n",
    "        optimizer.zero_grad()\n",
    "        outputs = model(image)\n",
    "        loss = loss_func(outputs, labels)\n",
    "        train_running_loss += loss.item()\n",
    "        _, preds = torch.max(outputs.data, 1)\n",
    "        train_running_correct += (preds == labels).sum().item()\n",
    "        loss.backward()\n",
    "        optimizer.step()\n",
    "    \n",
    "    epoch_loss = train_running_loss / len(trainloader)\n",
    "    epoch_acc = (train_running_correct / len(trainloader.dataset))\n",
    "    return epoch_loss, epoch_acc"
   ]
  },
  {
   "cell_type": "code",
   "execution_count": 4,
   "metadata": {},
   "outputs": [],
   "source": [
    "def validate(model, testloader, loss_func):\n",
    "    model.eval()\n",
    "\n",
    "    class_correct = [0.] * 10\n",
    "    class_total = [0.] * 10\n",
    "\n",
    "    valid_running_loss = 0.0\n",
    "    valid_running_correct = 0\n",
    "    with torch.no_grad():\n",
    "        for i, data in tqdm(enumerate(testloader), total=len(testloader)):\n",
    "            image, labels = data\n",
    "            image = image.to(device)\n",
    "            labels = labels.to(device)\n",
    "\n",
    "            outputs = model(image)\n",
    "            loss = loss_func(outputs, labels)\n",
    "            valid_running_loss += loss.item()\n",
    "            _, preds = torch.max(outputs.data, 1)\n",
    "            valid_running_correct += (preds == labels).sum().item()\n",
    "\n",
    "    epoch_loss = valid_running_loss / len(testloader)\n",
    "    epoch_acc = (valid_running_correct / len(testloader.dataset))\n",
    "    return epoch_loss, epoch_acc"
   ]
  },
  {
   "cell_type": "code",
   "execution_count": 5,
   "metadata": {},
   "outputs": [],
   "source": [
    "matplotlib.style.use('ggplot')\n",
    "device = torch.device('cuda' if torch.cuda.is_available() else 'cpu')\n",
    "download_data = True\n",
    "# device = torch.device('cpu')\n",
    "epochs = 10\n",
    "batch_size = 32\n",
    "\n",
    "transform = transforms.Compose(\n",
    "    [transforms.Resize((32, 32)),\n",
    "     transforms.ToTensor()])\n",
    "loss_func = nn.CrossEntropyLoss()\n",
    "model = VGG11().to(device)\n",
    "optimizer = optim.SGD(model.parameters(), lr=0.01)\n",
    "\n",
    "# training dataset and data loader\n",
    "train_dataset = torchvision.datasets.MNIST(root='./data', train=True,\n",
    "                                             download=download_data, \n",
    "                                             transform=transform)\n",
    "train_dataloader = torch.utils.data.DataLoader(train_dataset, \n",
    "                                               batch_size=batch_size,\n",
    "                                               shuffle=True)\n",
    "# validation dataset and dataloader\n",
    "valid_dataset = torchvision.datasets.MNIST(root='./data', train=False,\n",
    "                                           download=download_data, \n",
    "                                           transform=transform)\n",
    "valid_dataloader = torch.utils.data.DataLoader(valid_dataset, \n",
    "                                             batch_size=batch_size,\n",
    "                                             shuffle=False)\n",
    "                                             "
   ]
  },
  {
   "cell_type": "code",
   "execution_count": 6,
   "metadata": {},
   "outputs": [
    {
     "name": "stdout",
     "output_type": "stream",
     "text": [
      "[INFO]: Epoch 1 of 10\n"
     ]
    },
    {
     "name": "stderr",
     "output_type": "stream",
     "text": [
      "  0%|          | 0/1875 [00:00<?, ?it/s]c:\\Users\\KandaMaya\\AppData\\Local\\Programs\\Python\\Python310\\lib\\site-packages\\torch\\nn\\functional.py:1320: UserWarning: dropout2d: Received a 2-D input to dropout2d, which is deprecated and will result in an error in a future release. To retain the behavior and silence this warning, please use dropout instead. Note that dropout2d exists to provide channel-wise dropout on inputs with 2 spatial dimensions, a channel dimension, and an optional batch dimension (i.e. 3D or 4D inputs).\n",
      "  warnings.warn(warn_msg)\n",
      "100%|██████████| 1875/1875 [00:18<00:00, 103.71it/s]\n",
      "100%|██████████| 313/313 [00:01<00:00, 212.95it/s]\n"
     ]
    },
    {
     "name": "stdout",
     "output_type": "stream",
     "text": [
      "\n",
      "\n",
      "Training loss: 1.773, training acc: 0.320\n",
      "Validation loss: 0.592, validation acc: 0.959\n",
      "--------------------------------------------------\n",
      "[INFO]: Epoch 2 of 10\n"
     ]
    },
    {
     "name": "stderr",
     "output_type": "stream",
     "text": [
      " 14%|█▍        | 263/1875 [00:02<00:13, 120.08it/s]\n"
     ]
    },
    {
     "ename": "KeyboardInterrupt",
     "evalue": "",
     "output_type": "error",
     "traceback": [
      "\u001b[1;31m---------------------------------------------------------------------------\u001b[0m",
      "\u001b[1;31mKeyboardInterrupt\u001b[0m                         Traceback (most recent call last)",
      "\u001b[1;32mc:\\Users\\KandaMaya\\Documents\\University\\4A\\CS480\\ex3.ipynb Cell 6'\u001b[0m in \u001b[0;36m<cell line: 3>\u001b[1;34m()\u001b[0m\n\u001b[0;32m      <a href='vscode-notebook-cell:/c%3A/Users/KandaMaya/Documents/University/4A/CS480/ex3.ipynb#ch0000005?line=2'>3</a>\u001b[0m \u001b[39mfor\u001b[39;00m epoch \u001b[39min\u001b[39;00m \u001b[39mrange\u001b[39m(epochs):\n\u001b[0;32m      <a href='vscode-notebook-cell:/c%3A/Users/KandaMaya/Documents/University/4A/CS480/ex3.ipynb#ch0000005?line=3'>4</a>\u001b[0m     \u001b[39mprint\u001b[39m(\u001b[39mf\u001b[39m\u001b[39m\"\u001b[39m\u001b[39m[INFO]: Epoch \u001b[39m\u001b[39m{\u001b[39;00mepoch\u001b[39m+\u001b[39m\u001b[39m1\u001b[39m\u001b[39m}\u001b[39;00m\u001b[39m of \u001b[39m\u001b[39m{\u001b[39;00mepochs\u001b[39m}\u001b[39;00m\u001b[39m\"\u001b[39m)\n\u001b[1;32m----> <a href='vscode-notebook-cell:/c%3A/Users/KandaMaya/Documents/University/4A/CS480/ex3.ipynb#ch0000005?line=4'>5</a>\u001b[0m     train_epoch_loss, train_epoch_acc \u001b[39m=\u001b[39m train(model, train_dataloader, \n\u001b[0;32m      <a href='vscode-notebook-cell:/c%3A/Users/KandaMaya/Documents/University/4A/CS480/ex3.ipynb#ch0000005?line=5'>6</a>\u001b[0m                                               optimizer, loss_func)\n\u001b[0;32m      <a href='vscode-notebook-cell:/c%3A/Users/KandaMaya/Documents/University/4A/CS480/ex3.ipynb#ch0000005?line=6'>7</a>\u001b[0m     valid_epoch_loss, valid_epoch_acc \u001b[39m=\u001b[39m validate(model, valid_dataloader,  \n\u001b[0;32m      <a href='vscode-notebook-cell:/c%3A/Users/KandaMaya/Documents/University/4A/CS480/ex3.ipynb#ch0000005?line=7'>8</a>\u001b[0m                                                  loss_func)\n\u001b[0;32m      <a href='vscode-notebook-cell:/c%3A/Users/KandaMaya/Documents/University/4A/CS480/ex3.ipynb#ch0000005?line=8'>9</a>\u001b[0m     train_loss\u001b[39m.\u001b[39mappend(train_epoch_loss)\n",
      "\u001b[1;32mc:\\Users\\KandaMaya\\Documents\\University\\4A\\CS480\\ex3.ipynb Cell 3'\u001b[0m in \u001b[0;36mtrain\u001b[1;34m(model, trainloader, optimizer, loss_func)\u001b[0m\n\u001b[0;32m      <a href='vscode-notebook-cell:/c%3A/Users/KandaMaya/Documents/University/4A/CS480/ex3.ipynb#ch0000002?line=3'>4</a>\u001b[0m train_running_correct \u001b[39m=\u001b[39m \u001b[39m0\u001b[39m\n\u001b[0;32m      <a href='vscode-notebook-cell:/c%3A/Users/KandaMaya/Documents/University/4A/CS480/ex3.ipynb#ch0000002?line=4'>5</a>\u001b[0m \u001b[39m# For every batch\u001b[39;00m\n\u001b[1;32m----> <a href='vscode-notebook-cell:/c%3A/Users/KandaMaya/Documents/University/4A/CS480/ex3.ipynb#ch0000002?line=5'>6</a>\u001b[0m \u001b[39mfor\u001b[39;00m i, data \u001b[39min\u001b[39;00m tqdm(\u001b[39menumerate\u001b[39m(trainloader), total\u001b[39m=\u001b[39m\u001b[39mlen\u001b[39m(trainloader)):\n\u001b[0;32m      <a href='vscode-notebook-cell:/c%3A/Users/KandaMaya/Documents/University/4A/CS480/ex3.ipynb#ch0000002?line=6'>7</a>\u001b[0m     image, labels \u001b[39m=\u001b[39m data\n\u001b[0;32m      <a href='vscode-notebook-cell:/c%3A/Users/KandaMaya/Documents/University/4A/CS480/ex3.ipynb#ch0000002?line=7'>8</a>\u001b[0m     image \u001b[39m=\u001b[39m image\u001b[39m.\u001b[39mto(device)\n",
      "File \u001b[1;32mc:\\Users\\KandaMaya\\AppData\\Local\\Programs\\Python\\Python310\\lib\\site-packages\\tqdm\\std.py:1195\u001b[0m, in \u001b[0;36mtqdm.__iter__\u001b[1;34m(self)\u001b[0m\n\u001b[0;32m   1192\u001b[0m time \u001b[39m=\u001b[39m \u001b[39mself\u001b[39m\u001b[39m.\u001b[39m_time\n\u001b[0;32m   1194\u001b[0m \u001b[39mtry\u001b[39;00m:\n\u001b[1;32m-> 1195\u001b[0m     \u001b[39mfor\u001b[39;00m obj \u001b[39min\u001b[39;00m iterable:\n\u001b[0;32m   1196\u001b[0m         \u001b[39myield\u001b[39;00m obj\n\u001b[0;32m   1197\u001b[0m         \u001b[39m# Update and possibly print the progressbar.\u001b[39;00m\n\u001b[0;32m   1198\u001b[0m         \u001b[39m# Note: does not call self.update(1) for speed optimisation.\u001b[39;00m\n",
      "File \u001b[1;32mc:\\Users\\KandaMaya\\AppData\\Local\\Programs\\Python\\Python310\\lib\\site-packages\\torch\\utils\\data\\dataloader.py:530\u001b[0m, in \u001b[0;36m_BaseDataLoaderIter.__next__\u001b[1;34m(self)\u001b[0m\n\u001b[0;32m    528\u001b[0m \u001b[39mif\u001b[39;00m \u001b[39mself\u001b[39m\u001b[39m.\u001b[39m_sampler_iter \u001b[39mis\u001b[39;00m \u001b[39mNone\u001b[39;00m:\n\u001b[0;32m    529\u001b[0m     \u001b[39mself\u001b[39m\u001b[39m.\u001b[39m_reset()\n\u001b[1;32m--> 530\u001b[0m data \u001b[39m=\u001b[39m \u001b[39mself\u001b[39;49m\u001b[39m.\u001b[39;49m_next_data()\n\u001b[0;32m    531\u001b[0m \u001b[39mself\u001b[39m\u001b[39m.\u001b[39m_num_yielded \u001b[39m+\u001b[39m\u001b[39m=\u001b[39m \u001b[39m1\u001b[39m\n\u001b[0;32m    532\u001b[0m \u001b[39mif\u001b[39;00m \u001b[39mself\u001b[39m\u001b[39m.\u001b[39m_dataset_kind \u001b[39m==\u001b[39m _DatasetKind\u001b[39m.\u001b[39mIterable \u001b[39mand\u001b[39;00m \\\n\u001b[0;32m    533\u001b[0m         \u001b[39mself\u001b[39m\u001b[39m.\u001b[39m_IterableDataset_len_called \u001b[39mis\u001b[39;00m \u001b[39mnot\u001b[39;00m \u001b[39mNone\u001b[39;00m \u001b[39mand\u001b[39;00m \\\n\u001b[0;32m    534\u001b[0m         \u001b[39mself\u001b[39m\u001b[39m.\u001b[39m_num_yielded \u001b[39m>\u001b[39m \u001b[39mself\u001b[39m\u001b[39m.\u001b[39m_IterableDataset_len_called:\n",
      "File \u001b[1;32mc:\\Users\\KandaMaya\\AppData\\Local\\Programs\\Python\\Python310\\lib\\site-packages\\torch\\utils\\data\\dataloader.py:570\u001b[0m, in \u001b[0;36m_SingleProcessDataLoaderIter._next_data\u001b[1;34m(self)\u001b[0m\n\u001b[0;32m    568\u001b[0m \u001b[39mdef\u001b[39;00m \u001b[39m_next_data\u001b[39m(\u001b[39mself\u001b[39m):\n\u001b[0;32m    569\u001b[0m     index \u001b[39m=\u001b[39m \u001b[39mself\u001b[39m\u001b[39m.\u001b[39m_next_index()  \u001b[39m# may raise StopIteration\u001b[39;00m\n\u001b[1;32m--> 570\u001b[0m     data \u001b[39m=\u001b[39m \u001b[39mself\u001b[39;49m\u001b[39m.\u001b[39;49m_dataset_fetcher\u001b[39m.\u001b[39;49mfetch(index)  \u001b[39m# may raise StopIteration\u001b[39;00m\n\u001b[0;32m    571\u001b[0m     \u001b[39mif\u001b[39;00m \u001b[39mself\u001b[39m\u001b[39m.\u001b[39m_pin_memory:\n\u001b[0;32m    572\u001b[0m         data \u001b[39m=\u001b[39m _utils\u001b[39m.\u001b[39mpin_memory\u001b[39m.\u001b[39mpin_memory(data)\n",
      "File \u001b[1;32mc:\\Users\\KandaMaya\\AppData\\Local\\Programs\\Python\\Python310\\lib\\site-packages\\torch\\utils\\data\\_utils\\fetch.py:49\u001b[0m, in \u001b[0;36m_MapDatasetFetcher.fetch\u001b[1;34m(self, possibly_batched_index)\u001b[0m\n\u001b[0;32m     47\u001b[0m \u001b[39mdef\u001b[39;00m \u001b[39mfetch\u001b[39m(\u001b[39mself\u001b[39m, possibly_batched_index):\n\u001b[0;32m     48\u001b[0m     \u001b[39mif\u001b[39;00m \u001b[39mself\u001b[39m\u001b[39m.\u001b[39mauto_collation:\n\u001b[1;32m---> 49\u001b[0m         data \u001b[39m=\u001b[39m [\u001b[39mself\u001b[39m\u001b[39m.\u001b[39mdataset[idx] \u001b[39mfor\u001b[39;00m idx \u001b[39min\u001b[39;00m possibly_batched_index]\n\u001b[0;32m     50\u001b[0m     \u001b[39melse\u001b[39;00m:\n\u001b[0;32m     51\u001b[0m         data \u001b[39m=\u001b[39m \u001b[39mself\u001b[39m\u001b[39m.\u001b[39mdataset[possibly_batched_index]\n",
      "File \u001b[1;32mc:\\Users\\KandaMaya\\AppData\\Local\\Programs\\Python\\Python310\\lib\\site-packages\\torch\\utils\\data\\_utils\\fetch.py:49\u001b[0m, in \u001b[0;36m<listcomp>\u001b[1;34m(.0)\u001b[0m\n\u001b[0;32m     47\u001b[0m \u001b[39mdef\u001b[39;00m \u001b[39mfetch\u001b[39m(\u001b[39mself\u001b[39m, possibly_batched_index):\n\u001b[0;32m     48\u001b[0m     \u001b[39mif\u001b[39;00m \u001b[39mself\u001b[39m\u001b[39m.\u001b[39mauto_collation:\n\u001b[1;32m---> 49\u001b[0m         data \u001b[39m=\u001b[39m [\u001b[39mself\u001b[39;49m\u001b[39m.\u001b[39;49mdataset[idx] \u001b[39mfor\u001b[39;00m idx \u001b[39min\u001b[39;00m possibly_batched_index]\n\u001b[0;32m     50\u001b[0m     \u001b[39melse\u001b[39;00m:\n\u001b[0;32m     51\u001b[0m         data \u001b[39m=\u001b[39m \u001b[39mself\u001b[39m\u001b[39m.\u001b[39mdataset[possibly_batched_index]\n",
      "File \u001b[1;32mc:\\Users\\KandaMaya\\AppData\\Local\\Programs\\Python\\Python310\\lib\\site-packages\\torchvision\\datasets\\mnist.py:145\u001b[0m, in \u001b[0;36mMNIST.__getitem__\u001b[1;34m(self, index)\u001b[0m\n\u001b[0;32m    142\u001b[0m img \u001b[39m=\u001b[39m Image\u001b[39m.\u001b[39mfromarray(img\u001b[39m.\u001b[39mnumpy(), mode\u001b[39m=\u001b[39m\u001b[39m\"\u001b[39m\u001b[39mL\u001b[39m\u001b[39m\"\u001b[39m)\n\u001b[0;32m    144\u001b[0m \u001b[39mif\u001b[39;00m \u001b[39mself\u001b[39m\u001b[39m.\u001b[39mtransform \u001b[39mis\u001b[39;00m \u001b[39mnot\u001b[39;00m \u001b[39mNone\u001b[39;00m:\n\u001b[1;32m--> 145\u001b[0m     img \u001b[39m=\u001b[39m \u001b[39mself\u001b[39;49m\u001b[39m.\u001b[39;49mtransform(img)\n\u001b[0;32m    147\u001b[0m \u001b[39mif\u001b[39;00m \u001b[39mself\u001b[39m\u001b[39m.\u001b[39mtarget_transform \u001b[39mis\u001b[39;00m \u001b[39mnot\u001b[39;00m \u001b[39mNone\u001b[39;00m:\n\u001b[0;32m    148\u001b[0m     target \u001b[39m=\u001b[39m \u001b[39mself\u001b[39m\u001b[39m.\u001b[39mtarget_transform(target)\n",
      "File \u001b[1;32mc:\\Users\\KandaMaya\\AppData\\Local\\Programs\\Python\\Python310\\lib\\site-packages\\torchvision\\transforms\\transforms.py:95\u001b[0m, in \u001b[0;36mCompose.__call__\u001b[1;34m(self, img)\u001b[0m\n\u001b[0;32m     93\u001b[0m \u001b[39mdef\u001b[39;00m \u001b[39m__call__\u001b[39m(\u001b[39mself\u001b[39m, img):\n\u001b[0;32m     94\u001b[0m     \u001b[39mfor\u001b[39;00m t \u001b[39min\u001b[39;00m \u001b[39mself\u001b[39m\u001b[39m.\u001b[39mtransforms:\n\u001b[1;32m---> 95\u001b[0m         img \u001b[39m=\u001b[39m t(img)\n\u001b[0;32m     96\u001b[0m     \u001b[39mreturn\u001b[39;00m img\n",
      "File \u001b[1;32mc:\\Users\\KandaMaya\\AppData\\Local\\Programs\\Python\\Python310\\lib\\site-packages\\torchvision\\transforms\\transforms.py:135\u001b[0m, in \u001b[0;36mToTensor.__call__\u001b[1;34m(self, pic)\u001b[0m\n\u001b[0;32m    127\u001b[0m \u001b[39mdef\u001b[39;00m \u001b[39m__call__\u001b[39m(\u001b[39mself\u001b[39m, pic):\n\u001b[0;32m    128\u001b[0m     \u001b[39m\"\"\"\u001b[39;00m\n\u001b[0;32m    129\u001b[0m \u001b[39m    Args:\u001b[39;00m\n\u001b[0;32m    130\u001b[0m \u001b[39m        pic (PIL Image or numpy.ndarray): Image to be converted to tensor.\u001b[39;00m\n\u001b[1;32m   (...)\u001b[0m\n\u001b[0;32m    133\u001b[0m \u001b[39m        Tensor: Converted image.\u001b[39;00m\n\u001b[0;32m    134\u001b[0m \u001b[39m    \"\"\"\u001b[39;00m\n\u001b[1;32m--> 135\u001b[0m     \u001b[39mreturn\u001b[39;00m F\u001b[39m.\u001b[39;49mto_tensor(pic)\n",
      "File \u001b[1;32mc:\\Users\\KandaMaya\\AppData\\Local\\Programs\\Python\\Python310\\lib\\site-packages\\torchvision\\transforms\\functional.py:151\u001b[0m, in \u001b[0;36mto_tensor\u001b[1;34m(pic)\u001b[0m\n\u001b[0;32m    149\u001b[0m \u001b[39mif\u001b[39;00m pic\u001b[39m.\u001b[39mmode \u001b[39m==\u001b[39m \u001b[39m\"\u001b[39m\u001b[39m1\u001b[39m\u001b[39m\"\u001b[39m:\n\u001b[0;32m    150\u001b[0m     img \u001b[39m=\u001b[39m \u001b[39m255\u001b[39m \u001b[39m*\u001b[39m img\n\u001b[1;32m--> 151\u001b[0m img \u001b[39m=\u001b[39m img\u001b[39m.\u001b[39;49mview(pic\u001b[39m.\u001b[39;49msize[\u001b[39m1\u001b[39;49m], pic\u001b[39m.\u001b[39;49msize[\u001b[39m0\u001b[39;49m], \u001b[39mlen\u001b[39;49m(pic\u001b[39m.\u001b[39;49mgetbands()))\n\u001b[0;32m    152\u001b[0m \u001b[39m# put it from HWC to CHW format\u001b[39;00m\n\u001b[0;32m    153\u001b[0m img \u001b[39m=\u001b[39m img\u001b[39m.\u001b[39mpermute((\u001b[39m2\u001b[39m, \u001b[39m0\u001b[39m, \u001b[39m1\u001b[39m))\u001b[39m.\u001b[39mcontiguous()\n",
      "\u001b[1;31mKeyboardInterrupt\u001b[0m: "
     ]
    }
   ],
   "source": [
    "train_loss, valid_loss = [], []\n",
    "train_acc, valid_acc = [], []\n",
    "for epoch in range(epochs):\n",
    "    print(f\"[INFO]: Epoch {epoch+1} of {epochs}\")\n",
    "    train_epoch_loss, train_epoch_acc = train(model, train_dataloader, \n",
    "                                              optimizer, loss_func)\n",
    "    valid_epoch_loss, valid_epoch_acc = validate(model, valid_dataloader,  \n",
    "                                                 loss_func)\n",
    "    train_loss.append(train_epoch_loss)\n",
    "    valid_loss.append(valid_epoch_loss)\n",
    "    train_acc.append(train_epoch_acc)\n",
    "    valid_acc.append(valid_epoch_acc)\n",
    "    print('\\n')\n",
    "    print(f\"Training loss: {train_epoch_loss:.3f}, training acc: {train_epoch_acc:.3f}\")\n",
    "    print(f\"Validation loss: {valid_epoch_loss:.3f}, validation acc: {valid_epoch_acc:.3f}\")\n",
    "    print('-'*50)"
   ]
  },
  {
   "cell_type": "code",
   "execution_count": 7,
   "metadata": {},
   "outputs": [],
   "source": [
    "def test_flip(_model):\n",
    "    lr_flip_transform = transforms.Compose(\n",
    "        [transforms.Resize((32, 32)),\n",
    "        transforms.RandomHorizontalFlip(p=1),\n",
    "        transforms.ToTensor()])\n",
    "\n",
    "    td_flip_transform = transforms.Compose(\n",
    "        [transforms.Resize((32, 32)),\n",
    "        transforms.RandomVerticalFlip(p=1),\n",
    "        transforms.ToTensor()])\n",
    "        \n",
    "    # validation dataset and dataloader\n",
    "    lr_flip_dataset = torchvision.datasets.MNIST(root='./data', train=False,\n",
    "                                            download=download_data, \n",
    "                                            transform=lr_flip_transform)\n",
    "    lr_flip_dataloader = torch.utils.data.DataLoader(lr_flip_dataset, \n",
    "                                                batch_size=batch_size,\n",
    "                                                shuffle=False)\n",
    "\n",
    "    # validation dataset and dataloader\n",
    "    td_flip_dataset = torchvision.datasets.MNIST(root='./data', train=False,\n",
    "                                            download=download_data, \n",
    "                                            transform=td_flip_transform)\n",
    "    td_flip_dataloader = torch.utils.data.DataLoader(td_flip_dataset, \n",
    "                                                batch_size=batch_size,\n",
    "                                                shuffle=False)\n",
    "\n",
    "    lr_flip_loss, lr_flip_acc = validate(_model, lr_flip_dataloader, loss_func)\n",
    "    td_flip_loss, td_flip_acc = validate(_model, td_flip_dataloader, loss_func)\n",
    "    print(f\"Horizontal flip loss: {lr_flip_loss}, Accuracy: {100. * lr_flip_acc}%\")\n",
    "    print(f\"Vertical flip loss: {td_flip_loss}, Accuracy: {100. * td_flip_acc}%\")"
   ]
  },
  {
   "cell_type": "code",
   "execution_count": 8,
   "metadata": {},
   "outputs": [],
   "source": [
    "def test_noise(_model):\n",
    "    for variance in [0.01, 0.1, 1]:\n",
    "        stddev = math.sqrt(variance)\n",
    "        gaussian_noise_transform = transforms.Compose(\n",
    "            [transforms.Resize((32, 32)),\n",
    "            transforms.ToTensor(),\n",
    "            transforms.Lambda(lambda x : x + stddev*torch.randn_like(x))\n",
    "            ])\n",
    "            \n",
    "        # validation dataset and dataloader\n",
    "        gaussian_noise_dataset = torchvision.datasets.MNIST(root='./data', train=False,\n",
    "                                                download=download_data, \n",
    "                                                transform=gaussian_noise_transform)\n",
    "        gaussian_noise_dataloader = torch.utils.data.DataLoader(gaussian_noise_dataset, \n",
    "                                                    batch_size=batch_size,\n",
    "                                                    shuffle=False)\n",
    "        gaussian_noise_loss, gaussian_noise_acc = validate(_model, gaussian_noise_dataloader, loss_func)\n",
    "        print(f\"Gaussian noise with variance {variance} loss: {gaussian_noise_loss}, Accuracy: {100. * gaussian_noise_acc}%\")"
   ]
  },
  {
   "cell_type": "code",
   "execution_count": 9,
   "metadata": {},
   "outputs": [
    {
     "name": "stderr",
     "output_type": "stream",
     "text": [
      "100%|██████████| 313/313 [00:02<00:00, 153.55it/s]\n",
      "100%|██████████| 313/313 [00:01<00:00, 157.73it/s]\n"
     ]
    },
    {
     "name": "stdout",
     "output_type": "stream",
     "text": [
      "Horizontal flip loss: 1.928394480635183, Accuracy: 38.43%\n",
      "Vertical flip loss: 1.9220517032062665, Accuracy: 43.309999999999995%\n"
     ]
    },
    {
     "name": "stderr",
     "output_type": "stream",
     "text": [
      "100%|██████████| 313/313 [00:01<00:00, 171.00it/s]\n"
     ]
    },
    {
     "name": "stdout",
     "output_type": "stream",
     "text": [
      "Gaussian noise with variance 0.01 loss: 0.5477761311081651, Accuracy: 97.39%\n"
     ]
    },
    {
     "name": "stderr",
     "output_type": "stream",
     "text": [
      "100%|██████████| 313/313 [00:01<00:00, 177.90it/s]\n"
     ]
    },
    {
     "name": "stdout",
     "output_type": "stream",
     "text": [
      "Gaussian noise with variance 0.1 loss: 2.3260483970276464, Accuracy: 10.780000000000001%\n"
     ]
    },
    {
     "name": "stderr",
     "output_type": "stream",
     "text": [
      "100%|██████████| 313/313 [00:01<00:00, 163.58it/s]"
     ]
    },
    {
     "name": "stdout",
     "output_type": "stream",
     "text": [
      "Gaussian noise with variance 1 loss: 5.4684271934314275, Accuracy: 9.74%\n"
     ]
    },
    {
     "name": "stderr",
     "output_type": "stream",
     "text": [
      "\n"
     ]
    }
   ],
   "source": [
    "test_flip(model)\n",
    "test_noise(model)"
   ]
  },
  {
   "cell_type": "code",
   "execution_count": 10,
   "metadata": {},
   "outputs": [
    {
     "data": {
      "text/plain": [
       "<matplotlib.image.AxesImage at 0x21bfe1a33d0>"
      ]
     },
     "execution_count": 10,
     "metadata": {},
     "output_type": "execute_result"
    },
    {
     "data": {
      "image/png": "[encoded data removed]",
      "text/plain": [
       "<Figure size 432x288 with 1 Axes>"
      ]
     },
     "metadata": {
      "needs_background": "light"
     },
     "output_type": "display_data"
    }
   ],
   "source": [
    "\n",
    "gaussian_noise_transform = transforms.Compose(\n",
    "        [transforms.Resize((32, 32)),\n",
    "        transforms.ToTensor(),\n",
    "        transforms.Lambda(lambda x : x + 1*torch.randn_like(x))\n",
    "        ])\n",
    "        \n",
    "# validation dataset and dataloader\n",
    "gaussian_noise_dataset = torchvision.datasets.MNIST(root='./data', train=False,\n",
    "                                        download=download_data, \n",
    "                                        transform=gaussian_noise_transform)\n",
    "gaussian_noise_dataloader = torch.utils.data.DataLoader(gaussian_noise_dataset, \n",
    "                                            batch_size=batch_size,\n",
    "                                            shuffle=False)\n",
    "images, labels = next(iter(gaussian_noise_dataloader))\n",
    "plt.imshow(images[4].reshape(32,32), cmap=\"gray\")"
   ]
  },
  {
   "cell_type": "code",
   "execution_count": 11,
   "metadata": {},
   "outputs": [
    {
     "data": {
      "text/plain": [
       "<matplotlib.image.AxesImage at 0x21b87139600>"
      ]
     },
     "execution_count": 11,
     "metadata": {},
     "output_type": "execute_result"
    },
    {
     "data": {
      "image/png": "[encoded data removed]",
      "text/plain": [
       "<Figure size 432x288 with 1 Axes>"
      ]
     },
     "metadata": {
      "needs_background": "light"
     },
     "output_type": "display_data"
    }
   ],
   "source": [
    "gaussian_noise_transform = transforms.Compose(\n",
    "        [transforms.Resize((32, 32)),\n",
    "        transforms.ToTensor(),\n",
    "        transforms.Lambda(lambda x : x + math.sqrt(0.1)*torch.randn_like(x))\n",
    "        ])\n",
    "        \n",
    "# validation dataset and dataloader\n",
    "gaussian_noise_dataset = torchvision.datasets.MNIST(root='./data', train=False,\n",
    "                                        download=download_data, \n",
    "                                        transform=gaussian_noise_transform)\n",
    "gaussian_noise_dataloader = torch.utils.data.DataLoader(gaussian_noise_dataset, \n",
    "                                            batch_size=batch_size,\n",
    "                                            shuffle=False)\n",
    "images, labels = next(iter(gaussian_noise_dataloader))\n",
    "plt.imshow(images[4].reshape(32,32), cmap=\"gray\")"
   ]
  },
  {
   "cell_type": "code",
   "execution_count": 12,
   "metadata": {},
   "outputs": [
    {
     "ename": "SyntaxError",
     "evalue": "incomplete input (1995818979.py, line 15)",
     "output_type": "error",
     "traceback": [
      "\u001b[1;36m  Input \u001b[1;32mIn [12]\u001b[1;36m\u001b[0m\n\u001b[1;33m    plt.imshow(images[4].reshape(32,32), cmap=\"gray\")\\\u001b[0m\n\u001b[1;37m                                                      ^\u001b[0m\n\u001b[1;31mSyntaxError\u001b[0m\u001b[1;31m:\u001b[0m incomplete input\n"
     ]
    }
   ],
   "source": [
    "gaussian_min_noise_transform = transforms.Compose(\n",
    "        [transforms.Resize((32, 32)),\n",
    "        transforms.ToTensor(),\n",
    "        transforms.Lambda(lambda x : x + math.sqrt(0.01)*torch.randn_like(x))\n",
    "        ])\n",
    "        \n",
    "# validation dataset and dataloader\n",
    "gaussian_min_noise_dataset = torchvision.datasets.MNIST(root='./data', train=False,\n",
    "                                        download=download_data, \n",
    "                                        transform=gaussian_min_noise_transform)\n",
    "gaussian_min_noise_dataloader = torch.utils.data.DataLoader(gaussian_min_noise_dataset, \n",
    "                                            batch_size=batch_size,\n",
    "                                            shuffle=False)\n",
    "images, labels = next(iter(gaussian_min_noise_dataloader))\n",
    "plt.imshow(images[4].reshape(32,32), cmap=\"gray\")\\"
   ]
  },
  {
   "cell_type": "code",
   "execution_count": null,
   "metadata": {},
   "outputs": [],
   "source": [
    "aug_lr_transform = transforms.Compose(\n",
    "    [transforms.Resize((32, 32)),\n",
    "     transforms.RandomHorizontalFlip(p=1),\n",
    "     transforms.ToTensor(),\n",
    "     transforms.Lambda(lambda x : x + math.sqrt(0.01)*torch.randn_like(x)),\n",
    "     ])\n",
    "\n",
    "aug_td_transform = transforms.Compose(\n",
    "    [transforms.Resize((32, 32)),\n",
    "     transforms.RandomVerticalFlip(p=1),\n",
    "     transforms.ToTensor(),\n",
    "     transforms.Lambda(lambda x : x + math.sqrt(0.01)*torch.randn_like(x)),\n",
    "     ])\n",
    "\n",
    "# training dataset and data loader\n",
    "aug_lr_dataset = torchvision.datasets.MNIST(root='./data', train=True,\n",
    "                                             download=download_data, \n",
    "                                             transform=aug_lr_transform)\n",
    "\n",
    "# training dataset and data loader\n",
    "aug_td_dataset = torchvision.datasets.MNIST(root='./data', train=True,\n",
    "                                             download=download_data, \n",
    "                                             transform=aug_td_transform)\n",
    "\n",
    "\n",
    "aug_loader_cat = torch.utils.data.ConcatDataset([aug_lr_dataset, aug_td_dataset])\n",
    "aug_loader = torch.utils.data.DataLoader(aug_loader_cat, batch_size=batch_size, shuffle=True)"
   ]
  },
  {
   "cell_type": "code",
   "execution_count": null,
   "metadata": {},
   "outputs": [
    {
     "name": "stdout",
     "output_type": "stream",
     "text": [
      "[INFO]: Epoch 1 of 10\n"
     ]
    },
    {
     "name": "stderr",
     "output_type": "stream",
     "text": [
      "100%|██████████| 3750/3750 [00:37<00:00, 99.46it/s] \n",
      "100%|██████████| 313/313 [00:01<00:00, 216.26it/s]\n"
     ]
    },
    {
     "name": "stdout",
     "output_type": "stream",
     "text": [
      "\n",
      "\n",
      "aug_training loss: 2.026, aug_training acc: 0.313\n",
      "aug_validation loss: 1.758, aug_validation acc: 0.491\n",
      "--------------------------------------------------\n",
      "[INFO]: Epoch 2 of 10\n"
     ]
    },
    {
     "name": "stderr",
     "output_type": "stream",
     "text": [
      "100%|██████████| 3750/3750 [00:37<00:00, 100.70it/s]\n",
      "100%|██████████| 313/313 [00:01<00:00, 214.04it/s]\n"
     ]
    },
    {
     "name": "stdout",
     "output_type": "stream",
     "text": [
      "\n",
      "\n",
      "aug_training loss: 1.833, aug_training acc: 0.327\n",
      "aug_validation loss: 1.748, aug_validation acc: 0.512\n",
      "--------------------------------------------------\n",
      "[INFO]: Epoch 3 of 10\n"
     ]
    },
    {
     "name": "stderr",
     "output_type": "stream",
     "text": [
      "100%|██████████| 3750/3750 [00:37<00:00, 99.87it/s] \n",
      "100%|██████████| 313/313 [00:01<00:00, 215.94it/s]\n"
     ]
    },
    {
     "name": "stdout",
     "output_type": "stream",
     "text": [
      "\n",
      "\n",
      "aug_training loss: 1.793, aug_training acc: 0.331\n",
      "aug_validation loss: 1.743, aug_validation acc: 0.510\n",
      "--------------------------------------------------\n",
      "[INFO]: Epoch 4 of 10\n"
     ]
    },
    {
     "name": "stderr",
     "output_type": "stream",
     "text": [
      "100%|██████████| 3750/3750 [00:36<00:00, 102.06it/s]\n",
      "100%|██████████| 313/313 [00:01<00:00, 223.36it/s]\n"
     ]
    },
    {
     "name": "stdout",
     "output_type": "stream",
     "text": [
      "\n",
      "\n",
      "aug_training loss: 1.783, aug_training acc: 0.328\n",
      "aug_validation loss: 1.795, aug_validation acc: 0.460\n",
      "--------------------------------------------------\n",
      "[INFO]: Epoch 5 of 10\n"
     ]
    },
    {
     "name": "stderr",
     "output_type": "stream",
     "text": [
      "100%|██████████| 3750/3750 [00:36<00:00, 103.57it/s]\n",
      "100%|██████████| 313/313 [00:01<00:00, 221.62it/s]\n"
     ]
    },
    {
     "name": "stdout",
     "output_type": "stream",
     "text": [
      "\n",
      "\n",
      "aug_training loss: 1.768, aug_training acc: 0.331\n",
      "aug_validation loss: 1.762, aug_validation acc: 0.487\n",
      "--------------------------------------------------\n",
      "[INFO]: Epoch 6 of 10\n"
     ]
    },
    {
     "name": "stderr",
     "output_type": "stream",
     "text": [
      "100%|██████████| 3750/3750 [00:36<00:00, 104.12it/s]\n",
      "100%|██████████| 313/313 [00:01<00:00, 224.48it/s]\n"
     ]
    },
    {
     "name": "stdout",
     "output_type": "stream",
     "text": [
      "\n",
      "\n",
      "aug_training loss: 1.759, aug_training acc: 0.331\n",
      "aug_validation loss: 1.749, aug_validation acc: 0.503\n",
      "--------------------------------------------------\n",
      "[INFO]: Epoch 7 of 10\n"
     ]
    },
    {
     "name": "stderr",
     "output_type": "stream",
     "text": [
      "100%|██████████| 3750/3750 [00:35<00:00, 105.11it/s]\n",
      "100%|██████████| 313/313 [00:01<00:00, 222.25it/s]\n"
     ]
    },
    {
     "name": "stdout",
     "output_type": "stream",
     "text": [
      "\n",
      "\n",
      "aug_training loss: 1.761, aug_training acc: 0.329\n",
      "aug_validation loss: 1.891, aug_validation acc: 0.457\n",
      "--------------------------------------------------\n",
      "[INFO]: Epoch 8 of 10\n"
     ]
    },
    {
     "name": "stderr",
     "output_type": "stream",
     "text": [
      "100%|██████████| 3750/3750 [00:36<00:00, 102.50it/s]\n",
      "100%|██████████| 313/313 [00:01<00:00, 217.01it/s]\n"
     ]
    },
    {
     "name": "stdout",
     "output_type": "stream",
     "text": [
      "\n",
      "\n",
      "aug_training loss: 1.752, aug_training acc: 0.332\n",
      "aug_validation loss: 1.766, aug_validation acc: 0.469\n",
      "--------------------------------------------------\n",
      "[INFO]: Epoch 9 of 10\n"
     ]
    },
    {
     "name": "stderr",
     "output_type": "stream",
     "text": [
      "100%|██████████| 3750/3750 [00:37<00:00, 99.94it/s] \n",
      "100%|██████████| 313/313 [00:01<00:00, 214.04it/s]\n"
     ]
    },
    {
     "name": "stdout",
     "output_type": "stream",
     "text": [
      "\n",
      "\n",
      "aug_training loss: 1.750, aug_training acc: 0.331\n",
      "aug_validation loss: 1.694, aug_validation acc: 0.483\n",
      "--------------------------------------------------\n",
      "[INFO]: Epoch 10 of 10\n"
     ]
    },
    {
     "name": "stderr",
     "output_type": "stream",
     "text": [
      "100%|██████████| 3750/3750 [00:37<00:00, 100.66it/s]\n",
      "100%|██████████| 313/313 [00:01<00:00, 213.75it/s]"
     ]
    },
    {
     "name": "stdout",
     "output_type": "stream",
     "text": [
      "\n",
      "\n",
      "aug_training loss: 1.745, aug_training acc: 0.333\n",
      "aug_validation loss: 1.692, aug_validation acc: 0.485\n",
      "--------------------------------------------------\n"
     ]
    },
    {
     "name": "stderr",
     "output_type": "stream",
     "text": [
      "\n"
     ]
    }
   ],
   "source": [
    "aug_loss_func = nn.CrossEntropyLoss()\n",
    "aug_model = VGG11().to(device)\n",
    "aug_optimizer = optim.SGD(aug_model.parameters(), lr=0.01)\n",
    "\n",
    "aug_train_loss, aug_valid_loss = [], []\n",
    "aug_train_acc, aug_valid_acc = [], []\n",
    "for epoch in range(epochs):\n",
    "    print(f\"[INFO]: Epoch {epoch+1} of {epochs}\")\n",
    "    aug_train_epoch_loss, aug_train_epoch_acc = train(aug_model, aug_loader, \n",
    "                                              aug_optimizer, aug_loss_func)\n",
    "    aug_valid_epoch_loss, aug_valid_epoch_acc = validate(aug_model, valid_dataloader,  \n",
    "                                                 aug_loss_func)\n",
    "    aug_train_loss.append(aug_train_epoch_loss)\n",
    "    aug_valid_loss.append(aug_valid_epoch_loss)\n",
    "    aug_train_acc.append(aug_train_epoch_acc)\n",
    "    aug_valid_acc.append(aug_valid_epoch_acc)\n",
    "    print('\\n')\n",
    "    print(f\"aug_training loss: {aug_train_epoch_loss:.3f}, aug_training acc: {aug_train_epoch_acc:.3f}\")\n",
    "    print(f\"aug_validation loss: {aug_valid_epoch_loss:.3f}, aug_validation acc: {aug_valid_epoch_acc:.3f}\")\n",
    "    print('-'*50)"
   ]
  },
  {
   "cell_type": "code",
   "execution_count": null,
   "metadata": {},
   "outputs": [],
   "source": [
    "aug_lr_transform = transforms.Compose(\n",
    "    [transforms.Resize((32, 32)),\n",
    "     transforms.RandomHorizontalFlip(p=1),\n",
    "     transforms.ToTensor(),\n",
    "     transforms.Lambda(lambda x : x + math.sqrt(0.01)*torch.randn_like(x)),\n",
    "     ])\n",
    "\n",
    "aug_td_transform = transforms.Compose(\n",
    "    [transforms.Resize((32, 32)),\n",
    "     transforms.RandomVerticalFlip(p=1),\n",
    "     transforms.ToTensor(),\n",
    "     transforms.Lambda(lambda x : x + math.sqrt(0.01)*torch.randn_like(x)),\n",
    "     ])\n",
    "\n",
    "# training dataset and data loader\n",
    "aug_lr_dataset = torchvision.datasets.MNIST(root='./data', train=True,\n",
    "                                             download=download_data, \n",
    "                                             transform=aug_lr_transform)\n",
    "\n",
    "# training dataset and data loader\n",
    "aug_td_dataset = torchvision.datasets.MNIST(root='./data', train=True,\n",
    "                                             download=download_data, \n",
    "                                             transform=aug_td_transform)\n",
    "\n",
    "\n",
    "aug_loader_cat = torch.utils.data.ConcatDataset([aug_lr_dataset, aug_td_dataset])\n",
    "aug_loader = torch.utils.data.DataLoader(aug_loader_cat, batch_size=batch_size, shuffle=True)"
   ]
  },
  {
   "cell_type": "code",
   "execution_count": null,
   "metadata": {},
   "outputs": [
    {
     "name": "stderr",
     "output_type": "stream",
     "text": [
      "100%|██████████| 313/313 [00:02<00:00, 143.94it/s]\n",
      "100%|██████████| 313/313 [00:02<00:00, 144.14it/s]\n"
     ]
    },
    {
     "name": "stdout",
     "output_type": "stream",
     "text": [
      "Horizontal flip loss: 0.3185465452008354, Accuracy: 98.75%\n",
      "Vertical flip loss: 0.33421257652413733, Accuracy: 98.71%\n"
     ]
    },
    {
     "name": "stderr",
     "output_type": "stream",
     "text": [
      "100%|██████████| 313/313 [00:01<00:00, 159.58it/s]\n"
     ]
    },
    {
     "name": "stdout",
     "output_type": "stream",
     "text": [
      "Gaussian noise with variance 0.01 loss: 1.7181770721563516, Accuracy: 48.0%\n"
     ]
    },
    {
     "name": "stderr",
     "output_type": "stream",
     "text": [
      "100%|██████████| 313/313 [00:01<00:00, 183.86it/s]\n"
     ]
    },
    {
     "name": "stdout",
     "output_type": "stream",
     "text": [
      "Gaussian noise with variance 0.1 loss: 1.89471795726508, Accuracy: 44.269999999999996%\n"
     ]
    },
    {
     "name": "stderr",
     "output_type": "stream",
     "text": [
      "100%|██████████| 313/313 [00:01<00:00, 168.42it/s]"
     ]
    },
    {
     "name": "stdout",
     "output_type": "stream",
     "text": [
      "Gaussian noise with variance 1 loss: 2.490477479684848, Accuracy: 14.7%\n"
     ]
    },
    {
     "name": "stderr",
     "output_type": "stream",
     "text": [
      "\n"
     ]
    }
   ],
   "source": [
    "test_flip(aug_model)\n",
    "test_noise(aug_model)"
   ]
  },
  {
   "cell_type": "code",
   "execution_count": null,
   "metadata": {},
   "outputs": [],
   "source": []
  }
 ],
 "metadata": {
  "kernelspec": {
   "display_name": "Python 3.10.4 64-bit",
   "language": "python",
   "name": "python3"
  },
  "language_info": {
   "codemirror_mode": {
    "name": "ipython",
    "version": 3
   },
   "file_extension": ".py",
   "mimetype": "text/x-python",
   "name": "python",
   "nbconvert_exporter": "python",
   "pygments_lexer": "ipython3",
   "version": "3.10.4"
  },
  "orig_nbformat": 4,
  "vscode": {
   "interpreter": {
    "hash": "1f8e04c1004ae0e48c4c128aee02bb34a41f967cffe60616a1dbeccdbed98bf0"
   }
  }
 },
 "nbformat": 4,
 "nbformat_minor": 2
}
